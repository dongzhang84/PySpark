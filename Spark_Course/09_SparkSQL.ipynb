{
  "nbformat": 4,
  "nbformat_minor": 0,
  "metadata": {
    "colab": {
      "name": "09_SparkSQL.ipynb",
      "provenance": [],
      "collapsed_sections": []
    },
    "kernelspec": {
      "name": "python3",
      "display_name": "Python 3"
    }
  },
  "cells": [
    {
      "cell_type": "code",
      "metadata": {
        "id": "tu4_d43-Hj-f",
        "colab_type": "code",
        "outputId": "60ca0424-9de1-41b9-d646-a5c504f29e3a",
        "colab": {
          "base_uri": "https://localhost:8080/",
          "height": 34
        }
      },
      "source": [
        "from google.colab import drive\n",
        "drive.mount('/content/gdrive')"
      ],
      "execution_count": 2,
      "outputs": [
        {
          "output_type": "stream",
          "text": [
            "Drive already mounted at /content/gdrive; to attempt to forcibly remount, call drive.mount(\"/content/gdrive\", force_remount=True).\n"
          ],
          "name": "stdout"
        }
      ]
    },
    {
      "cell_type": "code",
      "metadata": {
        "id": "C_E2YNN2H2V3",
        "colab_type": "code",
        "colab": {}
      },
      "source": [
        "DIR = '/content/gdrive/My Drive/Spark_course/data/'\n",
        "\n",
        "!apt-get install openjdk-8-jdk-headless -qq > /dev/null\n",
        "!wget -q http://www-eu.apache.org/dist/spark/spark-2.4.5/spark-2.4.5-bin-hadoop2.7.tgz\n",
        "!tar xf spark-2.4.5-bin-hadoop2.7.tgz\n",
        "!pip install -q findspark\n",
        "\n",
        "import os\n",
        "os.environ[\"JAVA_HOME\"] = \"/usr/lib/jvm/java-8-openjdk-amd64\"\n",
        "os.environ[\"SPARK_HOME\"] = \"/content/spark-2.4.5-bin-hadoop2.7\"\n",
        "\n",
        "import findspark\n",
        "findspark.init(\"spark-2.4.5-bin-hadoop2.7\")# SPARK_HOME\n"
      ],
      "execution_count": 0,
      "outputs": []
    },
    {
      "cell_type": "code",
      "metadata": {
        "id": "b3gWWzS9IOk_",
        "colab_type": "code",
        "colab": {}
      },
      "source": [
        "from pyspark.sql import SparkSession\n",
        "from pyspark.sql import Row\n",
        "\n",
        "import collections\n",
        "\n",
        "# Create a SparkSession (Note, the config section is only for Windows!)\n",
        "spark = SparkSession.builder.appName(\"SparkSQL\").getOrCreate()"
      ],
      "execution_count": 0,
      "outputs": []
    },
    {
      "cell_type": "code",
      "metadata": {
        "id": "KpgBPD_kLLiu",
        "colab_type": "code",
        "colab": {}
      },
      "source": [
        "def mapper(line):\n",
        "    fields = line.split(',')\n",
        "    return Row(ID=int(fields[0]), name=str(fields[1].encode(\"utf-8\")), age=int(fields[2]), numFriends=int(fields[3]))"
      ],
      "execution_count": 0,
      "outputs": []
    },
    {
      "cell_type": "code",
      "metadata": {
        "id": "q-TrpQXqLNhI",
        "colab_type": "code",
        "colab": {}
      },
      "source": [
        "lines = spark.sparkContext.textFile(\"/content/gdrive/My Drive/Spark_course/data/fakefriends.csv\")\n",
        "people = lines.map(mapper)"
      ],
      "execution_count": 0,
      "outputs": []
    },
    {
      "cell_type": "code",
      "metadata": {
        "id": "VPb2qwMhLUoF",
        "colab_type": "code",
        "colab": {
          "base_uri": "https://localhost:8080/",
          "height": 221
        },
        "outputId": "a106d221-2449-4afb-cfe1-e6be7030a3fc"
      },
      "source": [
        "i = 0\n",
        "\n",
        "for result in people.collect():\n",
        "  print(result)\n",
        "\n",
        "  if i > 10:\n",
        "    break\n",
        "\n",
        "  i +=1"
      ],
      "execution_count": 10,
      "outputs": [
        {
          "output_type": "stream",
          "text": [
            "Row(ID=0, age=33, name=\"b'Will'\", numFriends=385)\n",
            "Row(ID=1, age=26, name=\"b'Jean-Luc'\", numFriends=2)\n",
            "Row(ID=2, age=55, name=\"b'Hugh'\", numFriends=221)\n",
            "Row(ID=3, age=40, name=\"b'Deanna'\", numFriends=465)\n",
            "Row(ID=4, age=68, name=\"b'Quark'\", numFriends=21)\n",
            "Row(ID=5, age=59, name=\"b'Weyoun'\", numFriends=318)\n",
            "Row(ID=6, age=37, name=\"b'Gowron'\", numFriends=220)\n",
            "Row(ID=7, age=54, name=\"b'Will'\", numFriends=307)\n",
            "Row(ID=8, age=38, name=\"b'Jadzia'\", numFriends=380)\n",
            "Row(ID=9, age=27, name=\"b'Hugh'\", numFriends=181)\n",
            "Row(ID=10, age=53, name=\"b'Odo'\", numFriends=191)\n",
            "Row(ID=11, age=57, name=\"b'Ben'\", numFriends=372)\n"
          ],
          "name": "stdout"
        }
      ]
    },
    {
      "cell_type": "code",
      "metadata": {
        "id": "K57klm0pLWNs",
        "colab_type": "code",
        "colab": {}
      },
      "source": [
        "# Infer the schema, and register the DataFrame as a table.\n",
        "schemaPeople = spark.createDataFrame(people).cache()\n",
        "schemaPeople.createOrReplaceTempView(\"people\")"
      ],
      "execution_count": 0,
      "outputs": []
    },
    {
      "cell_type": "code",
      "metadata": {
        "id": "MVPC4VI4LkEl",
        "colab_type": "code",
        "colab": {
          "base_uri": "https://localhost:8080/",
          "height": 459
        },
        "outputId": "73b2ea4c-b14e-4e4f-8b1d-a272cbd72a61"
      },
      "source": [
        "schemaPeople.show()"
      ],
      "execution_count": 14,
      "outputs": [
        {
          "output_type": "stream",
          "text": [
            "+---+---+-----------+----------+\n",
            "| ID|age|       name|numFriends|\n",
            "+---+---+-----------+----------+\n",
            "|  0| 33|    b'Will'|       385|\n",
            "|  1| 26|b'Jean-Luc'|         2|\n",
            "|  2| 55|    b'Hugh'|       221|\n",
            "|  3| 40|  b'Deanna'|       465|\n",
            "|  4| 68|   b'Quark'|        21|\n",
            "|  5| 59|  b'Weyoun'|       318|\n",
            "|  6| 37|  b'Gowron'|       220|\n",
            "|  7| 54|    b'Will'|       307|\n",
            "|  8| 38|  b'Jadzia'|       380|\n",
            "|  9| 27|    b'Hugh'|       181|\n",
            "| 10| 53|     b'Odo'|       191|\n",
            "| 11| 57|     b'Ben'|       372|\n",
            "| 12| 54|   b'Keiko'|       253|\n",
            "| 13| 56|b'Jean-Luc'|       444|\n",
            "| 14| 43|    b'Hugh'|        49|\n",
            "| 15| 36|     b'Rom'|        49|\n",
            "| 16| 22|  b'Weyoun'|       323|\n",
            "| 17| 35|     b'Odo'|        13|\n",
            "| 18| 45|b'Jean-Luc'|       455|\n",
            "| 19| 60|  b'Geordi'|       246|\n",
            "+---+---+-----------+----------+\n",
            "only showing top 20 rows\n",
            "\n"
          ],
          "name": "stdout"
        }
      ]
    },
    {
      "cell_type": "code",
      "metadata": {
        "id": "YNnHRxCILl-X",
        "colab_type": "code",
        "colab": {
          "base_uri": "https://localhost:8080/",
          "height": 782
        },
        "outputId": "450b8ff8-083d-4e60-b7a1-251d8510f3e0"
      },
      "source": [
        "# SQL can be run over DataFrames that have been registered as a table.\n",
        "teenagers = spark.sql(\"SELECT * FROM people WHERE age >= 13 AND age <= 19\")\n",
        "\n",
        "# The results of SQL queries are RDDs and support all the normal RDD operations.\n",
        "for teen in teenagers.collect():\n",
        "  print(teen)\n",
        "\n",
        "# We can also use functions instead of SQL queries:\n",
        "schemaPeople.groupBy(\"age\").count().orderBy(\"age\").show()"
      ],
      "execution_count": 15,
      "outputs": [
        {
          "output_type": "stream",
          "text": [
            "Row(ID=21, age=19, name=\"b'Miles'\", numFriends=268)\n",
            "Row(ID=52, age=19, name=\"b'Beverly'\", numFriends=269)\n",
            "Row(ID=54, age=19, name=\"b'Brunt'\", numFriends=5)\n",
            "Row(ID=106, age=18, name=\"b'Beverly'\", numFriends=499)\n",
            "Row(ID=115, age=18, name=\"b'Dukat'\", numFriends=397)\n",
            "Row(ID=133, age=19, name=\"b'Quark'\", numFriends=265)\n",
            "Row(ID=136, age=19, name=\"b'Will'\", numFriends=335)\n",
            "Row(ID=225, age=19, name=\"b'Elim'\", numFriends=106)\n",
            "Row(ID=304, age=19, name=\"b'Will'\", numFriends=404)\n",
            "Row(ID=341, age=18, name=\"b'Data'\", numFriends=326)\n",
            "Row(ID=366, age=19, name=\"b'Keiko'\", numFriends=119)\n",
            "Row(ID=373, age=19, name=\"b'Quark'\", numFriends=272)\n",
            "Row(ID=377, age=18, name=\"b'Beverly'\", numFriends=418)\n",
            "Row(ID=404, age=18, name=\"b'Kasidy'\", numFriends=24)\n",
            "Row(ID=409, age=19, name=\"b'Nog'\", numFriends=267)\n",
            "Row(ID=439, age=18, name=\"b'Data'\", numFriends=417)\n",
            "Row(ID=444, age=18, name=\"b'Keiko'\", numFriends=472)\n",
            "Row(ID=492, age=19, name=\"b'Dukat'\", numFriends=36)\n",
            "Row(ID=494, age=18, name=\"b'Kasidy'\", numFriends=194)\n",
            "+---+-----+\n",
            "|age|count|\n",
            "+---+-----+\n",
            "| 18|    8|\n",
            "| 19|   11|\n",
            "| 20|    5|\n",
            "| 21|    8|\n",
            "| 22|    7|\n",
            "| 23|   10|\n",
            "| 24|    5|\n",
            "| 25|   11|\n",
            "| 26|   17|\n",
            "| 27|    8|\n",
            "| 28|   10|\n",
            "| 29|   12|\n",
            "| 30|   11|\n",
            "| 31|    8|\n",
            "| 32|   11|\n",
            "| 33|   12|\n",
            "| 34|    6|\n",
            "| 35|    8|\n",
            "| 36|   10|\n",
            "| 37|    9|\n",
            "+---+-----+\n",
            "only showing top 20 rows\n",
            "\n"
          ],
          "name": "stdout"
        }
      ]
    },
    {
      "cell_type": "code",
      "metadata": {
        "id": "MtPsVsFpLsvq",
        "colab_type": "code",
        "colab": {}
      },
      "source": [
        ""
      ],
      "execution_count": 0,
      "outputs": []
    },
    {
      "cell_type": "code",
      "metadata": {
        "id": "68mqqunuLvXk",
        "colab_type": "code",
        "colab": {}
      },
      "source": [
        ""
      ],
      "execution_count": 0,
      "outputs": []
    },
    {
      "cell_type": "code",
      "metadata": {
        "id": "je_BkzAzLvaL",
        "colab_type": "code",
        "colab": {}
      },
      "source": [
        "from pyspark.sql import SparkSession\n",
        "from pyspark.sql import Row\n",
        "from pyspark.sql import functions"
      ],
      "execution_count": 0,
      "outputs": []
    },
    {
      "cell_type": "code",
      "metadata": {
        "id": "7m3cLO9tL3ky",
        "colab_type": "code",
        "colab": {}
      },
      "source": [
        "def loadMovieNames():\n",
        "    movieNames = {}\n",
        "    with open(\"/content/gdrive/My Drive/Spark_course/data/ml-100k/u.item\", encoding = \"ISO-8859-1\") as f:\n",
        "        for line in f:\n",
        "            fields = line.split('|')\n",
        "            movieNames[int(fields[0])] = fields[1]\n",
        "    return movieNames"
      ],
      "execution_count": 0,
      "outputs": []
    },
    {
      "cell_type": "code",
      "metadata": {
        "id": "qx9brsxCL8Wx",
        "colab_type": "code",
        "colab": {}
      },
      "source": [
        "# Create a SparkSession (the config bit is only for Windows!)\n",
        "spark = SparkSession.builder.appName(\"PopularMovies\").getOrCreate()"
      ],
      "execution_count": 0,
      "outputs": []
    },
    {
      "cell_type": "code",
      "metadata": {
        "id": "aivLr4_FL_Fw",
        "colab_type": "code",
        "colab": {}
      },
      "source": [
        "# Load up our movie ID -> name dictionary\n",
        "nameDict = loadMovieNames()"
      ],
      "execution_count": 0,
      "outputs": []
    },
    {
      "cell_type": "code",
      "metadata": {
        "id": "2FiNx6p9MA2p",
        "colab_type": "code",
        "colab": {}
      },
      "source": [
        "# Get the raw data\n",
        "lines = spark.sparkContext.textFile(\"/content/gdrive/My Drive/Spark_course/data/ml-100k/u.data\")\n",
        "# Convert it to a RDD of Row objects\n",
        "movies = lines.map(lambda x: Row(movieID =int(x.split()[1])))\n",
        "# Convert that to a DataFrame\n",
        "movieDataset = spark.createDataFrame(movies)"
      ],
      "execution_count": 0,
      "outputs": []
    },
    {
      "cell_type": "code",
      "metadata": {
        "id": "tqhVpQXyMP4l",
        "colab_type": "code",
        "colab": {
          "base_uri": "https://localhost:8080/",
          "height": 459
        },
        "outputId": "e9b37304-0e42-4580-e80a-e805ea9623c9"
      },
      "source": [
        "movieDataset.show()"
      ],
      "execution_count": 27,
      "outputs": [
        {
          "output_type": "stream",
          "text": [
            "+-------+\n",
            "|movieID|\n",
            "+-------+\n",
            "|    242|\n",
            "|    302|\n",
            "|    377|\n",
            "|     51|\n",
            "|    346|\n",
            "|    474|\n",
            "|    265|\n",
            "|    465|\n",
            "|    451|\n",
            "|     86|\n",
            "|    257|\n",
            "|   1014|\n",
            "|    222|\n",
            "|     40|\n",
            "|     29|\n",
            "|    785|\n",
            "|    387|\n",
            "|    274|\n",
            "|   1042|\n",
            "|   1184|\n",
            "+-------+\n",
            "only showing top 20 rows\n",
            "\n"
          ],
          "name": "stdout"
        }
      ]
    },
    {
      "cell_type": "code",
      "metadata": {
        "id": "wFRKHxHZMRoi",
        "colab_type": "code",
        "colab": {}
      },
      "source": [
        "# Some SQL-style magic to sort all movies by popularity in one line!\n",
        "topMovieIDs = movieDataset.groupBy(\"movieID\").count().orderBy(\"count\", ascending=False).cache()"
      ],
      "execution_count": 0,
      "outputs": []
    },
    {
      "cell_type": "code",
      "metadata": {
        "id": "6_T1Cm28MW95",
        "colab_type": "code",
        "colab": {
          "base_uri": "https://localhost:8080/",
          "height": 969
        },
        "outputId": "3a875dfd-2190-40a5-eb59-017860a0e271"
      },
      "source": [
        "topMovieIDs.show(50)"
      ],
      "execution_count": 31,
      "outputs": [
        {
          "output_type": "stream",
          "text": [
            "+-------+-----+\n",
            "|movieID|count|\n",
            "+-------+-----+\n",
            "|     50|  583|\n",
            "|    258|  509|\n",
            "|    100|  508|\n",
            "|    181|  507|\n",
            "|    294|  485|\n",
            "|    286|  481|\n",
            "|    288|  478|\n",
            "|      1|  452|\n",
            "|    300|  431|\n",
            "|    121|  429|\n",
            "|    174|  420|\n",
            "|    127|  413|\n",
            "|     56|  394|\n",
            "|      7|  392|\n",
            "|     98|  390|\n",
            "|    237|  384|\n",
            "|    117|  378|\n",
            "|    172|  367|\n",
            "|    222|  365|\n",
            "|    313|  350|\n",
            "|    204|  350|\n",
            "|    405|  344|\n",
            "|     79|  336|\n",
            "|    210|  331|\n",
            "|    151|  326|\n",
            "|    173|  324|\n",
            "|     69|  321|\n",
            "|    748|  316|\n",
            "|    168|  316|\n",
            "|    269|  315|\n",
            "|    257|  303|\n",
            "|    195|  301|\n",
            "|    423|  300|\n",
            "|      9|  299|\n",
            "|    276|  298|\n",
            "|    318|  298|\n",
            "|     22|  297|\n",
            "|    302|  297|\n",
            "|     96|  295|\n",
            "|    328|  295|\n",
            "|     25|  293|\n",
            "|    118|  293|\n",
            "|     15|  293|\n",
            "|    183|  291|\n",
            "|    216|  290|\n",
            "|    176|  284|\n",
            "|     64|  283|\n",
            "|    202|  280|\n",
            "|    234|  280|\n",
            "|    191|  276|\n",
            "+-------+-----+\n",
            "only showing top 50 rows\n",
            "\n"
          ],
          "name": "stdout"
        }
      ]
    },
    {
      "cell_type": "code",
      "metadata": {
        "id": "_uU6EDHWMYRJ",
        "colab_type": "code",
        "colab": {
          "base_uri": "https://localhost:8080/",
          "height": 221
        },
        "outputId": "dfc3f316-af50-4c6f-9d4b-f069dbb2de29"
      },
      "source": [
        "# Grab the top 10\n",
        "top10 = topMovieIDs.take(10)\n",
        "\n",
        "# Print the results\n",
        "print(\"\\n\")\n",
        "for result in top10:\n",
        "    # Each row has movieID, count as above.\n",
        "    print(\"%s: %d\" % (nameDict[result[0]], result[1]))\n",
        "\n",
        "# Stop the session\n",
        "spark.stop()"
      ],
      "execution_count": 32,
      "outputs": [
        {
          "output_type": "stream",
          "text": [
            "\n",
            "\n",
            "Star Wars (1977): 583\n",
            "Contact (1997): 509\n",
            "Fargo (1996): 508\n",
            "Return of the Jedi (1983): 507\n",
            "Liar Liar (1997): 485\n",
            "English Patient, The (1996): 481\n",
            "Scream (1996): 478\n",
            "Toy Story (1995): 452\n",
            "Air Force One (1997): 431\n",
            "Independence Day (ID4) (1996): 429\n"
          ],
          "name": "stdout"
        }
      ]
    },
    {
      "cell_type": "code",
      "metadata": {
        "id": "2KJ4rLijMgs9",
        "colab_type": "code",
        "colab": {}
      },
      "source": [
        ""
      ],
      "execution_count": 0,
      "outputs": []
    }
  ]
}