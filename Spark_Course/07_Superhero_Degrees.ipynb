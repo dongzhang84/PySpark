{
  "nbformat": 4,
  "nbformat_minor": 0,
  "metadata": {
    "colab": {
      "name": "07_Superhero Degrees.ipynb",
      "provenance": [],
      "collapsed_sections": []
    },
    "kernelspec": {
      "name": "python3",
      "display_name": "Python 3"
    }
  },
  "cells": [
    {
      "cell_type": "code",
      "metadata": {
        "id": "BOBeVlFnLzct",
        "colab_type": "code",
        "colab": {
          "base_uri": "https://localhost:8080/",
          "height": 34
        },
        "outputId": "eceac3d5-00c5-4c96-d869-44a8769f4156"
      },
      "source": [
        "from google.colab import drive\n",
        "drive.mount('/content/gdrive')"
      ],
      "execution_count": 3,
      "outputs": [
        {
          "output_type": "stream",
          "text": [
            "Drive already mounted at /content/gdrive; to attempt to forcibly remount, call drive.mount(\"/content/gdrive\", force_remount=True).\n"
          ],
          "name": "stdout"
        }
      ]
    },
    {
      "cell_type": "code",
      "metadata": {
        "id": "9QDedSAXL2Zs",
        "colab_type": "code",
        "colab": {}
      },
      "source": [
        "DIR = '/content/gdrive/My Drive/Spark_course/data/'\n",
        "\n",
        "!apt-get install openjdk-8-jdk-headless -qq > /dev/null\n",
        "!wget -q http://www-eu.apache.org/dist/spark/spark-2.4.5/spark-2.4.5-bin-hadoop2.7.tgz\n",
        "!tar xf spark-2.4.5-bin-hadoop2.7.tgz\n",
        "!pip install -q findspark\n",
        "\n",
        "import os\n",
        "os.environ[\"JAVA_HOME\"] = \"/usr/lib/jvm/java-8-openjdk-amd64\"\n",
        "os.environ[\"SPARK_HOME\"] = \"/content/spark-2.4.5-bin-hadoop2.7\"\n",
        "\n",
        "import findspark\n",
        "findspark.init(\"spark-2.4.5-bin-hadoop2.7\")# SPARK_HOME"
      ],
      "execution_count": 0,
      "outputs": []
    },
    {
      "cell_type": "code",
      "metadata": {
        "id": "3BXYrvY5L__K",
        "colab_type": "code",
        "colab": {}
      },
      "source": [
        "from pyspark import SparkConf, SparkContext\n",
        "\n",
        "conf = SparkConf().setMaster(\"local\").setAppName(\"PopularHero\")\n",
        "sc = SparkContext(conf = conf)"
      ],
      "execution_count": 0,
      "outputs": []
    },
    {
      "cell_type": "code",
      "metadata": {
        "id": "1Jo3807qOE2o",
        "colab_type": "code",
        "colab": {}
      },
      "source": [
        "def countCoOccurences(line):\n",
        "    elements = line.split()\n",
        "    return (int(elements[0]), len(elements) - 1)"
      ],
      "execution_count": 0,
      "outputs": []
    },
    {
      "cell_type": "code",
      "metadata": {
        "id": "1Yp-u997OMJ0",
        "colab_type": "code",
        "colab": {}
      },
      "source": [
        "def parseNames(line):\n",
        "    fields = line.split('\\\"')\n",
        "    return (int(fields[0]), fields[1].encode(\"utf8\"))"
      ],
      "execution_count": 0,
      "outputs": []
    },
    {
      "cell_type": "code",
      "metadata": {
        "id": "37IwOGZ-OTbe",
        "colab_type": "code",
        "colab": {}
      },
      "source": [
        "names = sc.textFile(\"/content/gdrive/My Drive/Spark_course/data/marvel-names.txt\")\n",
        "namesRdd = names.map(parseNames)"
      ],
      "execution_count": 0,
      "outputs": []
    },
    {
      "cell_type": "code",
      "metadata": {
        "id": "Urf01uxuOU2J",
        "colab_type": "code",
        "colab": {}
      },
      "source": [
        "#namesRdd.collect()"
      ],
      "execution_count": 0,
      "outputs": []
    },
    {
      "cell_type": "code",
      "metadata": {
        "id": "dqvAqWIZOZOx",
        "colab_type": "code",
        "colab": {}
      },
      "source": [
        "lines = sc.textFile(\"/content/gdrive/My Drive/Spark_course/data/marvel-graph.txt\")\n",
        "\n",
        "pairings = lines.map(countCoOccurences)"
      ],
      "execution_count": 0,
      "outputs": []
    },
    {
      "cell_type": "code",
      "metadata": {
        "id": "rJoufdxHOi8c",
        "colab_type": "code",
        "colab": {}
      },
      "source": [
        "#pairings.collect()"
      ],
      "execution_count": 0,
      "outputs": []
    },
    {
      "cell_type": "code",
      "metadata": {
        "id": "WR4SyZ5QOkdZ",
        "colab_type": "code",
        "colab": {}
      },
      "source": [
        "totalFriendsByCharacter = pairings.reduceByKey(lambda x, y : x + y)"
      ],
      "execution_count": 0,
      "outputs": []
    },
    {
      "cell_type": "code",
      "metadata": {
        "id": "nTixeYxWOzWZ",
        "colab_type": "code",
        "colab": {}
      },
      "source": [
        "#totalFriendsByCharacter.collect()"
      ],
      "execution_count": 0,
      "outputs": []
    },
    {
      "cell_type": "code",
      "metadata": {
        "id": "YJLG4I9bO0rl",
        "colab_type": "code",
        "colab": {}
      },
      "source": [
        "flipped = totalFriendsByCharacter.map(lambda z : (z[1], z[0]))"
      ],
      "execution_count": 0,
      "outputs": []
    },
    {
      "cell_type": "code",
      "metadata": {
        "id": "9HV_SEh5O8pu",
        "colab_type": "code",
        "colab": {}
      },
      "source": [
        "mostPopular = flipped.max()"
      ],
      "execution_count": 0,
      "outputs": []
    },
    {
      "cell_type": "code",
      "metadata": {
        "id": "PWicfGL9O-JH",
        "colab_type": "code",
        "colab": {
          "base_uri": "https://localhost:8080/",
          "height": 34
        },
        "outputId": "927df7cb-ebf3-4e6c-8608-70294ba224cb"
      },
      "source": [
        "mostPopular"
      ],
      "execution_count": 19,
      "outputs": [
        {
          "output_type": "execute_result",
          "data": {
            "text/plain": [
              "(1933, 859)"
            ]
          },
          "metadata": {
            "tags": []
          },
          "execution_count": 19
        }
      ]
    },
    {
      "cell_type": "code",
      "metadata": {
        "id": "bMzJtjguO-vf",
        "colab_type": "code",
        "colab": {
          "base_uri": "https://localhost:8080/",
          "height": 34
        },
        "outputId": "4ddd7a29-5c4f-4955-a19c-e424ce5a432f"
      },
      "source": [
        "mostPopularName = namesRdd.lookup(mostPopular[1])[0]\n",
        "mostPopularName"
      ],
      "execution_count": 21,
      "outputs": [
        {
          "output_type": "execute_result",
          "data": {
            "text/plain": [
              "b'CAPTAIN AMERICA'"
            ]
          },
          "metadata": {
            "tags": []
          },
          "execution_count": 21
        }
      ]
    },
    {
      "cell_type": "code",
      "metadata": {
        "id": "NZpOTc3GPA-U",
        "colab_type": "code",
        "colab": {}
      },
      "source": [
        ""
      ],
      "execution_count": 0,
      "outputs": []
    },
    {
      "cell_type": "code",
      "metadata": {
        "id": "_9p429rnRL6I",
        "colab_type": "code",
        "colab": {}
      },
      "source": [
        ""
      ],
      "execution_count": 0,
      "outputs": []
    },
    {
      "cell_type": "code",
      "metadata": {
        "id": "w5rUcYhERL8y",
        "colab_type": "code",
        "colab": {}
      },
      "source": [
        "#Boilerplate stuff:\n",
        "from pyspark import SparkConf, SparkContext\n",
        "\n",
        "conf = SparkConf().setMaster(\"local\").setAppName(\"DegreesOfSeparation\")\n",
        "#sc = SparkContext(conf = conf)\n",
        "\n",
        "# The characters we wish to find the degree of separation between:\n",
        "startCharacterID = 5306 #SpiderMan\n",
        "targetCharacterID = 14  #ADAM 3,031 (who?)"
      ],
      "execution_count": 0,
      "outputs": []
    },
    {
      "cell_type": "code",
      "metadata": {
        "id": "Zh8nDVqISRXx",
        "colab_type": "code",
        "colab": {}
      },
      "source": [
        "# Our accumulator, used to signal when we find the target character during\n",
        "# our BFS traversal.\n",
        "hitCounter = sc.accumulator(0)"
      ],
      "execution_count": 0,
      "outputs": []
    },
    {
      "cell_type": "code",
      "metadata": {
        "id": "Bdb_yYiuSVdg",
        "colab_type": "code",
        "colab": {}
      },
      "source": [
        "def convertToBFS(line):\n",
        "    fields = line.split()\n",
        "    heroID = int(fields[0])\n",
        "    connections = []\n",
        "    for connection in fields[1:]:\n",
        "        connections.append(int(connection))\n",
        "\n",
        "    color = 'WHITE'\n",
        "    distance = 9999\n",
        "\n",
        "    if (heroID == startCharacterID):\n",
        "        color = 'GRAY'\n",
        "        distance = 0\n",
        "\n",
        "    return (heroID, (connections, distance, color))"
      ],
      "execution_count": 0,
      "outputs": []
    },
    {
      "cell_type": "code",
      "metadata": {
        "id": "z0rCzAcISnJs",
        "colab_type": "code",
        "colab": {}
      },
      "source": [
        "def createStartingRdd():\n",
        "    inputFile = sc.textFile(\"/content/gdrive/My Drive/Spark_course/data/marvel-graph.txt\")\n",
        "    return inputFile.map(convertToBFS)"
      ],
      "execution_count": 0,
      "outputs": []
    },
    {
      "cell_type": "code",
      "metadata": {
        "id": "ShW3dLvRSrG0",
        "colab_type": "code",
        "colab": {}
      },
      "source": [
        "def bfsMap(node):\n",
        "    characterID = node[0]\n",
        "    data = node[1]\n",
        "    connections = data[0]\n",
        "    distance = data[1]\n",
        "    color = data[2]\n",
        "\n",
        "    results = []\n",
        "\n",
        "    #If this node needs to be expanded...\n",
        "    if (color == 'GRAY'):\n",
        "        for connection in connections:\n",
        "            newCharacterID = connection\n",
        "            newDistance = distance + 1\n",
        "            newColor = 'GRAY'\n",
        "            if (targetCharacterID == connection):\n",
        "                hitCounter.add(1)\n",
        "\n",
        "            newEntry = (newCharacterID, ([], newDistance, newColor))\n",
        "            results.append(newEntry)\n",
        "\n",
        "        #We've processed this node, so color it black\n",
        "        color = 'BLACK'\n",
        "\n",
        "    #Emit the input node so we don't lose it.\n",
        "    results.append( (characterID, (connections, distance, color)) )\n",
        "    return results"
      ],
      "execution_count": 0,
      "outputs": []
    },
    {
      "cell_type": "code",
      "metadata": {
        "id": "P_MN-Gk7Step",
        "colab_type": "code",
        "colab": {}
      },
      "source": [
        "def bfsReduce(data1, data2):\n",
        "    edges1 = data1[0]\n",
        "    edges2 = data2[0]\n",
        "    distance1 = data1[1]\n",
        "    distance2 = data2[1]\n",
        "    color1 = data1[2]\n",
        "    color2 = data2[2]\n",
        "\n",
        "    distance = 9999\n",
        "    color = color1\n",
        "    edges = []\n",
        "\n",
        "    # See if one is the original node with its connections.\n",
        "    # If so preserve them.\n",
        "    if (len(edges1) > 0):\n",
        "        edges.extend(edges1)\n",
        "    if (len(edges2) > 0):\n",
        "        edges.extend(edges2)\n",
        "\n",
        "    # Preserve minimum distance\n",
        "    if (distance1 < distance):\n",
        "        distance = distance1\n",
        "\n",
        "    if (distance2 < distance):\n",
        "        distance = distance2\n",
        "\n",
        "    # Preserve darkest color\n",
        "    if (color1 == 'WHITE' and (color2 == 'GRAY' or color2 == 'BLACK')):\n",
        "        color = color2\n",
        "\n",
        "    if (color1 == 'GRAY' and color2 == 'BLACK'):\n",
        "        color = color2\n",
        "\n",
        "    if (color2 == 'WHITE' and (color1 == 'GRAY' or color1 == 'BLACK')):\n",
        "        color = color1\n",
        "\n",
        "    if (color2 == 'GRAY' and color1 == 'BLACK'):\n",
        "        color = color1\n",
        "\n",
        "    return (edges, distance, color)"
      ],
      "execution_count": 0,
      "outputs": []
    },
    {
      "cell_type": "code",
      "metadata": {
        "id": "65hiqloRSwKs",
        "colab_type": "code",
        "colab": {
          "base_uri": "https://localhost:8080/",
          "height": 102
        },
        "outputId": "45dbbefd-69f0-465e-a203-1185bfc3aa84"
      },
      "source": [
        "#Main program here:\n",
        "iterationRdd = createStartingRdd()\n",
        "\n",
        "for iteration in range(0, 10):\n",
        "    print(\"Running BFS iteration# \" + str(iteration+1))\n",
        "\n",
        "    # Create new vertices as needed to darken or reduce distances in the\n",
        "    # reduce stage. If we encounter the node we're looking for as a GRAY\n",
        "    # node, increment our accumulator to signal that we're done.\n",
        "    mapped = iterationRdd.flatMap(bfsMap)\n",
        "\n",
        "    # Note that mapped.count() action here forces the RDD to be evaluated, and\n",
        "    # that's the only reason our accumulator is actually updated.\n",
        "    print(\"Processing \" + str(mapped.count()) + \" values.\")\n",
        "\n",
        "    if (hitCounter.value > 0):\n",
        "        print(\"Hit the target character! From \" + str(hitCounter.value) \\\n",
        "            + \" different direction(s).\")\n",
        "        break\n",
        "\n",
        "    # Reducer combines data for each character ID, preserving the darkest\n",
        "    # color and shortest path.\n",
        "    iterationRdd = mapped.reduceByKey(bfsReduce)\n"
      ],
      "execution_count": 29,
      "outputs": [
        {
          "output_type": "stream",
          "text": [
            "Running BFS iteration# 1\n",
            "Processing 8330 values.\n",
            "Running BFS iteration# 2\n",
            "Processing 220615 values.\n",
            "Hit the target character! From 1 different direction(s).\n"
          ],
          "name": "stdout"
        }
      ]
    },
    {
      "cell_type": "code",
      "metadata": {
        "id": "6J-MxaZlSyTB",
        "colab_type": "code",
        "colab": {}
      },
      "source": [
        ""
      ],
      "execution_count": 0,
      "outputs": []
    }
  ]
}