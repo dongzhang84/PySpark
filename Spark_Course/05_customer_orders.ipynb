{
  "nbformat": 4,
  "nbformat_minor": 0,
  "metadata": {
    "colab": {
      "name": "05_customer orders.ipynb",
      "provenance": []
    },
    "kernelspec": {
      "name": "python3",
      "display_name": "Python 3"
    }
  },
  "cells": [
    {
      "cell_type": "code",
      "metadata": {
        "id": "H8UkGBsNGSCH",
        "colab_type": "code",
        "colab": {
          "base_uri": "https://localhost:8080/",
          "height": 34
        },
        "outputId": "45f861b9-d017-47e6-dd69-befe460384eb"
      },
      "source": [
        "from google.colab import drive\n",
        "drive.mount('/content/gdrive')"
      ],
      "execution_count": 2,
      "outputs": [
        {
          "output_type": "stream",
          "text": [
            "Drive already mounted at /content/gdrive; to attempt to forcibly remount, call drive.mount(\"/content/gdrive\", force_remount=True).\n"
          ],
          "name": "stdout"
        }
      ]
    },
    {
      "cell_type": "code",
      "metadata": {
        "id": "MbEGdMuAGmoc",
        "colab_type": "code",
        "colab": {}
      },
      "source": [
        "DIR = '/content/gdrive/My Drive/Spark_course/data/'\n",
        "\n",
        "!apt-get install openjdk-8-jdk-headless -qq > /dev/null\n",
        "!wget -q http://www-eu.apache.org/dist/spark/spark-2.4.5/spark-2.4.5-bin-hadoop2.7.tgz\n",
        "!tar xf spark-2.4.5-bin-hadoop2.7.tgz\n",
        "!pip install -q findspark\n",
        "\n",
        "import os\n",
        "os.environ[\"JAVA_HOME\"] = \"/usr/lib/jvm/java-8-openjdk-amd64\"\n",
        "os.environ[\"SPARK_HOME\"] = \"/content/spark-2.4.5-bin-hadoop2.7\"\n",
        "\n",
        "import findspark\n",
        "findspark.init(\"spark-2.4.5-bin-hadoop2.7\")# SPARK_HOME"
      ],
      "execution_count": 0,
      "outputs": []
    },
    {
      "cell_type": "code",
      "metadata": {
        "id": "2z5mEvVbGxCm",
        "colab_type": "code",
        "colab": {}
      },
      "source": [
        "from pyspark import SparkConf, SparkContext\n",
        "\n",
        "conf = SparkConf().setMaster(\"local\").setAppName(\"SpendByCustomer\")\n",
        "sc = SparkContext(conf = conf)"
      ],
      "execution_count": 0,
      "outputs": []
    },
    {
      "cell_type": "code",
      "metadata": {
        "id": "P2QDI8D2HGBe",
        "colab_type": "code",
        "colab": {}
      },
      "source": [
        "def extractCustomerPricePairs(line):\n",
        "    fields = line.split(',')\n",
        "    return (int(fields[0]), float(fields[2]))"
      ],
      "execution_count": 0,
      "outputs": []
    },
    {
      "cell_type": "code",
      "metadata": {
        "id": "p238cPvYHHji",
        "colab_type": "code",
        "colab": {}
      },
      "source": [
        "input = sc.textFile(\"/content/gdrive/My Drive/Spark_course/data/customer-orders.csv\")\n",
        "mappedInput = input.map(extractCustomerPricePairs)\n",
        "totalByCustomer = mappedInput.reduceByKey(lambda x, y: x + y)"
      ],
      "execution_count": 0,
      "outputs": []
    },
    {
      "cell_type": "code",
      "metadata": {
        "id": "VW8SXHzTHLF2",
        "colab_type": "code",
        "colab": {
          "base_uri": "https://localhost:8080/",
          "height": 1000
        },
        "outputId": "950598f7-689b-464c-e8c2-4169feabc294"
      },
      "source": [
        "results = totalByCustomer.collect();\n",
        "for result in results:\n",
        "    print(result)"
      ],
      "execution_count": 9,
      "outputs": [
        {
          "output_type": "stream",
          "text": [
            "(44, 4756.8899999999985)\n",
            "(35, 5155.419999999999)\n",
            "(2, 5994.59)\n",
            "(47, 4316.299999999999)\n",
            "(29, 5032.529999999999)\n",
            "(91, 4642.259999999999)\n",
            "(70, 5368.249999999999)\n",
            "(85, 5503.43)\n",
            "(53, 4945.299999999999)\n",
            "(14, 4735.030000000001)\n",
            "(51, 4975.22)\n",
            "(42, 5696.840000000003)\n",
            "(79, 3790.570000000001)\n",
            "(50, 4517.27)\n",
            "(20, 4836.859999999999)\n",
            "(15, 5413.510000000001)\n",
            "(5, 4561.069999999999)\n",
            "(48, 4384.33)\n",
            "(31, 4765.05)\n",
            "(4, 4815.050000000002)\n",
            "(36, 4278.049999999997)\n",
            "(57, 4628.4)\n",
            "(12, 4664.589999999998)\n",
            "(22, 5019.449999999999)\n",
            "(54, 6065.389999999999)\n",
            "(0, 5524.949999999998)\n",
            "(88, 4830.549999999999)\n",
            "(86, 4908.81)\n",
            "(13, 4367.62)\n",
            "(40, 5186.429999999999)\n",
            "(98, 4297.260000000001)\n",
            "(55, 5298.090000000002)\n",
            "(95, 4876.840000000002)\n",
            "(61, 5497.479999999998)\n",
            "(27, 4915.889999999999)\n",
            "(78, 4524.509999999999)\n",
            "(83, 4635.799999999997)\n",
            "(6, 5397.879999999998)\n",
            "(26, 5250.4)\n",
            "(75, 4178.500000000001)\n",
            "(25, 5057.610000000001)\n",
            "(71, 5995.660000000003)\n",
            "(39, 6193.109999999999)\n",
            "(60, 5040.709999999999)\n",
            "(97, 5977.189999999995)\n",
            "(7, 4755.070000000001)\n",
            "(21, 4707.41)\n",
            "(69, 5123.010000000001)\n",
            "(37, 4735.200000000002)\n",
            "(1, 4958.600000000001)\n",
            "(64, 5288.689999999996)\n",
            "(82, 4812.489999999998)\n",
            "(72, 5337.44)\n",
            "(99, 4172.289999999998)\n",
            "(34, 5330.8)\n",
            "(73, 6206.199999999999)\n",
            "(49, 4394.599999999999)\n",
            "(8, 5517.240000000001)\n",
            "(46, 5963.109999999999)\n",
            "(23, 4042.6499999999987)\n",
            "(19, 5059.4299999999985)\n",
            "(65, 5140.3499999999985)\n",
            "(80, 4727.860000000001)\n",
            "(16, 4979.06)\n",
            "(9, 5322.649999999999)\n",
            "(18, 4921.27)\n",
            "(59, 5642.89)\n",
            "(74, 4647.129999999999)\n",
            "(30, 4990.72)\n",
            "(56, 4701.019999999999)\n",
            "(90, 5290.409999999998)\n",
            "(68, 6375.449999999997)\n",
            "(11, 5152.290000000002)\n",
            "(10, 4819.700000000001)\n",
            "(41, 5637.62)\n",
            "(58, 5437.7300000000005)\n",
            "(87, 5206.4)\n",
            "(17, 5032.679999999999)\n",
            "(33, 5254.659999999998)\n",
            "(62, 5253.3200000000015)\n",
            "(92, 5379.280000000002)\n",
            "(76, 4904.209999999999)\n",
            "(66, 4681.919999999999)\n",
            "(43, 5368.83)\n",
            "(52, 5245.059999999999)\n",
            "(77, 4327.729999999999)\n",
            "(81, 5112.709999999999)\n",
            "(84, 4652.939999999999)\n",
            "(3, 4659.63)\n",
            "(93, 5265.750000000001)\n",
            "(89, 4851.479999999999)\n",
            "(45, 3309.38)\n",
            "(24, 5259.920000000003)\n",
            "(96, 3924.230000000001)\n",
            "(67, 4505.79)\n",
            "(63, 5415.150000000001)\n",
            "(94, 4475.569999999999)\n",
            "(32, 5496.050000000004)\n",
            "(38, 4898.460000000002)\n",
            "(28, 5000.709999999998)\n"
          ],
          "name": "stdout"
        }
      ]
    },
    {
      "cell_type": "code",
      "metadata": {
        "id": "85KAEiYkHMc7",
        "colab_type": "code",
        "colab": {}
      },
      "source": [
        ""
      ],
      "execution_count": 0,
      "outputs": []
    }
  ]
}