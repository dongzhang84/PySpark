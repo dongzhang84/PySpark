{
  "nbformat": 4,
  "nbformat_minor": 0,
  "metadata": {
    "colab": {
      "name": "08_Movie Similarity.ipynb",
      "provenance": []
    },
    "kernelspec": {
      "name": "python3",
      "display_name": "Python 3"
    }
  },
  "cells": [
    {
      "cell_type": "code",
      "metadata": {
        "id": "M7vxWx2u2eDN",
        "colab_type": "code",
        "colab": {
          "base_uri": "https://localhost:8080/",
          "height": 34
        },
        "outputId": "9be74d84-bc81-495f-c001-22fea46ed2ec"
      },
      "source": [
        "from google.colab import drive\n",
        "drive.mount('/content/gdrive')"
      ],
      "execution_count": 1,
      "outputs": [
        {
          "output_type": "stream",
          "text": [
            "Drive already mounted at /content/gdrive; to attempt to forcibly remount, call drive.mount(\"/content/gdrive\", force_remount=True).\n"
          ],
          "name": "stdout"
        }
      ]
    },
    {
      "cell_type": "code",
      "metadata": {
        "id": "yu8FcZm92jRl",
        "colab_type": "code",
        "colab": {}
      },
      "source": [
        "DIR = '/content/gdrive/My Drive/Spark_course/data/'\n",
        "\n",
        "!apt-get install openjdk-8-jdk-headless -qq > /dev/null\n",
        "!wget -q http://www-eu.apache.org/dist/spark/spark-2.4.5/spark-2.4.5-bin-hadoop2.7.tgz\n",
        "!tar xf spark-2.4.5-bin-hadoop2.7.tgz\n",
        "!pip install -q findspark\n",
        "\n",
        "import os\n",
        "os.environ[\"JAVA_HOME\"] = \"/usr/lib/jvm/java-8-openjdk-amd64\"\n",
        "os.environ[\"SPARK_HOME\"] = \"/content/spark-2.4.5-bin-hadoop2.7\"\n",
        "\n",
        "import findspark\n",
        "findspark.init(\"spark-2.4.5-bin-hadoop2.7\")# SPARK_HOME"
      ],
      "execution_count": 0,
      "outputs": []
    },
    {
      "cell_type": "code",
      "metadata": {
        "id": "51kxtYSs2sd0",
        "colab_type": "code",
        "colab": {}
      },
      "source": [
        "import sys\n",
        "from pyspark import SparkConf, SparkContext\n",
        "from math import sqrt"
      ],
      "execution_count": 0,
      "outputs": []
    },
    {
      "cell_type": "code",
      "metadata": {
        "id": "AbFh3sAg25zq",
        "colab_type": "code",
        "colab": {}
      },
      "source": [
        "def loadMovieNames():\n",
        "    movieNames = {}\n",
        "    with open(\"/content/gdrive/My Drive/Spark_course/data/ml-100k/u.item\",encoding = \"ISO-8859-1\") as f:\n",
        "        for line in f:\n",
        "            fields = line.split('|')\n",
        "            movieNames[int(fields[0])] = fields[1]\n",
        "    return movieNames"
      ],
      "execution_count": 0,
      "outputs": []
    },
    {
      "cell_type": "code",
      "metadata": {
        "id": "7hQnOFq25O8N",
        "colab_type": "code",
        "colab": {}
      },
      "source": [
        "def makePairs(userRatings):\n",
        "    ratings = userRatings[1]\n",
        "    (movie1, rating1) = ratings[0]\n",
        "    (movie2, rating2) = ratings[1]\n",
        "    return ((movie1, movie2), (rating1, rating2))"
      ],
      "execution_count": 0,
      "outputs": []
    },
    {
      "cell_type": "code",
      "metadata": {
        "id": "-FvZ4xT85eV_",
        "colab_type": "code",
        "colab": {}
      },
      "source": [
        "def filterDuplicates(userRatings):\n",
        "    ratings = userRatings[1]\n",
        "    (movie1, rating1) = ratings[0]\n",
        "    (movie2, rating2) = ratings[1]\n",
        "    return movie1 < movie2"
      ],
      "execution_count": 0,
      "outputs": []
    },
    {
      "cell_type": "code",
      "metadata": {
        "id": "YsBu3Ml75iWu",
        "colab_type": "code",
        "colab": {}
      },
      "source": [
        "def computeCosineSimilarity(ratingPairs):\n",
        "    numPairs = 0\n",
        "    sum_xx = sum_yy = sum_xy = 0\n",
        "    for ratingX, ratingY in ratingPairs:\n",
        "        sum_xx += ratingX * ratingX\n",
        "        sum_yy += ratingY * ratingY\n",
        "        sum_xy += ratingX * ratingY\n",
        "        numPairs += 1\n",
        "\n",
        "    numerator = sum_xy\n",
        "    denominator = sqrt(sum_xx) * sqrt(sum_yy)\n",
        "\n",
        "    score = 0\n",
        "    if (denominator):\n",
        "        score = (numerator / (float(denominator)))\n",
        "\n",
        "    return (score, numPairs)"
      ],
      "execution_count": 0,
      "outputs": []
    },
    {
      "cell_type": "code",
      "metadata": {
        "id": "1cFn21LB5mHI",
        "colab_type": "code",
        "colab": {}
      },
      "source": [
        ""
      ],
      "execution_count": 0,
      "outputs": []
    },
    {
      "cell_type": "code",
      "metadata": {
        "id": "50Ic8L-E5m4u",
        "colab_type": "code",
        "colab": {
          "base_uri": "https://localhost:8080/",
          "height": 51
        },
        "outputId": "5a4187d5-d171-47e6-fc10-1c4f6d5bc2f5"
      },
      "source": [
        "conf = SparkConf().setMaster(\"local[*]\").setAppName(\"MovieSimilarities\")\n",
        "sc = SparkContext(conf = conf)\n",
        "\n",
        "print(\"\\nLoading movie names...\")\n",
        "\n",
        "# Movie name dictionary\n",
        "\n",
        "nameDict = loadMovieNames()"
      ],
      "execution_count": 8,
      "outputs": [
        {
          "output_type": "stream",
          "text": [
            "\n",
            "Loading movie names...\n"
          ],
          "name": "stdout"
        }
      ]
    },
    {
      "cell_type": "code",
      "metadata": {
        "id": "sGVJl-qT5pLL",
        "colab_type": "code",
        "colab": {}
      },
      "source": [
        "#nameDict"
      ],
      "execution_count": 0,
      "outputs": []
    },
    {
      "cell_type": "code",
      "metadata": {
        "id": "u7Tb4wdM5sNh",
        "colab_type": "code",
        "colab": {}
      },
      "source": [
        "data = sc.textFile(\"/content/gdrive/My Drive/Spark_course/data/ml-100k/u.data\")\n",
        "\n",
        "# Map ratings to key / value pairs: user ID => movie ID, rating\n",
        "ratings = data.map(lambda l: l.split()).map(lambda l: (int(l[0]), (int(l[1]), float(l[2]))))"
      ],
      "execution_count": 0,
      "outputs": []
    },
    {
      "cell_type": "code",
      "metadata": {
        "id": "dRhgVnK957uM",
        "colab_type": "code",
        "colab": {
          "base_uri": "https://localhost:8080/",
          "height": 221
        },
        "outputId": "2390c707-6623-4d56-eba8-ab34fbe2c709"
      },
      "source": [
        "i = 0\n",
        "\n",
        "for rating in ratings.collect():\n",
        "  print(rating)\n",
        "\n",
        "  if i > 10:\n",
        "    break\n",
        "  i += 1"
      ],
      "execution_count": 10,
      "outputs": [
        {
          "output_type": "stream",
          "text": [
            "(196, (242, 3.0))\n",
            "(186, (302, 3.0))\n",
            "(22, (377, 1.0))\n",
            "(244, (51, 2.0))\n",
            "(166, (346, 1.0))\n",
            "(298, (474, 4.0))\n",
            "(115, (265, 2.0))\n",
            "(253, (465, 5.0))\n",
            "(305, (451, 3.0))\n",
            "(6, (86, 3.0))\n",
            "(62, (257, 2.0))\n",
            "(286, (1014, 5.0))\n"
          ],
          "name": "stdout"
        }
      ]
    },
    {
      "cell_type": "code",
      "metadata": {
        "id": "WD2Nxvwb58uN",
        "colab_type": "code",
        "colab": {}
      },
      "source": [
        "# At this point our RDD consists of userID => ((movieID, rating), (movieID, rating))\n",
        "\n",
        "joinedRatings = ratings.join(ratings)"
      ],
      "execution_count": 0,
      "outputs": []
    },
    {
      "cell_type": "code",
      "metadata": {
        "id": "iKeSH-1H8ZwI",
        "colab_type": "code",
        "colab": {}
      },
      "source": [
        "# Filter out duplicate pairs\n",
        "uniqueJoinedRatings = joinedRatings.filter(filterDuplicates)"
      ],
      "execution_count": 0,
      "outputs": []
    },
    {
      "cell_type": "code",
      "metadata": {
        "id": "J63IRJm17dF_",
        "colab_type": "code",
        "colab": {
          "base_uri": "https://localhost:8080/",
          "height": 221
        },
        "outputId": "e88389e6-9669-4649-82df-c4f13628097d"
      },
      "source": [
        "i = 0\n",
        "\n",
        "for uniqueJoinedRating in uniqueJoinedRatings.collect():\n",
        "\n",
        "  print(uniqueJoinedRating)\n",
        "\n",
        "  if i > 10:\n",
        "    break\n",
        "  \n",
        "  i +=1"
      ],
      "execution_count": 15,
      "outputs": [
        {
          "output_type": "stream",
          "text": [
            "(196, ((242, 3.0), (393, 4.0)))\n",
            "(196, ((242, 3.0), (381, 4.0)))\n",
            "(196, ((242, 3.0), (251, 3.0)))\n",
            "(196, ((242, 3.0), (655, 5.0)))\n",
            "(196, ((242, 3.0), (306, 4.0)))\n",
            "(196, ((242, 3.0), (663, 5.0)))\n",
            "(196, ((242, 3.0), (580, 2.0)))\n",
            "(196, ((242, 3.0), (286, 5.0)))\n",
            "(196, ((242, 3.0), (692, 5.0)))\n",
            "(196, ((242, 3.0), (428, 4.0)))\n",
            "(196, ((242, 3.0), (1118, 4.0)))\n",
            "(196, ((242, 3.0), (257, 2.0)))\n"
          ],
          "name": "stdout"
        }
      ]
    },
    {
      "cell_type": "code",
      "metadata": {
        "id": "hyrWQ1UX7h23",
        "colab_type": "code",
        "colab": {}
      },
      "source": [
        "# Now key by (movie1, movie2) pairs.\n",
        "moviePairs = uniqueJoinedRatings.map(makePairs)"
      ],
      "execution_count": 0,
      "outputs": []
    },
    {
      "cell_type": "code",
      "metadata": {
        "id": "Vhbuuri59b3K",
        "colab_type": "code",
        "colab": {}
      },
      "source": [
        "# We now have (movie1, movie2) => (rating1, rating2)\n",
        "# Now collect all ratings for each movie pair and compute similarity\n",
        "moviePairRatings = moviePairs.groupByKey()"
      ],
      "execution_count": 0,
      "outputs": []
    },
    {
      "cell_type": "code",
      "metadata": {
        "id": "_F8552_X9_JF",
        "colab_type": "code",
        "colab": {}
      },
      "source": [
        "# We now have (movie1, movie2) = > (rating1, rating2), (rating1, rating2) ...\n",
        "# Can now compute similarities.\n",
        "moviePairSimilarities = moviePairRatings.mapValues(computeCosineSimilarity).cache()"
      ],
      "execution_count": 0,
      "outputs": []
    },
    {
      "cell_type": "code",
      "metadata": {
        "id": "XOsoKQQC-UAP",
        "colab_type": "code",
        "colab": {
          "base_uri": "https://localhost:8080/",
          "height": 232
        },
        "outputId": "eabef8fa-fecc-4723-cdb2-74469ed66f8e"
      },
      "source": [
        "# Extract similarities for the movie we care about that are \"good\".\n",
        "if (len(sys.argv) > 1):\n",
        "\n",
        "    scoreThreshold = 0.97\n",
        "    coOccurenceThreshold = 50\n",
        "\n",
        "    movieID = int(sys.argv[1])\n",
        "\n",
        "    # Filter for movies with this sim that are \"good\" as defined by\n",
        "    # our quality thresholds above\n",
        "    filteredResults = moviePairSimilarities.filter(lambda pairSim: \\\n",
        "        (pairSim[0][0] == movieID or pairSim[0][1] == movieID) \\\n",
        "        and pairSim[1][0] > scoreThreshold and pairSim[1][1] > coOccurenceThreshold)\n",
        "\n",
        "    # Sort by quality score.\n",
        "    results = filteredResults.map(lambda pairSim: (pairSim[1], pairSim[0])).sortByKey(ascending = False).take(10)\n",
        "\n",
        "    print(\"Top 10 similar movies for \" + nameDict[movieID])\n",
        "    for result in results:\n",
        "        (sim, pair) = result\n",
        "        # Display the similarity result that isn't the movie we're looking at\n",
        "        similarMovieID = pair[0]\n",
        "        if (similarMovieID == movieID):\n",
        "            similarMovieID = pair[1]\n",
        "        print(nameDict[similarMovieID] + \"\\tscore: \" + str(sim[0]) + \"\\tstrength: \" + str(sim[1]))\n"
      ],
      "execution_count": 19,
      "outputs": [
        {
          "output_type": "error",
          "ename": "ValueError",
          "evalue": "ignored",
          "traceback": [
            "\u001b[0;31m---------------------------------------------------------------------------\u001b[0m",
            "\u001b[0;31mValueError\u001b[0m                                Traceback (most recent call last)",
            "\u001b[0;32m<ipython-input-19-9567fa51805b>\u001b[0m in \u001b[0;36m<module>\u001b[0;34m()\u001b[0m\n\u001b[1;32m      5\u001b[0m     \u001b[0mcoOccurenceThreshold\u001b[0m \u001b[0;34m=\u001b[0m \u001b[0;36m50\u001b[0m\u001b[0;34m\u001b[0m\u001b[0;34m\u001b[0m\u001b[0m\n\u001b[1;32m      6\u001b[0m \u001b[0;34m\u001b[0m\u001b[0m\n\u001b[0;32m----> 7\u001b[0;31m     \u001b[0mmovieID\u001b[0m \u001b[0;34m=\u001b[0m \u001b[0mint\u001b[0m\u001b[0;34m(\u001b[0m\u001b[0msys\u001b[0m\u001b[0;34m.\u001b[0m\u001b[0margv\u001b[0m\u001b[0;34m[\u001b[0m\u001b[0;36m1\u001b[0m\u001b[0;34m]\u001b[0m\u001b[0;34m)\u001b[0m\u001b[0;34m\u001b[0m\u001b[0;34m\u001b[0m\u001b[0m\n\u001b[0m\u001b[1;32m      8\u001b[0m \u001b[0;34m\u001b[0m\u001b[0m\n\u001b[1;32m      9\u001b[0m     \u001b[0;31m# Filter for movies with this sim that are \"good\" as defined by\u001b[0m\u001b[0;34m\u001b[0m\u001b[0;34m\u001b[0m\u001b[0;34m\u001b[0m\u001b[0m\n",
            "\u001b[0;31mValueError\u001b[0m: invalid literal for int() with base 10: '-f'"
          ]
        }
      ]
    },
    {
      "cell_type": "code",
      "metadata": {
        "id": "k_kBkfkM-yGT",
        "colab_type": "code",
        "colab": {
          "base_uri": "https://localhost:8080/",
          "height": 68
        },
        "outputId": "7ce42a39-c4e6-4828-cdab-8be767ee4b8d"
      },
      "source": [
        "sys.argv"
      ],
      "execution_count": 20,
      "outputs": [
        {
          "output_type": "execute_result",
          "data": {
            "text/plain": [
              "['/usr/local/lib/python3.6/dist-packages/ipykernel_launcher.py',\n",
              " '-f',\n",
              " '/root/.local/share/jupyter/runtime/kernel-e0d7158b-f07b-4ac1-b9ea-3a9fa4a8f447.json']"
            ]
          },
          "metadata": {
            "tags": []
          },
          "execution_count": 20
        }
      ]
    },
    {
      "cell_type": "code",
      "metadata": {
        "id": "e9rvA6Pf_Coy",
        "colab_type": "code",
        "colab": {}
      },
      "source": [
        ""
      ],
      "execution_count": 0,
      "outputs": []
    }
  ]
}