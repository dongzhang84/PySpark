{
 "cells": [
  {
   "cell_type": "code",
   "execution_count": 1,
   "id": "certain-rhythm",
   "metadata": {},
   "outputs": [],
   "source": [
    "import getpass\n",
    "import pandas as pd\n",
    "from sklearn.preprocessing import LabelEncoder"
   ]
  },
  {
   "cell_type": "code",
   "execution_count": 2,
   "id": "french-hours",
   "metadata": {},
   "outputs": [
    {
     "data": {
      "text/plain": [
       "(150, 5)"
      ]
     },
     "execution_count": 2,
     "metadata": {},
     "output_type": "execute_result"
    }
   ],
   "source": [
    "df_iris = pd.read_csv(\"data/iris.csv\")\n",
    "df_iris.shape"
   ]
  },
  {
   "cell_type": "code",
   "execution_count": 3,
   "id": "grave-conspiracy",
   "metadata": {},
   "outputs": [
    {
     "data": {
      "text/html": [
       "<div>\n",
       "<style scoped>\n",
       "    .dataframe tbody tr th:only-of-type {\n",
       "        vertical-align: middle;\n",
       "    }\n",
       "\n",
       "    .dataframe tbody tr th {\n",
       "        vertical-align: top;\n",
       "    }\n",
       "\n",
       "    .dataframe thead th {\n",
       "        text-align: right;\n",
       "    }\n",
       "</style>\n",
       "<table border=\"1\" class=\"dataframe\">\n",
       "  <thead>\n",
       "    <tr style=\"text-align: right;\">\n",
       "      <th></th>\n",
       "      <th>sepal.length</th>\n",
       "      <th>sepal.width</th>\n",
       "      <th>petal.length</th>\n",
       "      <th>petal.width</th>\n",
       "      <th>variety</th>\n",
       "    </tr>\n",
       "  </thead>\n",
       "  <tbody>\n",
       "    <tr>\n",
       "      <th>0</th>\n",
       "      <td>5.1</td>\n",
       "      <td>3.5</td>\n",
       "      <td>1.4</td>\n",
       "      <td>0.2</td>\n",
       "      <td>Setosa</td>\n",
       "    </tr>\n",
       "    <tr>\n",
       "      <th>1</th>\n",
       "      <td>4.9</td>\n",
       "      <td>3.0</td>\n",
       "      <td>1.4</td>\n",
       "      <td>0.2</td>\n",
       "      <td>Setosa</td>\n",
       "    </tr>\n",
       "    <tr>\n",
       "      <th>2</th>\n",
       "      <td>4.7</td>\n",
       "      <td>3.2</td>\n",
       "      <td>1.3</td>\n",
       "      <td>0.2</td>\n",
       "      <td>Setosa</td>\n",
       "    </tr>\n",
       "    <tr>\n",
       "      <th>3</th>\n",
       "      <td>4.6</td>\n",
       "      <td>3.1</td>\n",
       "      <td>1.5</td>\n",
       "      <td>0.2</td>\n",
       "      <td>Setosa</td>\n",
       "    </tr>\n",
       "    <tr>\n",
       "      <th>4</th>\n",
       "      <td>5.0</td>\n",
       "      <td>3.6</td>\n",
       "      <td>1.4</td>\n",
       "      <td>0.2</td>\n",
       "      <td>Setosa</td>\n",
       "    </tr>\n",
       "  </tbody>\n",
       "</table>\n",
       "</div>"
      ],
      "text/plain": [
       "   sepal.length  sepal.width  petal.length  petal.width variety\n",
       "0           5.1          3.5           1.4          0.2  Setosa\n",
       "1           4.9          3.0           1.4          0.2  Setosa\n",
       "2           4.7          3.2           1.3          0.2  Setosa\n",
       "3           4.6          3.1           1.5          0.2  Setosa\n",
       "4           5.0          3.6           1.4          0.2  Setosa"
      ]
     },
     "execution_count": 3,
     "metadata": {},
     "output_type": "execute_result"
    }
   ],
   "source": [
    "df_iris.head()"
   ]
  },
  {
   "cell_type": "code",
   "execution_count": 4,
   "id": "ordinary-thumb",
   "metadata": {},
   "outputs": [],
   "source": [
    "Label = LabelEncoder()\n",
    "\n",
    "Label.fit(df_iris['variety'])\n",
    "df_iris['variety'] = Label.transform(df_iris['variety'])"
   ]
  },
  {
   "cell_type": "code",
   "execution_count": 5,
   "id": "indie-petersburg",
   "metadata": {},
   "outputs": [
    {
     "data": {
      "text/html": [
       "<div>\n",
       "<style scoped>\n",
       "    .dataframe tbody tr th:only-of-type {\n",
       "        vertical-align: middle;\n",
       "    }\n",
       "\n",
       "    .dataframe tbody tr th {\n",
       "        vertical-align: top;\n",
       "    }\n",
       "\n",
       "    .dataframe thead th {\n",
       "        text-align: right;\n",
       "    }\n",
       "</style>\n",
       "<table border=\"1\" class=\"dataframe\">\n",
       "  <thead>\n",
       "    <tr style=\"text-align: right;\">\n",
       "      <th></th>\n",
       "      <th>sepal.length</th>\n",
       "      <th>sepal.width</th>\n",
       "      <th>petal.length</th>\n",
       "      <th>petal.width</th>\n",
       "      <th>variety</th>\n",
       "    </tr>\n",
       "  </thead>\n",
       "  <tbody>\n",
       "    <tr>\n",
       "      <th>0</th>\n",
       "      <td>5.1</td>\n",
       "      <td>3.5</td>\n",
       "      <td>1.4</td>\n",
       "      <td>0.2</td>\n",
       "      <td>0</td>\n",
       "    </tr>\n",
       "    <tr>\n",
       "      <th>1</th>\n",
       "      <td>4.9</td>\n",
       "      <td>3.0</td>\n",
       "      <td>1.4</td>\n",
       "      <td>0.2</td>\n",
       "      <td>0</td>\n",
       "    </tr>\n",
       "    <tr>\n",
       "      <th>2</th>\n",
       "      <td>4.7</td>\n",
       "      <td>3.2</td>\n",
       "      <td>1.3</td>\n",
       "      <td>0.2</td>\n",
       "      <td>0</td>\n",
       "    </tr>\n",
       "    <tr>\n",
       "      <th>3</th>\n",
       "      <td>4.6</td>\n",
       "      <td>3.1</td>\n",
       "      <td>1.5</td>\n",
       "      <td>0.2</td>\n",
       "      <td>0</td>\n",
       "    </tr>\n",
       "    <tr>\n",
       "      <th>4</th>\n",
       "      <td>5.0</td>\n",
       "      <td>3.6</td>\n",
       "      <td>1.4</td>\n",
       "      <td>0.2</td>\n",
       "      <td>0</td>\n",
       "    </tr>\n",
       "  </tbody>\n",
       "</table>\n",
       "</div>"
      ],
      "text/plain": [
       "   sepal.length  sepal.width  petal.length  petal.width  variety\n",
       "0           5.1          3.5           1.4          0.2        0\n",
       "1           4.9          3.0           1.4          0.2        0\n",
       "2           4.7          3.2           1.3          0.2        0\n",
       "3           4.6          3.1           1.5          0.2        0\n",
       "4           5.0          3.6           1.4          0.2        0"
      ]
     },
     "execution_count": 5,
     "metadata": {},
     "output_type": "execute_result"
    }
   ],
   "source": [
    "df_iris.head()"
   ]
  },
  {
   "cell_type": "code",
   "execution_count": 6,
   "id": "limiting-factor",
   "metadata": {},
   "outputs": [
    {
     "data": {
      "text/plain": [
       "0    50\n",
       "1    50\n",
       "2    50\n",
       "Name: variety, dtype: int64"
      ]
     },
     "execution_count": 6,
     "metadata": {},
     "output_type": "execute_result"
    }
   ],
   "source": [
    "df_iris.variety.value_counts()"
   ]
  },
  {
   "cell_type": "code",
   "execution_count": 7,
   "id": "legitimate-database",
   "metadata": {},
   "outputs": [
    {
     "data": {
      "text/plain": [
       "sepal.length    float64\n",
       "sepal.width     float64\n",
       "petal.length    float64\n",
       "petal.width     float64\n",
       "variety           int64\n",
       "dtype: object"
      ]
     },
     "execution_count": 7,
     "metadata": {},
     "output_type": "execute_result"
    }
   ],
   "source": [
    "df_iris.dtypes"
   ]
  },
  {
   "cell_type": "code",
   "execution_count": null,
   "id": "micro-arrest",
   "metadata": {},
   "outputs": [],
   "source": [
    "#df_iris['variety'] = df_iris.variety.apply(lambda x: \"'\"+x+\"'\")"
   ]
  },
  {
   "cell_type": "code",
   "execution_count": 8,
   "id": "continued-ultimate",
   "metadata": {},
   "outputs": [],
   "source": [
    "import mysql.connector"
   ]
  },
  {
   "cell_type": "code",
   "execution_count": 9,
   "id": "cultural-plate",
   "metadata": {},
   "outputs": [
    {
     "name": "stdout",
     "output_type": "stream",
     "text": [
      "Enter password:\n",
      "········\n"
     ]
    }
   ],
   "source": [
    "# input password\n",
    "\n",
    "print(\"Enter password:\")\n",
    "password = getpass.getpass()"
   ]
  },
  {
   "cell_type": "code",
   "execution_count": 10,
   "id": "personal-tooth",
   "metadata": {},
   "outputs": [],
   "source": [
    "db_connection = mysql.connector.connect(host = '127.0.0.1',port = 3306, user = 'root', \n",
    "                                        passwd = password,db = 'mysql')\n",
    "#db_cursor = db_connection.cursor()\n",
    "#db_cursor.execute(\"CREATE DATABASE TestDB;\")\n",
    "#db_cursor.execute(\"USE TestDB;\")"
   ]
  },
  {
   "cell_type": "code",
   "execution_count": 11,
   "id": "composed-strengthening",
   "metadata": {},
   "outputs": [],
   "source": [
    "db_cursor = db_connection.cursor()\n",
    "db_cursor.execute(\"CREATE DATABASE TestDB;\")\n",
    "db_cursor.execute(\"USE TestDB;\")"
   ]
  },
  {
   "cell_type": "code",
   "execution_count": 12,
   "id": "quality-fellowship",
   "metadata": {},
   "outputs": [],
   "source": [
    "# First time create it\n",
    "\n",
    "db_cursor.execute(\"CREATE TABLE iris(sepal_length DECIMAL(2,1) NOT NULL, \\\n",
    "                   sepal_width DECIMAL(2,1) NOT NULL, petal_length DECIMAL(2,1) NOT NULL, \\\n",
    "                   petal_width DECIMAL(2,1), species INT);\")"
   ]
  },
  {
   "cell_type": "code",
   "execution_count": 13,
   "id": "sized-singer",
   "metadata": {},
   "outputs": [],
   "source": [
    "iris_tuples = list(df_iris.itertuples(index=False, name=None))\n",
    "iris_tuples_string = \",\".join([\"(\" + \",\".join([str(w) for w in wt]) + \")\" for wt in iris_tuples])"
   ]
  },
  {
   "cell_type": "code",
   "execution_count": 14,
   "id": "ordered-payment",
   "metadata": {},
   "outputs": [],
   "source": [
    "db_cursor.execute(\"INSERT INTO iris(sepal_length, sepal_width, petal_length, \\\n",
    "                   petal_width, species) VALUES \" + iris_tuples_string + \";\")\n",
    "\n",
    "\n",
    "db_cursor.execute(\"FLUSH TABLES;\")"
   ]
  },
  {
   "cell_type": "code",
   "execution_count": 15,
   "id": "existing-joseph",
   "metadata": {},
   "outputs": [
    {
     "data": {
      "text/plain": [
       "<mysql.connector.cursor.MySQLCursor at 0x7f872c27e190>"
      ]
     },
     "execution_count": 15,
     "metadata": {},
     "output_type": "execute_result"
    }
   ],
   "source": [
    "db_cursor"
   ]
  },
  {
   "cell_type": "code",
   "execution_count": 16,
   "id": "apart-default",
   "metadata": {},
   "outputs": [
    {
     "name": "stdout",
     "output_type": "stream",
     "text": [
      "  sepal.length sepal.width petal.length petal.width  variety\n",
      "0          5.1         3.5          1.4         0.2        0\n",
      "1          4.9         3.0          1.4         0.2        0\n",
      "2          4.7         3.2          1.3         0.2        0\n",
      "3          4.6         3.1          1.5         0.2        0\n",
      "4          5.0         3.6          1.4         0.2        0\n",
      "5          5.4         3.9          1.7         0.4        0\n",
      "6          4.6         3.4          1.4         0.3        0\n",
      "7          5.0         3.4          1.5         0.2        0\n",
      "8          4.4         2.9          1.4         0.2        0\n",
      "9          4.9         3.1          1.5         0.1        0\n"
     ]
    }
   ],
   "source": [
    "# Execute query\n",
    "sql = \"SELECT * FROM iris\"\n",
    "db_cursor.execute(sql)\n",
    "\n",
    "# Fetch all the records\n",
    "tuples = db_cursor.fetchall()\n",
    "\n",
    "# Preparing list of columns for dataframe\n",
    "\n",
    "cols = list(df_iris.columns)\n",
    "df_temp = pd.DataFrame(tuples,columns=cols)\n",
    "\n",
    "print(df_temp.head(10))"
   ]
  },
  {
   "cell_type": "code",
   "execution_count": 17,
   "id": "unauthorized-fellow",
   "metadata": {},
   "outputs": [],
   "source": [
    "from pyspark.sql import SparkSession"
   ]
  },
  {
   "cell_type": "code",
   "execution_count": 18,
   "id": "fiscal-uncertainty",
   "metadata": {},
   "outputs": [],
   "source": [
    "spark = SparkSession.builder.config(\"spark.jars\", \"/usr/share/java/mysql-connector-java-8.0.22.jar\") \\\n",
    "    .master(\"local\").appName(\"PySpark_MySQL_test\").getOrCreate()"
   ]
  },
  {
   "cell_type": "code",
   "execution_count": 19,
   "id": "drawn-today",
   "metadata": {},
   "outputs": [],
   "source": [
    "iris_df = spark.read.format(\"jdbc\").option(\"url\", \"jdbc:mysql://localhost:3306/TestDB\") \\\n",
    "         .option(\"driver\", \"com.mysql.jdbc.Driver\").option(\"dbtable\", \"iris\") \\\n",
    "         .option(\"user\", \"root\").option(\"password\", password).load()"
   ]
  },
  {
   "cell_type": "code",
   "execution_count": 20,
   "id": "marked-pulse",
   "metadata": {},
   "outputs": [
    {
     "data": {
      "text/plain": [
       "DataFrame[sepal_length: decimal(2,1), sepal_width: decimal(2,1), petal_length: decimal(2,1), petal_width: decimal(2,1), species: int]"
      ]
     },
     "execution_count": 20,
     "metadata": {},
     "output_type": "execute_result"
    }
   ],
   "source": [
    "iris_df"
   ]
  },
  {
   "cell_type": "code",
   "execution_count": 21,
   "id": "black-blocking",
   "metadata": {},
   "outputs": [
    {
     "name": "stdout",
     "output_type": "stream",
     "text": [
      "+-----------------+-------+\n",
      "|         features|species|\n",
      "+-----------------+-------+\n",
      "|[4.3,3.0,1.1,0.1]|      0|\n",
      "|[4.4,2.9,1.4,0.2]|      0|\n",
      "|[4.4,3.0,1.3,0.2]|      0|\n",
      "|[4.4,3.2,1.3,0.2]|      0|\n",
      "|[4.5,2.3,1.3,0.3]|      0|\n",
      "+-----------------+-------+\n",
      "only showing top 5 rows\n",
      "\n"
     ]
    }
   ],
   "source": [
    "from pyspark.ml.feature import VectorAssembler\n",
    "\n",
    "train_df, test_df = iris_df.randomSplit([.8, .2], seed=12345)\n",
    "predictors = [\"sepal_length\", \"sepal_width\", \"petal_length\", \"petal_width\"]\n",
    "vec_assembler = VectorAssembler(inputCols=predictors, outputCol=\"features\")\n",
    "vec_train_df = vec_assembler.transform(train_df)\n",
    "vec_train_df.select(\"features\", \"species\").show(5)"
   ]
  },
  {
   "cell_type": "code",
   "execution_count": 22,
   "id": "biblical-gauge",
   "metadata": {},
   "outputs": [],
   "source": [
    "from pyspark.ml.classification import LogisticRegression\n",
    "\n",
    "lr = LogisticRegression(labelCol=\"species\", featuresCol=\"features\")\n",
    "lr_model = lr.fit(vec_train_df)\n",
    "vec_test_df = vec_assembler.transform(test_df)\n",
    "predictions = lr_model.transform(vec_test_df)"
   ]
  },
  {
   "cell_type": "code",
   "execution_count": 23,
   "id": "special-acceptance",
   "metadata": {},
   "outputs": [],
   "source": [
    "from pyspark.ml import Pipeline\n",
    "\n",
    "pipeline = Pipeline(stages=[vec_assembler, lr])\n",
    "pipeline_model = pipeline.fit(train_df)\n",
    "predictions = pipeline_model.transform(test_df)"
   ]
  },
  {
   "cell_type": "code",
   "execution_count": 26,
   "id": "thirty-mumbai",
   "metadata": {},
   "outputs": [
    {
     "data": {
      "text/plain": [
       "1.0"
      ]
     },
     "execution_count": 26,
     "metadata": {},
     "output_type": "execute_result"
    }
   ],
   "source": [
    "from pyspark.ml.evaluation import MulticlassClassificationEvaluator\n",
    "\n",
    "evaluator = MulticlassClassificationEvaluator(labelCol=\"species\")\n",
    "evaluator.evaluate(predictions)"
   ]
  },
  {
   "cell_type": "code",
   "execution_count": null,
   "id": "cross-albany",
   "metadata": {},
   "outputs": [],
   "source": []
  }
 ],
 "metadata": {
  "kernelspec": {
   "display_name": "Python 3",
   "language": "python",
   "name": "python3"
  },
  "language_info": {
   "codemirror_mode": {
    "name": "ipython",
    "version": 3
   },
   "file_extension": ".py",
   "mimetype": "text/x-python",
   "name": "python",
   "nbconvert_exporter": "python",
   "pygments_lexer": "ipython3",
   "version": "3.9.1"
  }
 },
 "nbformat": 4,
 "nbformat_minor": 5
}
