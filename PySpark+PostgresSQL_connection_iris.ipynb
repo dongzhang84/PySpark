{
 "cells": [
  {
   "cell_type": "markdown",
   "id": "organizational-peeing",
   "metadata": {},
   "source": [
    "Some very good link to follow:\n",
    "\n",
    "https://stackoverflow.com/questions/34948296/using-pyspark-to-connect-to-postgresql\n",
    "\n"
   ]
  },
  {
   "cell_type": "code",
   "execution_count": 1,
   "id": "twelve-serve",
   "metadata": {},
   "outputs": [],
   "source": [
    "import psycopg2\n",
    "import getpass\n",
    "import pandas as pd"
   ]
  },
  {
   "cell_type": "code",
   "execution_count": 2,
   "id": "noble-separate",
   "metadata": {},
   "outputs": [
    {
     "name": "stdout",
     "output_type": "stream",
     "text": [
      "Enter password:\n",
      "········\n"
     ]
    }
   ],
   "source": [
    "# input password\n",
    "\n",
    "print(\"Enter password:\")\n",
    "password = getpass.getpass()"
   ]
  },
  {
   "cell_type": "code",
   "execution_count": 3,
   "id": "intelligent-divorce",
   "metadata": {},
   "outputs": [],
   "source": [
    "# Note: please change your database, username & password as per your own values\n",
    "conn_params_dic = {\n",
    "    \"host\"      : \"localhost\",\n",
    "    \"port\"      : \"5432\",\n",
    "    \"database\"  : \"mydb\",\n",
    "    \"user\"      : \"postgres\",\n",
    "    \"password\"  : password\n",
    "}"
   ]
  },
  {
   "cell_type": "code",
   "execution_count": 4,
   "id": "bottom-party",
   "metadata": {},
   "outputs": [],
   "source": [
    "# Load data\n",
    "\n",
    "irisData = pd.read_csv('data/iris.csv')"
   ]
  },
  {
   "cell_type": "code",
   "execution_count": 5,
   "id": "individual-collar",
   "metadata": {},
   "outputs": [],
   "source": [
    "# fit SQL format\n",
    "\n",
    "irisData['variety'] = irisData.variety.apply(lambda x: \"'\"+x+\"'\")"
   ]
  },
  {
   "cell_type": "code",
   "execution_count": 6,
   "id": "united-general",
   "metadata": {},
   "outputs": [
    {
     "data": {
      "text/html": [
       "<div>\n",
       "<style scoped>\n",
       "    .dataframe tbody tr th:only-of-type {\n",
       "        vertical-align: middle;\n",
       "    }\n",
       "\n",
       "    .dataframe tbody tr th {\n",
       "        vertical-align: top;\n",
       "    }\n",
       "\n",
       "    .dataframe thead th {\n",
       "        text-align: right;\n",
       "    }\n",
       "</style>\n",
       "<table border=\"1\" class=\"dataframe\">\n",
       "  <thead>\n",
       "    <tr style=\"text-align: right;\">\n",
       "      <th></th>\n",
       "      <th>sepal.length</th>\n",
       "      <th>sepal.width</th>\n",
       "      <th>petal.length</th>\n",
       "      <th>petal.width</th>\n",
       "      <th>variety</th>\n",
       "    </tr>\n",
       "  </thead>\n",
       "  <tbody>\n",
       "    <tr>\n",
       "      <th>0</th>\n",
       "      <td>5.1</td>\n",
       "      <td>3.5</td>\n",
       "      <td>1.4</td>\n",
       "      <td>0.2</td>\n",
       "      <td>'Setosa'</td>\n",
       "    </tr>\n",
       "    <tr>\n",
       "      <th>1</th>\n",
       "      <td>4.9</td>\n",
       "      <td>3.0</td>\n",
       "      <td>1.4</td>\n",
       "      <td>0.2</td>\n",
       "      <td>'Setosa'</td>\n",
       "    </tr>\n",
       "    <tr>\n",
       "      <th>2</th>\n",
       "      <td>4.7</td>\n",
       "      <td>3.2</td>\n",
       "      <td>1.3</td>\n",
       "      <td>0.2</td>\n",
       "      <td>'Setosa'</td>\n",
       "    </tr>\n",
       "    <tr>\n",
       "      <th>3</th>\n",
       "      <td>4.6</td>\n",
       "      <td>3.1</td>\n",
       "      <td>1.5</td>\n",
       "      <td>0.2</td>\n",
       "      <td>'Setosa'</td>\n",
       "    </tr>\n",
       "    <tr>\n",
       "      <th>4</th>\n",
       "      <td>5.0</td>\n",
       "      <td>3.6</td>\n",
       "      <td>1.4</td>\n",
       "      <td>0.2</td>\n",
       "      <td>'Setosa'</td>\n",
       "    </tr>\n",
       "    <tr>\n",
       "      <th>...</th>\n",
       "      <td>...</td>\n",
       "      <td>...</td>\n",
       "      <td>...</td>\n",
       "      <td>...</td>\n",
       "      <td>...</td>\n",
       "    </tr>\n",
       "    <tr>\n",
       "      <th>145</th>\n",
       "      <td>6.7</td>\n",
       "      <td>3.0</td>\n",
       "      <td>5.2</td>\n",
       "      <td>2.3</td>\n",
       "      <td>'Virginica'</td>\n",
       "    </tr>\n",
       "    <tr>\n",
       "      <th>146</th>\n",
       "      <td>6.3</td>\n",
       "      <td>2.5</td>\n",
       "      <td>5.0</td>\n",
       "      <td>1.9</td>\n",
       "      <td>'Virginica'</td>\n",
       "    </tr>\n",
       "    <tr>\n",
       "      <th>147</th>\n",
       "      <td>6.5</td>\n",
       "      <td>3.0</td>\n",
       "      <td>5.2</td>\n",
       "      <td>2.0</td>\n",
       "      <td>'Virginica'</td>\n",
       "    </tr>\n",
       "    <tr>\n",
       "      <th>148</th>\n",
       "      <td>6.2</td>\n",
       "      <td>3.4</td>\n",
       "      <td>5.4</td>\n",
       "      <td>2.3</td>\n",
       "      <td>'Virginica'</td>\n",
       "    </tr>\n",
       "    <tr>\n",
       "      <th>149</th>\n",
       "      <td>5.9</td>\n",
       "      <td>3.0</td>\n",
       "      <td>5.1</td>\n",
       "      <td>1.8</td>\n",
       "      <td>'Virginica'</td>\n",
       "    </tr>\n",
       "  </tbody>\n",
       "</table>\n",
       "<p>150 rows × 5 columns</p>\n",
       "</div>"
      ],
      "text/plain": [
       "     sepal.length  sepal.width  petal.length  petal.width      variety\n",
       "0             5.1          3.5           1.4          0.2     'Setosa'\n",
       "1             4.9          3.0           1.4          0.2     'Setosa'\n",
       "2             4.7          3.2           1.3          0.2     'Setosa'\n",
       "3             4.6          3.1           1.5          0.2     'Setosa'\n",
       "4             5.0          3.6           1.4          0.2     'Setosa'\n",
       "..            ...          ...           ...          ...          ...\n",
       "145           6.7          3.0           5.2          2.3  'Virginica'\n",
       "146           6.3          2.5           5.0          1.9  'Virginica'\n",
       "147           6.5          3.0           5.2          2.0  'Virginica'\n",
       "148           6.2          3.4           5.4          2.3  'Virginica'\n",
       "149           5.9          3.0           5.1          1.8  'Virginica'\n",
       "\n",
       "[150 rows x 5 columns]"
      ]
     },
     "execution_count": 6,
     "metadata": {},
     "output_type": "execute_result"
    }
   ],
   "source": [
    "irisData"
   ]
  },
  {
   "cell_type": "code",
   "execution_count": 7,
   "id": "elect-personal",
   "metadata": {},
   "outputs": [
    {
     "name": "stdout",
     "output_type": "stream",
     "text": [
      "Connecting to the PostgreSQL...\n",
      "Connection successful...\n"
     ]
    }
   ],
   "source": [
    "print('Connecting to the PostgreSQL...')\n",
    "conn = psycopg2.connect(**conn_params_dic)\n",
    "#conn.autocommit = True\n",
    "print(\"Connection successful...\")"
   ]
  },
  {
   "cell_type": "code",
   "execution_count": 8,
   "id": "worst-swiss",
   "metadata": {},
   "outputs": [],
   "source": [
    "#cursor = conn.cursor();\n",
    "# Dropping table iris if exists\n",
    "#cursor.execute(\"DROP TABLE IF EXISTS iris;\")\n",
    "        \n",
    "#sql = '''CREATE TABLE \"iris\"(\n",
    "#sepal_length DECIMAL(2,1) NOT NULL, \n",
    "#sepal_width DECIMAL(2,1) NOT NULL, \n",
    "#petal_length DECIMAL(2,1) NOT NULL, \n",
    "#petal_width DECIMAL(2,1),\n",
    "#species CHAR(11)NOT NULL\n",
    "#)'''\n",
    "        \n",
    "# Creating a table\n",
    "#cursor.execute(sql);\n",
    "#print(\"iris table is created successfully.\")\n",
    "    \n",
    "# Closing the cursor & connection\n",
    "#cursor.close()"
   ]
  },
  {
   "cell_type": "code",
   "execution_count": 9,
   "id": "developmental-evolution",
   "metadata": {},
   "outputs": [
    {
     "data": {
      "text/plain": [
       "\"(5.1,3.5,1.4,0.2,'Setosa'),(4.9,3.0,1.4,0.2,'Setosa'),(4.7,3.2,1.3,0.2,'Setosa'),(4.6,3.1,1.5,0.2,'Setosa'),(5.0,3.6,1.4,0.2,'Setosa'),(5.4,3.9,1.7,0.4,'Setosa'),(4.6,3.4,1.4,0.3,'Setosa'),(5.0,3.4,1.5,0.2,'Setosa'),(4.4,2.9,1.4,0.2,'Setosa'),(4.9,3.1,1.5,0.1,'Setosa'),(5.4,3.7,1.5,0.2,'Setosa'),(4.8,3.4,1.6,0.2,'Setosa'),(4.8,3.0,1.4,0.1,'Setosa'),(4.3,3.0,1.1,0.1,'Setosa'),(5.8,4.0,1.2,0.2,'Setosa'),(5.7,4.4,1.5,0.4,'Setosa'),(5.4,3.9,1.3,0.4,'Setosa'),(5.1,3.5,1.4,0.3,'Setosa'),(5.7,3.8,1.7,0.3,'Setosa'),(5.1,3.8,1.5,0.3,'Setosa'),(5.4,3.4,1.7,0.2,'Setosa'),(5.1,3.7,1.5,0.4,'Setosa'),(4.6,3.6,1.0,0.2,'Setosa'),(5.1,3.3,1.7,0.5,'Setosa'),(4.8,3.4,1.9,0.2,'Setosa'),(5.0,3.0,1.6,0.2,'Setosa'),(5.0,3.4,1.6,0.4,'Setosa'),(5.2,3.5,1.5,0.2,'Setosa'),(5.2,3.4,1.4,0.2,'Setosa'),(4.7,3.2,1.6,0.2,'Setosa'),(4.8,3.1,1.6,0.2,'Setosa'),(5.4,3.4,1.5,0.4,'Setosa'),(5.2,4.1,1.5,0.1,'Setosa'),(5.5,4.2,1.4,0.2,'Setosa'),(4.9,3.1,1.5,0.2,'Setosa'),(5.0,3.2,1.2,0.2,'Setosa'),(5.5,3.5,1.3,0.2,'Setosa'),(4.9,3.6,1.4,0.1,'Setosa'),(4.4,3.0,1.3,0.2,'Setosa'),(5.1,3.4,1.5,0.2,'Setosa'),(5.0,3.5,1.3,0.3,'Setosa'),(4.5,2.3,1.3,0.3,'Setosa'),(4.4,3.2,1.3,0.2,'Setosa'),(5.0,3.5,1.6,0.6,'Setosa'),(5.1,3.8,1.9,0.4,'Setosa'),(4.8,3.0,1.4,0.3,'Setosa'),(5.1,3.8,1.6,0.2,'Setosa'),(4.6,3.2,1.4,0.2,'Setosa'),(5.3,3.7,1.5,0.2,'Setosa'),(5.0,3.3,1.4,0.2,'Setosa'),(7.0,3.2,4.7,1.4,'Versicolor'),(6.4,3.2,4.5,1.5,'Versicolor'),(6.9,3.1,4.9,1.5,'Versicolor'),(5.5,2.3,4.0,1.3,'Versicolor'),(6.5,2.8,4.6,1.5,'Versicolor'),(5.7,2.8,4.5,1.3,'Versicolor'),(6.3,3.3,4.7,1.6,'Versicolor'),(4.9,2.4,3.3,1.0,'Versicolor'),(6.6,2.9,4.6,1.3,'Versicolor'),(5.2,2.7,3.9,1.4,'Versicolor'),(5.0,2.0,3.5,1.0,'Versicolor'),(5.9,3.0,4.2,1.5,'Versicolor'),(6.0,2.2,4.0,1.0,'Versicolor'),(6.1,2.9,4.7,1.4,'Versicolor'),(5.6,2.9,3.6,1.3,'Versicolor'),(6.7,3.1,4.4,1.4,'Versicolor'),(5.6,3.0,4.5,1.5,'Versicolor'),(5.8,2.7,4.1,1.0,'Versicolor'),(6.2,2.2,4.5,1.5,'Versicolor'),(5.6,2.5,3.9,1.1,'Versicolor'),(5.9,3.2,4.8,1.8,'Versicolor'),(6.1,2.8,4.0,1.3,'Versicolor'),(6.3,2.5,4.9,1.5,'Versicolor'),(6.1,2.8,4.7,1.2,'Versicolor'),(6.4,2.9,4.3,1.3,'Versicolor'),(6.6,3.0,4.4,1.4,'Versicolor'),(6.8,2.8,4.8,1.4,'Versicolor'),(6.7,3.0,5.0,1.7,'Versicolor'),(6.0,2.9,4.5,1.5,'Versicolor'),(5.7,2.6,3.5,1.0,'Versicolor'),(5.5,2.4,3.8,1.1,'Versicolor'),(5.5,2.4,3.7,1.0,'Versicolor'),(5.8,2.7,3.9,1.2,'Versicolor'),(6.0,2.7,5.1,1.6,'Versicolor'),(5.4,3.0,4.5,1.5,'Versicolor'),(6.0,3.4,4.5,1.6,'Versicolor'),(6.7,3.1,4.7,1.5,'Versicolor'),(6.3,2.3,4.4,1.3,'Versicolor'),(5.6,3.0,4.1,1.3,'Versicolor'),(5.5,2.5,4.0,1.3,'Versicolor'),(5.5,2.6,4.4,1.2,'Versicolor'),(6.1,3.0,4.6,1.4,'Versicolor'),(5.8,2.6,4.0,1.2,'Versicolor'),(5.0,2.3,3.3,1.0,'Versicolor'),(5.6,2.7,4.2,1.3,'Versicolor'),(5.7,3.0,4.2,1.2,'Versicolor'),(5.7,2.9,4.2,1.3,'Versicolor'),(6.2,2.9,4.3,1.3,'Versicolor'),(5.1,2.5,3.0,1.1,'Versicolor'),(5.7,2.8,4.1,1.3,'Versicolor'),(6.3,3.3,6.0,2.5,'Virginica'),(5.8,2.7,5.1,1.9,'Virginica'),(7.1,3.0,5.9,2.1,'Virginica'),(6.3,2.9,5.6,1.8,'Virginica'),(6.5,3.0,5.8,2.2,'Virginica'),(7.6,3.0,6.6,2.1,'Virginica'),(4.9,2.5,4.5,1.7,'Virginica'),(7.3,2.9,6.3,1.8,'Virginica'),(6.7,2.5,5.8,1.8,'Virginica'),(7.2,3.6,6.1,2.5,'Virginica'),(6.5,3.2,5.1,2.0,'Virginica'),(6.4,2.7,5.3,1.9,'Virginica'),(6.8,3.0,5.5,2.1,'Virginica'),(5.7,2.5,5.0,2.0,'Virginica'),(5.8,2.8,5.1,2.4,'Virginica'),(6.4,3.2,5.3,2.3,'Virginica'),(6.5,3.0,5.5,1.8,'Virginica'),(7.7,3.8,6.7,2.2,'Virginica'),(7.7,2.6,6.9,2.3,'Virginica'),(6.0,2.2,5.0,1.5,'Virginica'),(6.9,3.2,5.7,2.3,'Virginica'),(5.6,2.8,4.9,2.0,'Virginica'),(7.7,2.8,6.7,2.0,'Virginica'),(6.3,2.7,4.9,1.8,'Virginica'),(6.7,3.3,5.7,2.1,'Virginica'),(7.2,3.2,6.0,1.8,'Virginica'),(6.2,2.8,4.8,1.8,'Virginica'),(6.1,3.0,4.9,1.8,'Virginica'),(6.4,2.8,5.6,2.1,'Virginica'),(7.2,3.0,5.8,1.6,'Virginica'),(7.4,2.8,6.1,1.9,'Virginica'),(7.9,3.8,6.4,2.0,'Virginica'),(6.4,2.8,5.6,2.2,'Virginica'),(6.3,2.8,5.1,1.5,'Virginica'),(6.1,2.6,5.6,1.4,'Virginica'),(7.7,3.0,6.1,2.3,'Virginica'),(6.3,3.4,5.6,2.4,'Virginica'),(6.4,3.1,5.5,1.8,'Virginica'),(6.0,3.0,4.8,1.8,'Virginica'),(6.9,3.1,5.4,2.1,'Virginica'),(6.7,3.1,5.6,2.4,'Virginica'),(6.9,3.1,5.1,2.3,'Virginica'),(5.8,2.7,5.1,1.9,'Virginica'),(6.8,3.2,5.9,2.3,'Virginica'),(6.7,3.3,5.7,2.5,'Virginica'),(6.7,3.0,5.2,2.3,'Virginica'),(6.3,2.5,5.0,1.9,'Virginica'),(6.5,3.0,5.2,2.0,'Virginica'),(6.2,3.4,5.4,2.3,'Virginica'),(5.9,3.0,5.1,1.8,'Virginica')\""
      ]
     },
     "execution_count": 9,
     "metadata": {},
     "output_type": "execute_result"
    }
   ],
   "source": [
    "iris_tuples = list(irisData.itertuples(index=False, name=None))\n",
    "iris_tuples_string = \",\".join([\"(\" + \",\".join([str(w) for w in wt]) + \")\" for wt in iris_tuples])\n",
    "\n",
    "iris_tuples_string"
   ]
  },
  {
   "cell_type": "code",
   "execution_count": 10,
   "id": "clear-still",
   "metadata": {},
   "outputs": [],
   "source": [
    "# Read data into iris\n",
    "\n",
    "cursor = conn.cursor();\n",
    "# Dropping table iris if exists\n",
    "cursor.execute(\"DROP TABLE IF EXISTS iris;\")\n",
    "        \n",
    "sql = '''CREATE TABLE iris(\n",
    "sepal_length DECIMAL(2,1) NOT NULL, \n",
    "sepal_width DECIMAL(2,1) NOT NULL, \n",
    "petal_length DECIMAL(2,1) NOT NULL, \n",
    "petal_width DECIMAL(2,1),\n",
    "species CHAR(11)NOT NULL\n",
    ")'''\n",
    "        \n",
    "# Creating a table\n",
    "cursor.execute(sql);\n",
    "cursor.execute(\"INSERT INTO iris(sepal_length, sepal_width, petal_length, \\\n",
    "                   petal_width, species) VALUES \" + iris_tuples_string + \";\")\n",
    "cursor.execute('commit')\n",
    "\n",
    "#cursor.execute(\"FLUSH TABLES;\")\n",
    "\n",
    "# close the cursor object to avoid memory leaks\n",
    "cursor.close()\n",
    "\n",
    "# close the connection object\n",
    "conn.close()"
   ]
  },
  {
   "cell_type": "code",
   "execution_count": 11,
   "id": "labeled-surprise",
   "metadata": {},
   "outputs": [
    {
     "name": "stdout",
     "output_type": "stream",
     "text": [
      "  sepal.length sepal.width petal.length petal.width      variety\n",
      "0          5.1         3.5          1.4         0.2  Setosa     \n",
      "1          4.9         3.0          1.4         0.2  Setosa     \n",
      "2          4.7         3.2          1.3         0.2  Setosa     \n",
      "3          4.6         3.1          1.5         0.2  Setosa     \n",
      "4          5.0         3.6          1.4         0.2  Setosa     \n"
     ]
    }
   ],
   "source": [
    "# Load the table\n",
    "\n",
    "conn = psycopg2.connect(**conn_params_dic)\n",
    "# declare a cursor object from the connection\n",
    "cursor = conn.cursor()\n",
    "\n",
    "# Execute query\n",
    "sql = \"SELECT * FROM iris\"\n",
    "cursor.execute(sql)\n",
    "\n",
    "# Fetch all the records\n",
    "tuples = cursor.fetchall()\n",
    "\n",
    "# Preparing list of columns for dataframe\n",
    "\n",
    "cols = list(irisData.columns)\n",
    "irisdf = pd.DataFrame(tuples,columns=cols)\n",
    "\n",
    "print(irisdf.head())\n",
    "\n",
    "# close the cursor object to avoid memory leaks\n",
    "#cursor.close()\n",
    "\n",
    "# close the connection object\n",
    "#conn.close()"
   ]
  },
  {
   "cell_type": "code",
   "execution_count": 12,
   "id": "further-convenience",
   "metadata": {},
   "outputs": [],
   "source": [
    "# close the cursor object to avoid memory leaks\n",
    "#cursor.close()\n",
    "\n",
    "# close the connection object\n",
    "#conn.close()"
   ]
  },
  {
   "cell_type": "code",
   "execution_count": 13,
   "id": "every-beijing",
   "metadata": {},
   "outputs": [],
   "source": [
    "from pyspark.sql import SparkSession"
   ]
  },
  {
   "cell_type": "code",
   "execution_count": 14,
   "id": "tamil-recruitment",
   "metadata": {},
   "outputs": [],
   "source": [
    "#spark = SparkSession.builder.config(\"spark.jars\", \"/Applications/dsdriver/java/postgresql-42.2.20.jar\").getOrCreate()"
   ]
  },
  {
   "cell_type": "code",
   "execution_count": 15,
   "id": "prepared-picnic",
   "metadata": {},
   "outputs": [],
   "source": [
    "spark = SparkSession \\\n",
    "    .builder \\\n",
    "    .appName(\"Python Spark SQL basic example\") \\\n",
    "    .config(\"spark.jars\", \"/Applications/dsdriver/java/postgresql-42.2.20.jar\") \\\n",
    "    .getOrCreate()"
   ]
  },
  {
   "cell_type": "code",
   "execution_count": 16,
   "id": "stone-shopping",
   "metadata": {},
   "outputs": [],
   "source": [
    "df = spark.read \\\n",
    "    .format(\"jdbc\") \\\n",
    "    .option(\"url\", \"jdbc:postgresql://localhost:5432/mydb\") \\\n",
    "    .option(\"dbtable\", \"iris\") \\\n",
    "    .option(\"user\", \"postgres\") \\\n",
    "    .option(\"password\", password) \\\n",
    "    .option(\"driver\", \"org.postgresql.Driver\") \\\n",
    "    .load()"
   ]
  },
  {
   "cell_type": "code",
   "execution_count": 17,
   "id": "tired-tourist",
   "metadata": {},
   "outputs": [
    {
     "name": "stdout",
     "output_type": "stream",
     "text": [
      "+-----------------+-----------+\n",
      "|         features|    species|\n",
      "+-----------------+-----------+\n",
      "|[4.3,3.0,1.1,0.1]|Setosa     |\n",
      "|[4.4,2.9,1.4,0.2]|Setosa     |\n",
      "|[4.4,3.0,1.3,0.2]|Setosa     |\n",
      "|[4.4,3.2,1.3,0.2]|Setosa     |\n",
      "|[4.5,2.3,1.3,0.3]|Setosa     |\n",
      "+-----------------+-----------+\n",
      "only showing top 5 rows\n",
      "\n"
     ]
    }
   ],
   "source": [
    "from pyspark.ml.feature import VectorAssembler\n",
    "\n",
    "train_df, test_df = df.randomSplit([.8, .2], seed=12345)\n",
    "predictors = [\"sepal_length\", \"sepal_width\", \"petal_length\", \"petal_width\"]\n",
    "vec_assembler = VectorAssembler(inputCols=predictors, outputCol=\"features\")\n",
    "vec_train_df = vec_assembler.transform(train_df)\n",
    "vec_train_df.select(\"features\", \"species\").show(5)"
   ]
  },
  {
   "cell_type": "code",
   "execution_count": 18,
   "id": "reported-longer",
   "metadata": {},
   "outputs": [
    {
     "ename": "IllegalArgumentException",
     "evalue": "requirement failed: Column species must be of type numeric but was actually of type string.",
     "output_type": "error",
     "traceback": [
      "\u001b[0;31m---------------------------------------------------------------------------\u001b[0m",
      "\u001b[0;31mIllegalArgumentException\u001b[0m                  Traceback (most recent call last)",
      "\u001b[0;32m<ipython-input-18-10b76e7af483>\u001b[0m in \u001b[0;36m<module>\u001b[0;34m\u001b[0m\n\u001b[1;32m      2\u001b[0m \u001b[0;34m\u001b[0m\u001b[0m\n\u001b[1;32m      3\u001b[0m \u001b[0mlr\u001b[0m \u001b[0;34m=\u001b[0m \u001b[0mLogisticRegression\u001b[0m\u001b[0;34m(\u001b[0m\u001b[0mlabelCol\u001b[0m\u001b[0;34m=\u001b[0m\u001b[0;34m\"species\"\u001b[0m\u001b[0;34m,\u001b[0m \u001b[0mfeaturesCol\u001b[0m\u001b[0;34m=\u001b[0m\u001b[0;34m\"features\"\u001b[0m\u001b[0;34m)\u001b[0m\u001b[0;34m\u001b[0m\u001b[0;34m\u001b[0m\u001b[0m\n\u001b[0;32m----> 4\u001b[0;31m \u001b[0mlr_model\u001b[0m \u001b[0;34m=\u001b[0m \u001b[0mlr\u001b[0m\u001b[0;34m.\u001b[0m\u001b[0mfit\u001b[0m\u001b[0;34m(\u001b[0m\u001b[0mvec_train_df\u001b[0m\u001b[0;34m)\u001b[0m\u001b[0;34m\u001b[0m\u001b[0;34m\u001b[0m\u001b[0m\n\u001b[0m\u001b[1;32m      5\u001b[0m \u001b[0mvec_test_df\u001b[0m \u001b[0;34m=\u001b[0m \u001b[0mvec_assembler\u001b[0m\u001b[0;34m.\u001b[0m\u001b[0mtransform\u001b[0m\u001b[0;34m(\u001b[0m\u001b[0mtest_df\u001b[0m\u001b[0;34m)\u001b[0m\u001b[0;34m\u001b[0m\u001b[0;34m\u001b[0m\u001b[0m\n\u001b[1;32m      6\u001b[0m \u001b[0mpredictions\u001b[0m \u001b[0;34m=\u001b[0m \u001b[0mlr_model\u001b[0m\u001b[0;34m.\u001b[0m\u001b[0mtransform\u001b[0m\u001b[0;34m(\u001b[0m\u001b[0mvec_test_df\u001b[0m\u001b[0;34m)\u001b[0m\u001b[0;34m\u001b[0m\u001b[0;34m\u001b[0m\u001b[0m\n",
      "\u001b[0;32m/Library/Frameworks/Python.framework/Versions/3.9/lib/python3.9/site-packages/pyspark/ml/base.py\u001b[0m in \u001b[0;36mfit\u001b[0;34m(self, dataset, params)\u001b[0m\n\u001b[1;32m    159\u001b[0m                 \u001b[0;32mreturn\u001b[0m \u001b[0mself\u001b[0m\u001b[0;34m.\u001b[0m\u001b[0mcopy\u001b[0m\u001b[0;34m(\u001b[0m\u001b[0mparams\u001b[0m\u001b[0;34m)\u001b[0m\u001b[0;34m.\u001b[0m\u001b[0m_fit\u001b[0m\u001b[0;34m(\u001b[0m\u001b[0mdataset\u001b[0m\u001b[0;34m)\u001b[0m\u001b[0;34m\u001b[0m\u001b[0;34m\u001b[0m\u001b[0m\n\u001b[1;32m    160\u001b[0m             \u001b[0;32melse\u001b[0m\u001b[0;34m:\u001b[0m\u001b[0;34m\u001b[0m\u001b[0;34m\u001b[0m\u001b[0m\n\u001b[0;32m--> 161\u001b[0;31m                 \u001b[0;32mreturn\u001b[0m \u001b[0mself\u001b[0m\u001b[0;34m.\u001b[0m\u001b[0m_fit\u001b[0m\u001b[0;34m(\u001b[0m\u001b[0mdataset\u001b[0m\u001b[0;34m)\u001b[0m\u001b[0;34m\u001b[0m\u001b[0;34m\u001b[0m\u001b[0m\n\u001b[0m\u001b[1;32m    162\u001b[0m         \u001b[0;32melse\u001b[0m\u001b[0;34m:\u001b[0m\u001b[0;34m\u001b[0m\u001b[0;34m\u001b[0m\u001b[0m\n\u001b[1;32m    163\u001b[0m             raise ValueError(\"Params must be either a param map or a list/tuple of param maps, \"\n",
      "\u001b[0;32m/Library/Frameworks/Python.framework/Versions/3.9/lib/python3.9/site-packages/pyspark/ml/wrapper.py\u001b[0m in \u001b[0;36m_fit\u001b[0;34m(self, dataset)\u001b[0m\n\u001b[1;32m    333\u001b[0m \u001b[0;34m\u001b[0m\u001b[0m\n\u001b[1;32m    334\u001b[0m     \u001b[0;32mdef\u001b[0m \u001b[0m_fit\u001b[0m\u001b[0;34m(\u001b[0m\u001b[0mself\u001b[0m\u001b[0;34m,\u001b[0m \u001b[0mdataset\u001b[0m\u001b[0;34m)\u001b[0m\u001b[0;34m:\u001b[0m\u001b[0;34m\u001b[0m\u001b[0;34m\u001b[0m\u001b[0m\n\u001b[0;32m--> 335\u001b[0;31m         \u001b[0mjava_model\u001b[0m \u001b[0;34m=\u001b[0m \u001b[0mself\u001b[0m\u001b[0;34m.\u001b[0m\u001b[0m_fit_java\u001b[0m\u001b[0;34m(\u001b[0m\u001b[0mdataset\u001b[0m\u001b[0;34m)\u001b[0m\u001b[0;34m\u001b[0m\u001b[0;34m\u001b[0m\u001b[0m\n\u001b[0m\u001b[1;32m    336\u001b[0m         \u001b[0mmodel\u001b[0m \u001b[0;34m=\u001b[0m \u001b[0mself\u001b[0m\u001b[0;34m.\u001b[0m\u001b[0m_create_model\u001b[0m\u001b[0;34m(\u001b[0m\u001b[0mjava_model\u001b[0m\u001b[0;34m)\u001b[0m\u001b[0;34m\u001b[0m\u001b[0;34m\u001b[0m\u001b[0m\n\u001b[1;32m    337\u001b[0m         \u001b[0;32mreturn\u001b[0m \u001b[0mself\u001b[0m\u001b[0;34m.\u001b[0m\u001b[0m_copyValues\u001b[0m\u001b[0;34m(\u001b[0m\u001b[0mmodel\u001b[0m\u001b[0;34m)\u001b[0m\u001b[0;34m\u001b[0m\u001b[0;34m\u001b[0m\u001b[0m\n",
      "\u001b[0;32m/Library/Frameworks/Python.framework/Versions/3.9/lib/python3.9/site-packages/pyspark/ml/wrapper.py\u001b[0m in \u001b[0;36m_fit_java\u001b[0;34m(self, dataset)\u001b[0m\n\u001b[1;32m    330\u001b[0m         \"\"\"\n\u001b[1;32m    331\u001b[0m         \u001b[0mself\u001b[0m\u001b[0;34m.\u001b[0m\u001b[0m_transfer_params_to_java\u001b[0m\u001b[0;34m(\u001b[0m\u001b[0;34m)\u001b[0m\u001b[0;34m\u001b[0m\u001b[0;34m\u001b[0m\u001b[0m\n\u001b[0;32m--> 332\u001b[0;31m         \u001b[0;32mreturn\u001b[0m \u001b[0mself\u001b[0m\u001b[0;34m.\u001b[0m\u001b[0m_java_obj\u001b[0m\u001b[0;34m.\u001b[0m\u001b[0mfit\u001b[0m\u001b[0;34m(\u001b[0m\u001b[0mdataset\u001b[0m\u001b[0;34m.\u001b[0m\u001b[0m_jdf\u001b[0m\u001b[0;34m)\u001b[0m\u001b[0;34m\u001b[0m\u001b[0;34m\u001b[0m\u001b[0m\n\u001b[0m\u001b[1;32m    333\u001b[0m \u001b[0;34m\u001b[0m\u001b[0m\n\u001b[1;32m    334\u001b[0m     \u001b[0;32mdef\u001b[0m \u001b[0m_fit\u001b[0m\u001b[0;34m(\u001b[0m\u001b[0mself\u001b[0m\u001b[0;34m,\u001b[0m \u001b[0mdataset\u001b[0m\u001b[0;34m)\u001b[0m\u001b[0;34m:\u001b[0m\u001b[0;34m\u001b[0m\u001b[0;34m\u001b[0m\u001b[0m\n",
      "\u001b[0;32m/Library/Frameworks/Python.framework/Versions/3.9/lib/python3.9/site-packages/py4j/java_gateway.py\u001b[0m in \u001b[0;36m__call__\u001b[0;34m(self, *args)\u001b[0m\n\u001b[1;32m   1302\u001b[0m \u001b[0;34m\u001b[0m\u001b[0m\n\u001b[1;32m   1303\u001b[0m         \u001b[0manswer\u001b[0m \u001b[0;34m=\u001b[0m \u001b[0mself\u001b[0m\u001b[0;34m.\u001b[0m\u001b[0mgateway_client\u001b[0m\u001b[0;34m.\u001b[0m\u001b[0msend_command\u001b[0m\u001b[0;34m(\u001b[0m\u001b[0mcommand\u001b[0m\u001b[0;34m)\u001b[0m\u001b[0;34m\u001b[0m\u001b[0;34m\u001b[0m\u001b[0m\n\u001b[0;32m-> 1304\u001b[0;31m         return_value = get_return_value(\n\u001b[0m\u001b[1;32m   1305\u001b[0m             answer, self.gateway_client, self.target_id, self.name)\n\u001b[1;32m   1306\u001b[0m \u001b[0;34m\u001b[0m\u001b[0m\n",
      "\u001b[0;32m/Library/Frameworks/Python.framework/Versions/3.9/lib/python3.9/site-packages/pyspark/sql/utils.py\u001b[0m in \u001b[0;36mdeco\u001b[0;34m(*a, **kw)\u001b[0m\n\u001b[1;32m    115\u001b[0m                 \u001b[0;31m# Hide where the exception came from that shows a non-Pythonic\u001b[0m\u001b[0;34m\u001b[0m\u001b[0;34m\u001b[0m\u001b[0;34m\u001b[0m\u001b[0m\n\u001b[1;32m    116\u001b[0m                 \u001b[0;31m# JVM exception message.\u001b[0m\u001b[0;34m\u001b[0m\u001b[0;34m\u001b[0m\u001b[0;34m\u001b[0m\u001b[0m\n\u001b[0;32m--> 117\u001b[0;31m                 \u001b[0;32mraise\u001b[0m \u001b[0mconverted\u001b[0m \u001b[0;32mfrom\u001b[0m \u001b[0;32mNone\u001b[0m\u001b[0;34m\u001b[0m\u001b[0;34m\u001b[0m\u001b[0m\n\u001b[0m\u001b[1;32m    118\u001b[0m             \u001b[0;32melse\u001b[0m\u001b[0;34m:\u001b[0m\u001b[0;34m\u001b[0m\u001b[0;34m\u001b[0m\u001b[0m\n\u001b[1;32m    119\u001b[0m                 \u001b[0;32mraise\u001b[0m\u001b[0;34m\u001b[0m\u001b[0;34m\u001b[0m\u001b[0m\n",
      "\u001b[0;31mIllegalArgumentException\u001b[0m: requirement failed: Column species must be of type numeric but was actually of type string."
     ]
    }
   ],
   "source": [
    "from pyspark.ml.classification import LogisticRegression\n",
    "\n",
    "lr = LogisticRegression(labelCol=\"species\", featuresCol=\"features\")\n",
    "lr_model = lr.fit(vec_train_df)\n",
    "vec_test_df = vec_assembler.transform(test_df)\n",
    "predictions = lr_model.transform(vec_test_df)"
   ]
  },
  {
   "cell_type": "code",
   "execution_count": null,
   "id": "turkish-induction",
   "metadata": {},
   "outputs": [],
   "source": []
  }
 ],
 "metadata": {
  "kernelspec": {
   "display_name": "Python 3",
   "language": "python",
   "name": "python3"
  },
  "language_info": {
   "codemirror_mode": {
    "name": "ipython",
    "version": 3
   },
   "file_extension": ".py",
   "mimetype": "text/x-python",
   "name": "python",
   "nbconvert_exporter": "python",
   "pygments_lexer": "ipython3",
   "version": "3.9.1"
  }
 },
 "nbformat": 4,
 "nbformat_minor": 5
}
