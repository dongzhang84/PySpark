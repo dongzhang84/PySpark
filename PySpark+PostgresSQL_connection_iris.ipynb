{
 "cells": [
  {
   "cell_type": "markdown",
   "id": "organizational-peeing",
   "metadata": {},
   "source": [
    "Some very good link to follow:\n",
    "\n",
    "https://stackoverflow.com/questions/34948296/using-pyspark-to-connect-to-postgresql\n",
    "\n"
   ]
  },
  {
   "cell_type": "code",
   "execution_count": 1,
   "id": "twelve-serve",
   "metadata": {},
   "outputs": [],
   "source": [
    "import psycopg2\n",
    "import getpass\n",
    "import pandas as pd"
   ]
  },
  {
   "cell_type": "code",
   "execution_count": 2,
   "id": "noble-separate",
   "metadata": {},
   "outputs": [
    {
     "name": "stdout",
     "output_type": "stream",
     "text": [
      "Enter password:\n",
      "········\n"
     ]
    }
   ],
   "source": [
    "# input password\n",
    "\n",
    "print(\"Enter password:\")\n",
    "password = getpass.getpass()"
   ]
  },
  {
   "cell_type": "code",
   "execution_count": 3,
   "id": "intelligent-divorce",
   "metadata": {},
   "outputs": [],
   "source": [
    "# Note: please change your database, username & password as per your own values\n",
    "conn_params_dic = {\n",
    "    \"host\"      : \"localhost\",\n",
    "    \"port\"      : \"5432\",\n",
    "    \"database\"  : \"mydb\",\n",
    "    \"user\"      : \"postgres\",\n",
    "    \"password\"  : password\n",
    "}"
   ]
  },
  {
   "cell_type": "code",
   "execution_count": 4,
   "id": "bottom-party",
   "metadata": {},
   "outputs": [],
   "source": [
    "# Load data\n",
    "\n",
    "irisData = pd.read_csv('data/iris.csv')"
   ]
  },
  {
   "cell_type": "code",
   "execution_count": 5,
   "id": "individual-collar",
   "metadata": {},
   "outputs": [],
   "source": [
    "# fit SQL format\n",
    "\n",
    "irisData['variety'] = irisData.variety.apply(lambda x: \"'\"+x+\"'\")"
   ]
  },
  {
   "cell_type": "code",
   "execution_count": 6,
   "id": "united-general",
   "metadata": {},
   "outputs": [
    {
     "data": {
      "text/html": [
       "<div>\n",
       "<style scoped>\n",
       "    .dataframe tbody tr th:only-of-type {\n",
       "        vertical-align: middle;\n",
       "    }\n",
       "\n",
       "    .dataframe tbody tr th {\n",
       "        vertical-align: top;\n",
       "    }\n",
       "\n",
       "    .dataframe thead th {\n",
       "        text-align: right;\n",
       "    }\n",
       "</style>\n",
       "<table border=\"1\" class=\"dataframe\">\n",
       "  <thead>\n",
       "    <tr style=\"text-align: right;\">\n",
       "      <th></th>\n",
       "      <th>sepal.length</th>\n",
       "      <th>sepal.width</th>\n",
       "      <th>petal.length</th>\n",
       "      <th>petal.width</th>\n",
       "      <th>variety</th>\n",
       "    </tr>\n",
       "  </thead>\n",
       "  <tbody>\n",
       "    <tr>\n",
       "      <th>0</th>\n",
       "      <td>5.1</td>\n",
       "      <td>3.5</td>\n",
       "      <td>1.4</td>\n",
       "      <td>0.2</td>\n",
       "      <td>'Setosa'</td>\n",
       "    </tr>\n",
       "    <tr>\n",
       "      <th>1</th>\n",
       "      <td>4.9</td>\n",
       "      <td>3.0</td>\n",
       "      <td>1.4</td>\n",
       "      <td>0.2</td>\n",
       "      <td>'Setosa'</td>\n",
       "    </tr>\n",
       "    <tr>\n",
       "      <th>2</th>\n",
       "      <td>4.7</td>\n",
       "      <td>3.2</td>\n",
       "      <td>1.3</td>\n",
       "      <td>0.2</td>\n",
       "      <td>'Setosa'</td>\n",
       "    </tr>\n",
       "    <tr>\n",
       "      <th>3</th>\n",
       "      <td>4.6</td>\n",
       "      <td>3.1</td>\n",
       "      <td>1.5</td>\n",
       "      <td>0.2</td>\n",
       "      <td>'Setosa'</td>\n",
       "    </tr>\n",
       "    <tr>\n",
       "      <th>4</th>\n",
       "      <td>5.0</td>\n",
       "      <td>3.6</td>\n",
       "      <td>1.4</td>\n",
       "      <td>0.2</td>\n",
       "      <td>'Setosa'</td>\n",
       "    </tr>\n",
       "    <tr>\n",
       "      <th>...</th>\n",
       "      <td>...</td>\n",
       "      <td>...</td>\n",
       "      <td>...</td>\n",
       "      <td>...</td>\n",
       "      <td>...</td>\n",
       "    </tr>\n",
       "    <tr>\n",
       "      <th>145</th>\n",
       "      <td>6.7</td>\n",
       "      <td>3.0</td>\n",
       "      <td>5.2</td>\n",
       "      <td>2.3</td>\n",
       "      <td>'Virginica'</td>\n",
       "    </tr>\n",
       "    <tr>\n",
       "      <th>146</th>\n",
       "      <td>6.3</td>\n",
       "      <td>2.5</td>\n",
       "      <td>5.0</td>\n",
       "      <td>1.9</td>\n",
       "      <td>'Virginica'</td>\n",
       "    </tr>\n",
       "    <tr>\n",
       "      <th>147</th>\n",
       "      <td>6.5</td>\n",
       "      <td>3.0</td>\n",
       "      <td>5.2</td>\n",
       "      <td>2.0</td>\n",
       "      <td>'Virginica'</td>\n",
       "    </tr>\n",
       "    <tr>\n",
       "      <th>148</th>\n",
       "      <td>6.2</td>\n",
       "      <td>3.4</td>\n",
       "      <td>5.4</td>\n",
       "      <td>2.3</td>\n",
       "      <td>'Virginica'</td>\n",
       "    </tr>\n",
       "    <tr>\n",
       "      <th>149</th>\n",
       "      <td>5.9</td>\n",
       "      <td>3.0</td>\n",
       "      <td>5.1</td>\n",
       "      <td>1.8</td>\n",
       "      <td>'Virginica'</td>\n",
       "    </tr>\n",
       "  </tbody>\n",
       "</table>\n",
       "<p>150 rows × 5 columns</p>\n",
       "</div>"
      ],
      "text/plain": [
       "     sepal.length  sepal.width  petal.length  petal.width      variety\n",
       "0             5.1          3.5           1.4          0.2     'Setosa'\n",
       "1             4.9          3.0           1.4          0.2     'Setosa'\n",
       "2             4.7          3.2           1.3          0.2     'Setosa'\n",
       "3             4.6          3.1           1.5          0.2     'Setosa'\n",
       "4             5.0          3.6           1.4          0.2     'Setosa'\n",
       "..            ...          ...           ...          ...          ...\n",
       "145           6.7          3.0           5.2          2.3  'Virginica'\n",
       "146           6.3          2.5           5.0          1.9  'Virginica'\n",
       "147           6.5          3.0           5.2          2.0  'Virginica'\n",
       "148           6.2          3.4           5.4          2.3  'Virginica'\n",
       "149           5.9          3.0           5.1          1.8  'Virginica'\n",
       "\n",
       "[150 rows x 5 columns]"
      ]
     },
     "execution_count": 6,
     "metadata": {},
     "output_type": "execute_result"
    }
   ],
   "source": [
    "irisData"
   ]
  },
  {
   "cell_type": "code",
   "execution_count": 7,
   "id": "elect-personal",
   "metadata": {},
   "outputs": [
    {
     "name": "stdout",
     "output_type": "stream",
     "text": [
      "Connecting to the PostgreSQL...\n",
      "Connection successful...\n"
     ]
    }
   ],
   "source": [
    "print('Connecting to the PostgreSQL...')\n",
    "conn = psycopg2.connect(**conn_params_dic)\n",
    "#conn.autocommit = True\n",
    "print(\"Connection successful...\")"
   ]
  },
  {
   "cell_type": "code",
   "execution_count": 8,
   "id": "worst-swiss",
   "metadata": {},
   "outputs": [],
   "source": [
    "#cursor = conn.cursor();\n",
    "# Dropping table iris if exists\n",
    "#cursor.execute(\"DROP TABLE IF EXISTS iris;\")\n",
    "        \n",
    "#sql = '''CREATE TABLE \"iris\"(\n",
    "#sepal_length DECIMAL(2,1) NOT NULL, \n",
    "#sepal_width DECIMAL(2,1) NOT NULL, \n",
    "#petal_length DECIMAL(2,1) NOT NULL, \n",
    "#petal_width DECIMAL(2,1),\n",
    "#species CHAR(11)NOT NULL\n",
    "#)'''\n",
    "        \n",
    "# Creating a table\n",
    "#cursor.execute(sql);\n",
    "#print(\"iris table is created successfully.\")\n",
    "    \n",
    "# Closing the cursor & connection\n",
    "#cursor.close()"
   ]
  },
  {
   "cell_type": "code",
   "execution_count": 9,
   "id": "developmental-evolution",
   "metadata": {},
   "outputs": [
    {
     "data": {
      "text/plain": [
       "\"(5.1,3.5,1.4,0.2,'Setosa'),(4.9,3.0,1.4,0.2,'Setosa'),(4.7,3.2,1.3,0.2,'Setosa'),(4.6,3.1,1.5,0.2,'Setosa'),(5.0,3.6,1.4,0.2,'Setosa'),(5.4,3.9,1.7,0.4,'Setosa'),(4.6,3.4,1.4,0.3,'Setosa'),(5.0,3.4,1.5,0.2,'Setosa'),(4.4,2.9,1.4,0.2,'Setosa'),(4.9,3.1,1.5,0.1,'Setosa'),(5.4,3.7,1.5,0.2,'Setosa'),(4.8,3.4,1.6,0.2,'Setosa'),(4.8,3.0,1.4,0.1,'Setosa'),(4.3,3.0,1.1,0.1,'Setosa'),(5.8,4.0,1.2,0.2,'Setosa'),(5.7,4.4,1.5,0.4,'Setosa'),(5.4,3.9,1.3,0.4,'Setosa'),(5.1,3.5,1.4,0.3,'Setosa'),(5.7,3.8,1.7,0.3,'Setosa'),(5.1,3.8,1.5,0.3,'Setosa'),(5.4,3.4,1.7,0.2,'Setosa'),(5.1,3.7,1.5,0.4,'Setosa'),(4.6,3.6,1.0,0.2,'Setosa'),(5.1,3.3,1.7,0.5,'Setosa'),(4.8,3.4,1.9,0.2,'Setosa'),(5.0,3.0,1.6,0.2,'Setosa'),(5.0,3.4,1.6,0.4,'Setosa'),(5.2,3.5,1.5,0.2,'Setosa'),(5.2,3.4,1.4,0.2,'Setosa'),(4.7,3.2,1.6,0.2,'Setosa'),(4.8,3.1,1.6,0.2,'Setosa'),(5.4,3.4,1.5,0.4,'Setosa'),(5.2,4.1,1.5,0.1,'Setosa'),(5.5,4.2,1.4,0.2,'Setosa'),(4.9,3.1,1.5,0.2,'Setosa'),(5.0,3.2,1.2,0.2,'Setosa'),(5.5,3.5,1.3,0.2,'Setosa'),(4.9,3.6,1.4,0.1,'Setosa'),(4.4,3.0,1.3,0.2,'Setosa'),(5.1,3.4,1.5,0.2,'Setosa'),(5.0,3.5,1.3,0.3,'Setosa'),(4.5,2.3,1.3,0.3,'Setosa'),(4.4,3.2,1.3,0.2,'Setosa'),(5.0,3.5,1.6,0.6,'Setosa'),(5.1,3.8,1.9,0.4,'Setosa'),(4.8,3.0,1.4,0.3,'Setosa'),(5.1,3.8,1.6,0.2,'Setosa'),(4.6,3.2,1.4,0.2,'Setosa'),(5.3,3.7,1.5,0.2,'Setosa'),(5.0,3.3,1.4,0.2,'Setosa'),(7.0,3.2,4.7,1.4,'Versicolor'),(6.4,3.2,4.5,1.5,'Versicolor'),(6.9,3.1,4.9,1.5,'Versicolor'),(5.5,2.3,4.0,1.3,'Versicolor'),(6.5,2.8,4.6,1.5,'Versicolor'),(5.7,2.8,4.5,1.3,'Versicolor'),(6.3,3.3,4.7,1.6,'Versicolor'),(4.9,2.4,3.3,1.0,'Versicolor'),(6.6,2.9,4.6,1.3,'Versicolor'),(5.2,2.7,3.9,1.4,'Versicolor'),(5.0,2.0,3.5,1.0,'Versicolor'),(5.9,3.0,4.2,1.5,'Versicolor'),(6.0,2.2,4.0,1.0,'Versicolor'),(6.1,2.9,4.7,1.4,'Versicolor'),(5.6,2.9,3.6,1.3,'Versicolor'),(6.7,3.1,4.4,1.4,'Versicolor'),(5.6,3.0,4.5,1.5,'Versicolor'),(5.8,2.7,4.1,1.0,'Versicolor'),(6.2,2.2,4.5,1.5,'Versicolor'),(5.6,2.5,3.9,1.1,'Versicolor'),(5.9,3.2,4.8,1.8,'Versicolor'),(6.1,2.8,4.0,1.3,'Versicolor'),(6.3,2.5,4.9,1.5,'Versicolor'),(6.1,2.8,4.7,1.2,'Versicolor'),(6.4,2.9,4.3,1.3,'Versicolor'),(6.6,3.0,4.4,1.4,'Versicolor'),(6.8,2.8,4.8,1.4,'Versicolor'),(6.7,3.0,5.0,1.7,'Versicolor'),(6.0,2.9,4.5,1.5,'Versicolor'),(5.7,2.6,3.5,1.0,'Versicolor'),(5.5,2.4,3.8,1.1,'Versicolor'),(5.5,2.4,3.7,1.0,'Versicolor'),(5.8,2.7,3.9,1.2,'Versicolor'),(6.0,2.7,5.1,1.6,'Versicolor'),(5.4,3.0,4.5,1.5,'Versicolor'),(6.0,3.4,4.5,1.6,'Versicolor'),(6.7,3.1,4.7,1.5,'Versicolor'),(6.3,2.3,4.4,1.3,'Versicolor'),(5.6,3.0,4.1,1.3,'Versicolor'),(5.5,2.5,4.0,1.3,'Versicolor'),(5.5,2.6,4.4,1.2,'Versicolor'),(6.1,3.0,4.6,1.4,'Versicolor'),(5.8,2.6,4.0,1.2,'Versicolor'),(5.0,2.3,3.3,1.0,'Versicolor'),(5.6,2.7,4.2,1.3,'Versicolor'),(5.7,3.0,4.2,1.2,'Versicolor'),(5.7,2.9,4.2,1.3,'Versicolor'),(6.2,2.9,4.3,1.3,'Versicolor'),(5.1,2.5,3.0,1.1,'Versicolor'),(5.7,2.8,4.1,1.3,'Versicolor'),(6.3,3.3,6.0,2.5,'Virginica'),(5.8,2.7,5.1,1.9,'Virginica'),(7.1,3.0,5.9,2.1,'Virginica'),(6.3,2.9,5.6,1.8,'Virginica'),(6.5,3.0,5.8,2.2,'Virginica'),(7.6,3.0,6.6,2.1,'Virginica'),(4.9,2.5,4.5,1.7,'Virginica'),(7.3,2.9,6.3,1.8,'Virginica'),(6.7,2.5,5.8,1.8,'Virginica'),(7.2,3.6,6.1,2.5,'Virginica'),(6.5,3.2,5.1,2.0,'Virginica'),(6.4,2.7,5.3,1.9,'Virginica'),(6.8,3.0,5.5,2.1,'Virginica'),(5.7,2.5,5.0,2.0,'Virginica'),(5.8,2.8,5.1,2.4,'Virginica'),(6.4,3.2,5.3,2.3,'Virginica'),(6.5,3.0,5.5,1.8,'Virginica'),(7.7,3.8,6.7,2.2,'Virginica'),(7.7,2.6,6.9,2.3,'Virginica'),(6.0,2.2,5.0,1.5,'Virginica'),(6.9,3.2,5.7,2.3,'Virginica'),(5.6,2.8,4.9,2.0,'Virginica'),(7.7,2.8,6.7,2.0,'Virginica'),(6.3,2.7,4.9,1.8,'Virginica'),(6.7,3.3,5.7,2.1,'Virginica'),(7.2,3.2,6.0,1.8,'Virginica'),(6.2,2.8,4.8,1.8,'Virginica'),(6.1,3.0,4.9,1.8,'Virginica'),(6.4,2.8,5.6,2.1,'Virginica'),(7.2,3.0,5.8,1.6,'Virginica'),(7.4,2.8,6.1,1.9,'Virginica'),(7.9,3.8,6.4,2.0,'Virginica'),(6.4,2.8,5.6,2.2,'Virginica'),(6.3,2.8,5.1,1.5,'Virginica'),(6.1,2.6,5.6,1.4,'Virginica'),(7.7,3.0,6.1,2.3,'Virginica'),(6.3,3.4,5.6,2.4,'Virginica'),(6.4,3.1,5.5,1.8,'Virginica'),(6.0,3.0,4.8,1.8,'Virginica'),(6.9,3.1,5.4,2.1,'Virginica'),(6.7,3.1,5.6,2.4,'Virginica'),(6.9,3.1,5.1,2.3,'Virginica'),(5.8,2.7,5.1,1.9,'Virginica'),(6.8,3.2,5.9,2.3,'Virginica'),(6.7,3.3,5.7,2.5,'Virginica'),(6.7,3.0,5.2,2.3,'Virginica'),(6.3,2.5,5.0,1.9,'Virginica'),(6.5,3.0,5.2,2.0,'Virginica'),(6.2,3.4,5.4,2.3,'Virginica'),(5.9,3.0,5.1,1.8,'Virginica')\""
      ]
     },
     "execution_count": 9,
     "metadata": {},
     "output_type": "execute_result"
    }
   ],
   "source": [
    "iris_tuples = list(irisData.itertuples(index=False, name=None))\n",
    "iris_tuples_string = \",\".join([\"(\" + \",\".join([str(w) for w in wt]) + \")\" for wt in iris_tuples])\n",
    "\n",
    "iris_tuples_string"
   ]
  },
  {
   "cell_type": "code",
   "execution_count": 10,
   "id": "clear-still",
   "metadata": {},
   "outputs": [],
   "source": [
    "# Read data into iris\n",
    "\n",
    "cursor = conn.cursor();\n",
    "# Dropping table iris if exists\n",
    "cursor.execute(\"DROP TABLE IF EXISTS iris;\")\n",
    "        \n",
    "sql = '''CREATE TABLE iris(\n",
    "sepal_length DECIMAL(2,1) NOT NULL, \n",
    "sepal_width DECIMAL(2,1) NOT NULL, \n",
    "petal_length DECIMAL(2,1) NOT NULL, \n",
    "petal_width DECIMAL(2,1),\n",
    "species CHAR(11)NOT NULL\n",
    ")'''\n",
    "        \n",
    "# Creating a table\n",
    "cursor.execute(sql);\n",
    "cursor.execute(\"INSERT INTO iris(sepal_length, sepal_width, petal_length, \\\n",
    "                   petal_width, species) VALUES \" + iris_tuples_string + \";\")\n",
    "cursor.execute('commit')\n",
    "\n",
    "#cursor.execute(\"FLUSH TABLES;\")\n",
    "\n",
    "# close the cursor object to avoid memory leaks\n",
    "cursor.close()\n",
    "\n",
    "# close the connection object\n",
    "conn.close()"
   ]
  },
  {
   "cell_type": "code",
   "execution_count": 11,
   "id": "labeled-surprise",
   "metadata": {},
   "outputs": [
    {
     "name": "stdout",
     "output_type": "stream",
     "text": [
      "  sepal.length sepal.width petal.length petal.width      variety\n",
      "0          5.1         3.5          1.4         0.2  Setosa     \n",
      "1          4.9         3.0          1.4         0.2  Setosa     \n",
      "2          4.7         3.2          1.3         0.2  Setosa     \n",
      "3          4.6         3.1          1.5         0.2  Setosa     \n",
      "4          5.0         3.6          1.4         0.2  Setosa     \n"
     ]
    }
   ],
   "source": [
    "# Load the table\n",
    "\n",
    "conn = psycopg2.connect(**conn_params_dic)\n",
    "# declare a cursor object from the connection\n",
    "cursor = conn.cursor()\n",
    "\n",
    "# Execute query\n",
    "sql = \"SELECT * FROM iris\"\n",
    "cursor.execute(sql)\n",
    "\n",
    "# Fetch all the records\n",
    "tuples = cursor.fetchall()\n",
    "\n",
    "# Preparing list of columns for dataframe\n",
    "\n",
    "cols = list(irisData.columns)\n",
    "irisdf = pd.DataFrame(tuples,columns=cols)\n",
    "\n",
    "print(irisdf.head())\n",
    "\n",
    "# close the cursor object to avoid memory leaks\n",
    "#cursor.close()\n",
    "\n",
    "# close the connection object\n",
    "#conn.close()"
   ]
  },
  {
   "cell_type": "code",
   "execution_count": 12,
   "id": "further-convenience",
   "metadata": {},
   "outputs": [],
   "source": [
    "# close the cursor object to avoid memory leaks\n",
    "#cursor.close()\n",
    "\n",
    "# close the connection object\n",
    "#conn.close()"
   ]
  },
  {
   "cell_type": "code",
   "execution_count": 13,
   "id": "every-beijing",
   "metadata": {},
   "outputs": [],
   "source": [
    "from pyspark.sql import SparkSession"
   ]
  },
  {
   "cell_type": "code",
   "execution_count": 14,
   "id": "tamil-recruitment",
   "metadata": {},
   "outputs": [],
   "source": [
    "#spark = SparkSession.builder.config(\"spark.jars\", \"/Applications/dsdriver/java/postgresql-42.2.20.jar\").getOrCreate()"
   ]
  },
  {
   "cell_type": "code",
   "execution_count": 21,
   "id": "prepared-picnic",
   "metadata": {},
   "outputs": [],
   "source": [
    "spark = SparkSession \\\n",
    "    .builder \\\n",
    "    .appName(\"Python Spark SQL basic example\") \\\n",
    "    .config(\"spark.jars\", \"/Applications/dsdriver/java/postgresql-42.2.20.jar\") \\\n",
    "    .getOrCreate()"
   ]
  },
  {
   "cell_type": "code",
   "execution_count": 22,
   "id": "stone-shopping",
   "metadata": {},
   "outputs": [],
   "source": [
    "df = spark.read \\\n",
    "    .format(\"jdbc\") \\\n",
    "    .option(\"url\", \"jdbc:postgresql://localhost:5432/mydb\") \\\n",
    "    .option(\"dbtable\", \"iris\") \\\n",
    "    .option(\"user\", \"postgres\") \\\n",
    "    .option(\"password\", password) \\\n",
    "    .option(\"driver\", \"org.postgresql.Driver\") \\\n",
    "    .load()"
   ]
  },
  {
   "cell_type": "code",
   "execution_count": 23,
   "id": "imported-friend",
   "metadata": {},
   "outputs": [
    {
     "name": "stdout",
     "output_type": "stream",
     "text": [
      "root\n",
      " |-- sepal_length: decimal(2,1) (nullable = true)\n",
      " |-- sepal_width: decimal(2,1) (nullable = true)\n",
      " |-- petal_length: decimal(2,1) (nullable = true)\n",
      " |-- petal_width: decimal(2,1) (nullable = true)\n",
      " |-- species: string (nullable = true)\n",
      "\n"
     ]
    }
   ],
   "source": [
    "df.printSchema()"
   ]
  },
  {
   "cell_type": "code",
   "execution_count": 25,
   "id": "hollow-peter",
   "metadata": {},
   "outputs": [],
   "source": [
    "from pyspark.ml.feature import StringIndexer\n",
    "\n",
    "indexer = StringIndexer(inputCol=\"species\", outputCol=\"species_numeric\").fit(df)\n",
    "indexed_df = indexer.transform(df)"
   ]
  },
  {
   "cell_type": "code",
   "execution_count": 26,
   "id": "brown-border",
   "metadata": {},
   "outputs": [
    {
     "name": "stdout",
     "output_type": "stream",
     "text": [
      "+------------+-----------+------------+-----------+-----------+---------------+\n",
      "|sepal_length|sepal_width|petal_length|petal_width|    species|species_numeric|\n",
      "+------------+-----------+------------+-----------+-----------+---------------+\n",
      "|         5.1|        3.5|         1.4|        0.2|Setosa     |            0.0|\n",
      "|         4.9|        3.0|         1.4|        0.2|Setosa     |            0.0|\n",
      "|         4.7|        3.2|         1.3|        0.2|Setosa     |            0.0|\n",
      "|         4.6|        3.1|         1.5|        0.2|Setosa     |            0.0|\n",
      "|         5.0|        3.6|         1.4|        0.2|Setosa     |            0.0|\n",
      "|         5.4|        3.9|         1.7|        0.4|Setosa     |            0.0|\n",
      "|         4.6|        3.4|         1.4|        0.3|Setosa     |            0.0|\n",
      "|         5.0|        3.4|         1.5|        0.2|Setosa     |            0.0|\n",
      "|         4.4|        2.9|         1.4|        0.2|Setosa     |            0.0|\n",
      "|         4.9|        3.1|         1.5|        0.1|Setosa     |            0.0|\n",
      "|         5.4|        3.7|         1.5|        0.2|Setosa     |            0.0|\n",
      "|         4.8|        3.4|         1.6|        0.2|Setosa     |            0.0|\n",
      "|         4.8|        3.0|         1.4|        0.1|Setosa     |            0.0|\n",
      "|         4.3|        3.0|         1.1|        0.1|Setosa     |            0.0|\n",
      "|         5.8|        4.0|         1.2|        0.2|Setosa     |            0.0|\n",
      "|         5.7|        4.4|         1.5|        0.4|Setosa     |            0.0|\n",
      "|         5.4|        3.9|         1.3|        0.4|Setosa     |            0.0|\n",
      "|         5.1|        3.5|         1.4|        0.3|Setosa     |            0.0|\n",
      "|         5.7|        3.8|         1.7|        0.3|Setosa     |            0.0|\n",
      "|         5.1|        3.8|         1.5|        0.3|Setosa     |            0.0|\n",
      "+------------+-----------+------------+-----------+-----------+---------------+\n",
      "only showing top 20 rows\n",
      "\n"
     ]
    }
   ],
   "source": [
    "indexed_df.drop(\"bar\").show()"
   ]
  },
  {
   "cell_type": "code",
   "execution_count": 30,
   "id": "tired-tourist",
   "metadata": {},
   "outputs": [
    {
     "name": "stdout",
     "output_type": "stream",
     "text": [
      "+-----------------+---------------+\n",
      "|         features|species_numeric|\n",
      "+-----------------+---------------+\n",
      "|[4.3,3.0,1.1,0.1]|            0.0|\n",
      "|[4.4,2.9,1.4,0.2]|            0.0|\n",
      "|[4.4,3.0,1.3,0.2]|            0.0|\n",
      "|[4.4,3.2,1.3,0.2]|            0.0|\n",
      "|[4.5,2.3,1.3,0.3]|            0.0|\n",
      "+-----------------+---------------+\n",
      "only showing top 5 rows\n",
      "\n"
     ]
    }
   ],
   "source": [
    "from pyspark.ml.feature import VectorAssembler\n",
    "\n",
    "train_df, test_df = indexed_df.randomSplit([.8, .2], seed=12345)\n",
    "predictors = [\"sepal_length\", \"sepal_width\", \"petal_length\", \"petal_width\"]\n",
    "vec_assembler = VectorAssembler(inputCols=predictors, outputCol=\"features\")\n",
    "vec_train_df = vec_assembler.transform(train_df)\n",
    "vec_train_df.select(\"features\", \"species_numeric\").show(5)"
   ]
  },
  {
   "cell_type": "code",
   "execution_count": 31,
   "id": "reported-longer",
   "metadata": {},
   "outputs": [],
   "source": [
    "from pyspark.ml.classification import LogisticRegression\n",
    "\n",
    "lr = LogisticRegression(labelCol=\"species_numeric\", featuresCol=\"features\")\n",
    "lr_model = lr.fit(vec_train_df)\n",
    "vec_test_df = vec_assembler.transform(test_df)\n",
    "predictions = lr_model.transform(vec_test_df)"
   ]
  },
  {
   "cell_type": "code",
   "execution_count": 33,
   "id": "miniature-hometown",
   "metadata": {},
   "outputs": [
    {
     "data": {
      "text/plain": [
       "1.0"
      ]
     },
     "execution_count": 33,
     "metadata": {},
     "output_type": "execute_result"
    }
   ],
   "source": [
    "from pyspark.ml import Pipeline\n",
    "from pyspark.ml.evaluation import MulticlassClassificationEvaluator\n",
    "\n",
    "pipeline = Pipeline(stages=[vec_assembler, lr])\n",
    "pipeline_model = pipeline.fit(train_df)\n",
    "predictions = pipeline_model.transform(test_df)\n",
    "\n",
    "evaluator = MulticlassClassificationEvaluator(labelCol=\"species_numeric\")\n",
    "evaluator.evaluate(predictions)"
   ]
  },
  {
   "cell_type": "code",
   "execution_count": null,
   "id": "boxed-theology",
   "metadata": {},
   "outputs": [],
   "source": []
  }
 ],
 "metadata": {
  "kernelspec": {
   "display_name": "Python 3",
   "language": "python",
   "name": "python3"
  },
  "language_info": {
   "codemirror_mode": {
    "name": "ipython",
    "version": 3
   },
   "file_extension": ".py",
   "mimetype": "text/x-python",
   "name": "python",
   "nbconvert_exporter": "python",
   "pygments_lexer": "ipython3",
   "version": "3.9.1"
  }
 },
 "nbformat": 4,
 "nbformat_minor": 5
}
