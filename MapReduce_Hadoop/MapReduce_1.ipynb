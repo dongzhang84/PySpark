{
 "cells": [
  {
   "cell_type": "markdown",
   "metadata": {},
   "source": [
    "# MRJOB\n",
    "\n",
    "https://pypi.org/project/mrjob/"
   ]
  },
  {
   "cell_type": "code",
   "execution_count": 1,
   "metadata": {},
   "outputs": [],
   "source": [
    "from mrjob.job import MRJob"
   ]
  },
  {
   "cell_type": "code",
   "execution_count": 2,
   "metadata": {},
   "outputs": [],
   "source": [
    "class MRRatingCounter(MRJob):\n",
    "    def mapper(self, key, line):\n",
    "        (userID, movieID, rating, timestamp) = line.split('\\t')\n",
    "        yield rating, 1\n",
    "\n",
    "    def reducer(self, rating, occurences):\n",
    "        yield rating, sum(occurences)"
   ]
  },
  {
   "cell_type": "code",
   "execution_count": 11,
   "metadata": {},
   "outputs": [],
   "source": [
    "if __name__ == '__main__' and '__file__' in globals():\n",
    "    \n",
    "    MRRatingCounter.run()"
   ]
  },
  {
   "cell_type": "code",
   "execution_count": 13,
   "metadata": {},
   "outputs": [
    {
     "name": "stdout",
     "output_type": "stream",
     "text": [
      "README        u.info        u1.test       u4.base       ua.test\r\n",
      "\u001b[31mallbut.pl\u001b[m\u001b[m*    u.item        u2.base       u4.test       ub.base\r\n",
      "\u001b[31mmku.sh\u001b[m\u001b[m*       u.occupation  u2.test       u5.base       ub.test\r\n",
      "u.data        u.user        u3.base       u5.test\r\n",
      "u.genre       u1.base       u3.test       ua.base\r\n"
     ]
    }
   ],
   "source": [
    "ls data/ml-100k"
   ]
  },
  {
   "cell_type": "code",
   "execution_count": 16,
   "metadata": {},
   "outputs": [
    {
     "name": "stdout",
     "output_type": "stream",
     "text": [
      "No configs found; falling back on auto-configuration\n",
      "No configs specified for inline runner\n",
      "Creating temp directory /var/folders/pj/nwngh0bx0n54cmd9t1tpl5gw0000gn/T/RatingsCounter.dongzhang.20200523.040146.377617\n",
      "Running step 1 of 1...\n",
      "job output is in /var/folders/pj/nwngh0bx0n54cmd9t1tpl5gw0000gn/T/RatingsCounter.dongzhang.20200523.040146.377617/output\n",
      "Streaming final output from /var/folders/pj/nwngh0bx0n54cmd9t1tpl5gw0000gn/T/RatingsCounter.dongzhang.20200523.040146.377617/output...\n",
      "\"4\"\t34174\n",
      "\"5\"\t21201\n",
      "\"3\"\t27145\n",
      "\"1\"\t6110\n",
      "\"2\"\t11370\n",
      "Removing temp directory /var/folders/pj/nwngh0bx0n54cmd9t1tpl5gw0000gn/T/RatingsCounter.dongzhang.20200523.040146.377617...\n"
     ]
    }
   ],
   "source": [
    "!python3 RatingsCounter.py data/ml-100k/u.data"
   ]
  },
  {
   "cell_type": "markdown",
   "metadata": {},
   "source": [
    "## Average Friends"
   ]
  },
  {
   "cell_type": "code",
   "execution_count": 18,
   "metadata": {},
   "outputs": [
    {
     "name": "stdout",
     "output_type": "stream",
     "text": [
      "01_RatingsCounter.ipynb  RatingsCounter.py\r\n",
      "FriendsByAge.py          \u001b[34mdata\u001b[m\u001b[m/\r\n"
     ]
    }
   ],
   "source": [
    "ls"
   ]
  },
  {
   "cell_type": "code",
   "execution_count": 17,
   "metadata": {},
   "outputs": [
    {
     "name": "stdout",
     "output_type": "stream",
     "text": [
      "fakefriends.csv  \u001b[34mml-100k\u001b[m\u001b[m/\r\n"
     ]
    }
   ],
   "source": [
    "ls data"
   ]
  },
  {
   "cell_type": "code",
   "execution_count": 19,
   "metadata": {},
   "outputs": [
    {
     "name": "stdout",
     "output_type": "stream",
     "text": [
      "No configs found; falling back on auto-configuration\n",
      "No configs specified for inline runner\n",
      "Creating temp directory /var/folders/pj/nwngh0bx0n54cmd9t1tpl5gw0000gn/T/FriendsByAge.dongzhang.20200526.204748.142876\n",
      "Running step 1 of 1...\n",
      "job output is in /var/folders/pj/nwngh0bx0n54cmd9t1tpl5gw0000gn/T/FriendsByAge.dongzhang.20200526.204748.142876/output\n",
      "Streaming final output from /var/folders/pj/nwngh0bx0n54cmd9t1tpl5gw0000gn/T/FriendsByAge.dongzhang.20200526.204748.142876/output...\n",
      "\"54\"\t278.0769230769231\n",
      "\"55\"\t295.53846153846155\n",
      "\"56\"\t306.6666666666667\n",
      "\"57\"\t258.8333333333333\n",
      "\"58\"\t116.54545454545455\n",
      "\"59\"\t220.0\n",
      "\"36\"\t246.6\n",
      "\"37\"\t249.33333333333334\n",
      "\"38\"\t193.53333333333333\n",
      "\"26\"\t242.05882352941177\n",
      "\"27\"\t228.125\n",
      "\"28\"\t209.1\n",
      "\"29\"\t215.91666666666666\n",
      "\"30\"\t235.8181818181818\n",
      "\"31\"\t267.25\n",
      "\"32\"\t207.9090909090909\n",
      "\"33\"\t325.3333333333333\n",
      "\"34\"\t245.5\n",
      "\"35\"\t211.625\n",
      "\"64\"\t281.3333333333333\n",
      "\"65\"\t298.2\n",
      "\"66\"\t276.44444444444446\n",
      "\"67\"\t214.625\n",
      "\"68\"\t269.6\n",
      "\"69\"\t235.2\n",
      "\"60\"\t202.71428571428572\n",
      "\"61\"\t256.22222222222223\n",
      "\"62\"\t220.76923076923077\n",
      "\"63\"\t384.0\n",
      "\"46\"\t223.69230769230768\n",
      "\"47\"\t233.22222222222223\n",
      "\"48\"\t281.4\n",
      "\"22\"\t206.42857142857142\n",
      "\"23\"\t246.3\n",
      "\"24\"\t233.8\n",
      "\"25\"\t197.45454545454547\n",
      "\"39\"\t169.28571428571428\n",
      "\"40\"\t250.8235294117647\n",
      "\"41\"\t268.55555555555554\n",
      "\"42\"\t303.5\n",
      "\"43\"\t230.57142857142858\n",
      "\"44\"\t282.1666666666667\n",
      "\"45\"\t309.53846153846155\n",
      "\"18\"\t343.375\n",
      "\"19\"\t213.27272727272728\n",
      "\"20\"\t165.0\n",
      "\"21\"\t350.875\n",
      "\"49\"\t184.66666666666666\n",
      "\"50\"\t254.6\n",
      "\"51\"\t302.14285714285717\n",
      "\"52\"\t340.6363636363636\n",
      "\"53\"\t222.85714285714286\n",
      "Removing temp directory /var/folders/pj/nwngh0bx0n54cmd9t1tpl5gw0000gn/T/FriendsByAge.dongzhang.20200526.204748.142876...\n"
     ]
    }
   ],
   "source": [
    "!python3 FriendsByAge.py data/fakefriends.csv"
   ]
  },
  {
   "cell_type": "code",
   "execution_count": 20,
   "metadata": {},
   "outputs": [],
   "source": [
    "class MRFriendsByAge(MRJob):\n",
    "\n",
    "    def mapper(self, _, line):\n",
    "        (ID, name, age, numFriends) = line.split(',')\n",
    "        yield age, float(numFriends)\n",
    "\n",
    "    def reducer(self, age, numFriends):\n",
    "        total = 0\n",
    "        numElements = 0\n",
    "        for x in numFriends:\n",
    "            total += x\n",
    "            numElements += 1\n",
    "            \n",
    "        yield age, total / numElements"
   ]
  },
  {
   "cell_type": "code",
   "execution_count": 38,
   "metadata": {},
   "outputs": [],
   "source": [
    "if __name__ == '__main__':\n",
    "    MRFriendsByAge(args=['data/fakefriends.csv'])\n",
    "    \n",
    "    "
   ]
  },
  {
   "cell_type": "code",
   "execution_count": 39,
   "metadata": {},
   "outputs": [
    {
     "data": {
      "text/plain": [
       "__main__.MRFriendsByAge"
      ]
     },
     "execution_count": 39,
     "metadata": {},
     "output_type": "execute_result"
    }
   ],
   "source": [
    "MRFriendsByAge"
   ]
  },
  {
   "cell_type": "code",
   "execution_count": 42,
   "metadata": {},
   "outputs": [
    {
     "ename": "ModuleNotFoundError",
     "evalue": "No module named 'wordcount'",
     "output_type": "error",
     "traceback": [
      "\u001b[0;31m---------------------------------------------------------------------------\u001b[0m",
      "\u001b[0;31mModuleNotFoundError\u001b[0m                       Traceback (most recent call last)",
      "\u001b[0;32m<ipython-input-42-3326f6534171>\u001b[0m in \u001b[0;36m<module>\u001b[0;34m\u001b[0m\n\u001b[0;32m----> 1\u001b[0;31m \u001b[0;32mimport\u001b[0m \u001b[0mwordcount\u001b[0m\u001b[0;34m\u001b[0m\u001b[0;34m\u001b[0m\u001b[0m\n\u001b[0m\u001b[1;32m      2\u001b[0m \u001b[0mreload\u001b[0m\u001b[0;34m(\u001b[0m\u001b[0mwordcount\u001b[0m\u001b[0;34m)\u001b[0m\u001b[0;34m\u001b[0m\u001b[0;34m\u001b[0m\u001b[0m\n\u001b[1;32m      3\u001b[0m \u001b[0;34m\u001b[0m\u001b[0m\n\u001b[1;32m      4\u001b[0m \u001b[0mmr_job\u001b[0m \u001b[0;34m=\u001b[0m \u001b[0mMRFriendsByAge\u001b[0m\u001b[0;34m(\u001b[0m\u001b[0margs\u001b[0m\u001b[0;34m=\u001b[0m\u001b[0;34m[\u001b[0m\u001b[0;34m'data/fakefriends.csv'\u001b[0m\u001b[0;34m]\u001b[0m\u001b[0;34m)\u001b[0m\u001b[0;34m\u001b[0m\u001b[0;34m\u001b[0m\u001b[0m\n\u001b[1;32m      5\u001b[0m \u001b[0;34m\u001b[0m\u001b[0m\n",
      "\u001b[0;31mModuleNotFoundError\u001b[0m: No module named 'wordcount'"
     ]
    }
   ],
   "source": [
    "import wordcount\n",
    "reload(wordcount)\n",
    "\n",
    "mr_job = MRFriendsByAge(args=['data/fakefriends.csv'])\n",
    "\n",
    "with mr_job.make_runner() as runner:\n",
    "    runner.run()\n",
    "    for line in runner.stream_output():\n",
    "        key, value = mr_job.parse_output_line(line)\n",
    "        print(key, value)"
   ]
  },
  {
   "cell_type": "code",
   "execution_count": 43,
   "metadata": {},
   "outputs": [
    {
     "name": "stdout",
     "output_type": "stream",
     "text": [
      "No configs found; falling back on auto-configuration\n",
      "No configs specified for inline runner\n",
      "Creating temp directory /var/folders/pj/nwngh0bx0n54cmd9t1tpl5gw0000gn/T/FriendsByAge.dongzhang.20200526.210025.434244\n",
      "Running step 1 of 1...\n",
      "job output is in /var/folders/pj/nwngh0bx0n54cmd9t1tpl5gw0000gn/T/FriendsByAge.dongzhang.20200526.210025.434244/output\n",
      "Streaming final output from /var/folders/pj/nwngh0bx0n54cmd9t1tpl5gw0000gn/T/FriendsByAge.dongzhang.20200526.210025.434244/output...\n",
      "Removing temp directory /var/folders/pj/nwngh0bx0n54cmd9t1tpl5gw0000gn/T/FriendsByAge.dongzhang.20200526.210025.434244...\n"
     ]
    }
   ],
   "source": [
    "!python3 FriendsByAge.py data/fakefriends.csv > output.txt"
   ]
  },
  {
   "cell_type": "markdown",
   "metadata": {},
   "source": [
    "## Min Temperature"
   ]
  },
  {
   "cell_type": "code",
   "execution_count": 44,
   "metadata": {},
   "outputs": [
    {
     "name": "stdout",
     "output_type": "stream",
     "text": [
      "1800.csv         fakefriends.csv  \u001b[34mml-100k\u001b[m\u001b[m/\r\n"
     ]
    }
   ],
   "source": [
    "ls data"
   ]
  },
  {
   "cell_type": "code",
   "execution_count": 45,
   "metadata": {},
   "outputs": [
    {
     "name": "stdout",
     "output_type": "stream",
     "text": [
      "FriendsByAge.py     MinTemperatures.py  \u001b[34mdata\u001b[m\u001b[m/\r\n",
      "MapReduce_1.ipynb   RatingsCounter.py   output.txt\r\n"
     ]
    }
   ],
   "source": [
    "ls"
   ]
  },
  {
   "cell_type": "code",
   "execution_count": 47,
   "metadata": {},
   "outputs": [
    {
     "name": "stdout",
     "output_type": "stream",
     "text": [
      "No configs found; falling back on auto-configuration\n",
      "No configs specified for inline runner\n",
      "Creating temp directory /var/folders/pj/nwngh0bx0n54cmd9t1tpl5gw0000gn/T/MinTemperatures.dongzhang.20200526.211109.701011\n",
      "Running step 1 of 1...\n",
      "job output is in /var/folders/pj/nwngh0bx0n54cmd9t1tpl5gw0000gn/T/MinTemperatures.dongzhang.20200526.211109.701011/output\n",
      "Streaming final output from /var/folders/pj/nwngh0bx0n54cmd9t1tpl5gw0000gn/T/MinTemperatures.dongzhang.20200526.211109.701011/output...\n",
      "\"ITE00100554\"\t5.359999999999999\n",
      "\"EZE00100082\"\t7.699999999999999\n",
      "Removing temp directory /var/folders/pj/nwngh0bx0n54cmd9t1tpl5gw0000gn/T/MinTemperatures.dongzhang.20200526.211109.701011...\n"
     ]
    }
   ],
   "source": [
    "!python3 MinTemperatures.py data/1800.csv"
   ]
  },
  {
   "cell_type": "code",
   "execution_count": 48,
   "metadata": {},
   "outputs": [
    {
     "name": "stdout",
     "output_type": "stream",
     "text": [
      "No configs found; falling back on auto-configuration\n",
      "No configs specified for inline runner\n",
      "Creating temp directory /var/folders/pj/nwngh0bx0n54cmd9t1tpl5gw0000gn/T/MaxTemperatures.dongzhang.20200526.211323.116315\n",
      "Running step 1 of 1...\n",
      "job output is in /var/folders/pj/nwngh0bx0n54cmd9t1tpl5gw0000gn/T/MaxTemperatures.dongzhang.20200526.211323.116315/output\n",
      "Streaming final output from /var/folders/pj/nwngh0bx0n54cmd9t1tpl5gw0000gn/T/MaxTemperatures.dongzhang.20200526.211323.116315/output...\n",
      "\"ITE00100554\"\t90.13999999999999\n",
      "\"EZE00100082\"\t90.13999999999999\n",
      "Removing temp directory /var/folders/pj/nwngh0bx0n54cmd9t1tpl5gw0000gn/T/MaxTemperatures.dongzhang.20200526.211323.116315...\n"
     ]
    }
   ],
   "source": [
    "!python3 MaxTemperatures.py data/1800.csv"
   ]
  },
  {
   "cell_type": "markdown",
   "metadata": {},
   "source": [
    "## Word Frequency"
   ]
  },
  {
   "cell_type": "code",
   "execution_count": 54,
   "metadata": {},
   "outputs": [
    {
     "name": "stdout",
     "output_type": "stream",
     "text": [
      "1800.csv         book.txt         fakefriends.csv  \u001b[34mml-100k\u001b[m\u001b[m/\r\n"
     ]
    }
   ],
   "source": [
    "ls data"
   ]
  },
  {
   "cell_type": "code",
   "execution_count": 55,
   "metadata": {},
   "outputs": [
    {
     "name": "stdout",
     "output_type": "stream",
     "text": [
      "FriendsByAge.py     MinTemperatures.py  WordFrequency.py    word_count.txt\r\n",
      "MapReduce_1.ipynb   RatingsCounter.py   \u001b[34mdata\u001b[m\u001b[m/\r\n",
      "MaxTemperatures.py  WordFreqSorted.py   output.txt\r\n"
     ]
    }
   ],
   "source": [
    "ls"
   ]
  },
  {
   "cell_type": "code",
   "execution_count": 52,
   "metadata": {},
   "outputs": [
    {
     "name": "stdout",
     "output_type": "stream",
     "text": [
      "No configs found; falling back on auto-configuration\n",
      "No configs specified for inline runner\n",
      "Creating temp directory /var/folders/pj/nwngh0bx0n54cmd9t1tpl5gw0000gn/T/WordFrequency.dongzhang.20200526.211552.316793\n",
      "Running step 1 of 1...\n",
      "job output is in /var/folders/pj/nwngh0bx0n54cmd9t1tpl5gw0000gn/T/WordFrequency.dongzhang.20200526.211552.316793/output\n",
      "Streaming final output from /var/folders/pj/nwngh0bx0n54cmd9t1tpl5gw0000gn/T/WordFrequency.dongzhang.20200526.211552.316793/output...\n",
      "Removing temp directory /var/folders/pj/nwngh0bx0n54cmd9t1tpl5gw0000gn/T/WordFrequency.dongzhang.20200526.211552.316793...\n"
     ]
    }
   ],
   "source": [
    "!python3 WordFrequency.py data/book.txt > word_count.txt"
   ]
  },
  {
   "cell_type": "code",
   "execution_count": 56,
   "metadata": {},
   "outputs": [],
   "source": [
    "less WordFreqSorted.py"
   ]
  },
  {
   "cell_type": "code",
   "execution_count": 57,
   "metadata": {},
   "outputs": [
    {
     "name": "stdout",
     "output_type": "stream",
     "text": [
      "No configs found; falling back on auto-configuration\n",
      "No configs specified for inline runner\n",
      "Creating temp directory /var/folders/pj/nwngh0bx0n54cmd9t1tpl5gw0000gn/T/WordFreqSorted.dongzhang.20200526.212609.023296\n",
      "Running step 1 of 2...\n",
      "Running step 2 of 2...\n",
      "job output is in /var/folders/pj/nwngh0bx0n54cmd9t1tpl5gw0000gn/T/WordFreqSorted.dongzhang.20200526.212609.023296/output\n",
      "Streaming final output from /var/folders/pj/nwngh0bx0n54cmd9t1tpl5gw0000gn/T/WordFreqSorted.dongzhang.20200526.212609.023296/output...\n",
      "Removing temp directory /var/folders/pj/nwngh0bx0n54cmd9t1tpl5gw0000gn/T/WordFreqSorted.dongzhang.20200526.212609.023296...\n"
     ]
    }
   ],
   "source": [
    "!python3 WordFreqSorted.py data/book.txt > word_pop.txt"
   ]
  },
  {
   "cell_type": "markdown",
   "metadata": {},
   "source": [
    "## Customer Orders"
   ]
  },
  {
   "cell_type": "code",
   "execution_count": 62,
   "metadata": {},
   "outputs": [
    {
     "name": "stdout",
     "output_type": "stream",
     "text": [
      "1800.csv             customer-orders.csv  \u001b[34mml-100k\u001b[m\u001b[m/\r\n",
      "book.txt             fakefriends.csv\r\n"
     ]
    }
   ],
   "source": [
    "ls data"
   ]
  },
  {
   "cell_type": "code",
   "execution_count": 60,
   "metadata": {},
   "outputs": [
    {
     "name": "stdout",
     "output_type": "stream",
     "text": [
      "FriendsByAge.py     MinTemperatures.py  WordFreqSorted.py   output.txt\r\n",
      "MapReduce_1.ipynb   RatingsCounter.py   WordFrequency.py    word_count.txt\r\n",
      "MaxTemperatures.py  SpendByCustomer.py  \u001b[34mdata\u001b[m\u001b[m/               word_pop.txt\r\n"
     ]
    }
   ],
   "source": [
    "ls"
   ]
  },
  {
   "cell_type": "code",
   "execution_count": 64,
   "metadata": {},
   "outputs": [
    {
     "name": "stdout",
     "output_type": "stream",
     "text": [
      "No configs found; falling back on auto-configuration\n",
      "No configs specified for inline runner\n",
      "Creating temp directory /var/folders/pj/nwngh0bx0n54cmd9t1tpl5gw0000gn/T/SpendByCustomer.dongzhang.20200526.213519.777153\n",
      "Running step 1 of 1...\n",
      "job output is in /var/folders/pj/nwngh0bx0n54cmd9t1tpl5gw0000gn/T/SpendByCustomer.dongzhang.20200526.213519.777153/output\n",
      "Streaming final output from /var/folders/pj/nwngh0bx0n54cmd9t1tpl5gw0000gn/T/SpendByCustomer.dongzhang.20200526.213519.777153/output...\n",
      "\"71\"\t5995.660000000003\n",
      "\"72\"\t5337.44\n",
      "\"73\"\t6206.199999999999\n",
      "\"74\"\t4647.129999999999\n",
      "\"75\"\t4178.500000000001\n",
      "\"76\"\t4904.209999999999\n",
      "\"77\"\t4327.729999999999\n",
      "\"78\"\t4524.509999999999\n",
      "\"79\"\t3790.570000000001\n",
      "\"8\"\t5517.240000000001\n",
      "\"80\"\t4727.860000000001\n",
      "\"81\"\t5112.709999999999\n",
      "\"82\"\t4812.489999999998\n",
      "\"83\"\t4635.799999999997\n",
      "\"4\"\t4815.050000000002\n",
      "\"40\"\t5186.429999999999\n",
      "\"41\"\t5637.62\n",
      "\"42\"\t5696.840000000003\n",
      "\"43\"\t5368.83\n",
      "\"44\"\t4756.8899999999985\n",
      "\"45\"\t3309.38\n",
      "\"21\"\t4707.41\n",
      "\"22\"\t5019.449999999999\n",
      "\"23\"\t4042.6499999999987\n",
      "\"24\"\t5259.920000000003\n",
      "\"25\"\t5057.610000000001\n",
      "\"26\"\t5250.4\n",
      "\"27\"\t4915.889999999999\n",
      "\"28\"\t5000.709999999998\n",
      "\"29\"\t5032.529999999999\n",
      "\"3\"\t4659.63\n",
      "\"30\"\t4990.72\n",
      "\"31\"\t4765.05\n",
      "\"32\"\t5496.050000000004\n",
      "\"33\"\t5254.659999999998\n",
      "\"34\"\t5330.8\n",
      "\"35\"\t5155.419999999999\n",
      "\"36\"\t4278.049999999997\n",
      "\"37\"\t4735.200000000002\n",
      "\"38\"\t4898.460000000002\n",
      "\"39\"\t6193.109999999999\n",
      "\"90\"\t5290.409999999998\n",
      "\"91\"\t4642.259999999999\n",
      "\"92\"\t5379.280000000002\n",
      "\"93\"\t5265.750000000001\n",
      "\"94\"\t4475.569999999999\n",
      "\"95\"\t4876.840000000002\n",
      "\"96\"\t3924.230000000001\n",
      "\"97\"\t5977.189999999995\n",
      "\"98\"\t4297.260000000001\n",
      "\"99\"\t4172.289999999998\n",
      "\"84\"\t4652.939999999999\n",
      "\"85\"\t5503.43\n",
      "\"86\"\t4908.81\n",
      "\"87\"\t5206.4\n",
      "\"88\"\t4830.549999999999\n",
      "\"89\"\t4851.479999999999\n",
      "\"9\"\t5322.649999999999\n",
      "\"59\"\t5642.89\n",
      "\"6\"\t5397.879999999998\n",
      "\"60\"\t5040.709999999999\n",
      "\"61\"\t5497.479999999998\n",
      "\"62\"\t5253.3200000000015\n",
      "\"63\"\t5415.150000000001\n",
      "\"64\"\t5288.689999999996\n",
      "\"15\"\t5413.510000000001\n",
      "\"16\"\t4979.06\n",
      "\"17\"\t5032.679999999999\n",
      "\"18\"\t4921.27\n",
      "\"19\"\t5059.4299999999985\n",
      "\"2\"\t5994.59\n",
      "\"20\"\t4836.859999999999\n",
      "\"46\"\t5963.109999999999\n",
      "\"47\"\t4316.299999999999\n",
      "\"48\"\t4384.33\n",
      "\"49\"\t4394.599999999999\n",
      "\"5\"\t4561.069999999999\n",
      "\"50\"\t4517.27\n",
      "\"51\"\t4975.22\n",
      "\"52\"\t5245.059999999999\n",
      "\"53\"\t4945.299999999999\n",
      "\"54\"\t6065.389999999999\n",
      "\"55\"\t5298.090000000002\n",
      "\"56\"\t4701.019999999999\n",
      "\"57\"\t4628.4\n",
      "\"58\"\t5437.7300000000005\n",
      "\"0\"\t5524.949999999998\n",
      "\"1\"\t4958.600000000001\n",
      "\"10\"\t4819.700000000001\n",
      "\"11\"\t5152.290000000002\n",
      "\"12\"\t4664.589999999998\n",
      "\"13\"\t4367.62\n",
      "\"14\"\t4735.030000000001\n",
      "\"65\"\t5140.3499999999985\n",
      "\"66\"\t4681.919999999999\n",
      "\"67\"\t4505.79\n",
      "\"68\"\t6375.449999999997\n",
      "\"69\"\t5123.010000000001\n",
      "\"7\"\t4755.070000000001\n",
      "\"70\"\t5368.249999999999\n",
      "Removing temp directory /var/folders/pj/nwngh0bx0n54cmd9t1tpl5gw0000gn/T/SpendByCustomer.dongzhang.20200526.213519.777153...\n"
     ]
    }
   ],
   "source": [
    "!python3 SpendByCustomer.py data/customer-orders.csv"
   ]
  },
  {
   "cell_type": "code",
   "execution_count": 63,
   "metadata": {},
   "outputs": [
    {
     "name": "stdout",
     "output_type": "stream",
     "text": [
      "No configs found; falling back on auto-configuration\n",
      "No configs specified for inline runner\n",
      "Creating temp directory /var/folders/pj/nwngh0bx0n54cmd9t1tpl5gw0000gn/T/SpendByCustomerSorted.dongzhang.20200526.213457.075165\n",
      "Running step 1 of 2...\n",
      "Running step 2 of 2...\n",
      "job output is in /var/folders/pj/nwngh0bx0n54cmd9t1tpl5gw0000gn/T/SpendByCustomerSorted.dongzhang.20200526.213457.075165/output\n",
      "Streaming final output from /var/folders/pj/nwngh0bx0n54cmd9t1tpl5gw0000gn/T/SpendByCustomerSorted.dongzhang.20200526.213457.075165/output...\n",
      "\"93\"\t\"5265.75\"\n",
      "\"64\"\t\"5288.69\"\n",
      "\"90\"\t\"5290.41\"\n",
      "\"55\"\t\"5298.09\"\n",
      "\"9\"\t\"5322.65\"\n",
      "\"34\"\t\"5330.80\"\n",
      "\"72\"\t\"5337.44\"\n",
      "\"70\"\t\"5368.25\"\n",
      "\"43\"\t\"5368.83\"\n",
      "\"92\"\t\"5379.28\"\n",
      "\"6\"\t\"5397.88\"\n",
      "\"15\"\t\"5413.51\"\n",
      "\"63\"\t\"5415.15\"\n",
      "\"58\"\t\"5437.73\"\n",
      "\"4\"\t\"4815.05\"\n",
      "\"10\"\t\"4819.70\"\n",
      "\"88\"\t\"4830.55\"\n",
      "\"20\"\t\"4836.86\"\n",
      "\"89\"\t\"4851.48\"\n",
      "\"95\"\t\"4876.84\"\n",
      "\"38\"\t\"4898.46\"\n",
      "\"67\"\t\"4505.79\"\n",
      "\"50\"\t\"4517.27\"\n",
      "\"78\"\t\"4524.51\"\n",
      "\"5\"\t\"4561.07\"\n",
      "\"57\"\t\"4628.40\"\n",
      "\"83\"\t\"4635.80\"\n",
      "\"91\"\t\"4642.26\"\n",
      "\"74\"\t\"4647.13\"\n",
      "\"84\"\t\"4652.94\"\n",
      "\"3\"\t\"4659.63\"\n",
      "\"12\"\t\"4664.59\"\n",
      "\"66\"\t\"4681.92\"\n",
      "\"56\"\t\"4701.02\"\n",
      "\"21\"\t\"4707.41\"\n",
      "\"80\"\t\"4727.86\"\n",
      "\"14\"\t\"4735.03\"\n",
      "\"37\"\t\"4735.20\"\n",
      "\"7\"\t\"4755.07\"\n",
      "\"44\"\t\"4756.89\"\n",
      "\"31\"\t\"4765.05\"\n",
      "\"82\"\t\"4812.49\"\n",
      "\"42\"\t\"5696.84\"\n",
      "\"46\"\t\"5963.11\"\n",
      "\"97\"\t\"5977.19\"\n",
      "\"2\"\t\"5994.59\"\n",
      "\"71\"\t\"5995.66\"\n",
      "\"54\"\t\"6065.39\"\n",
      "\"39\"\t\"6193.11\"\n",
      "\"73\"\t\"6206.20\"\n",
      "\"68\"\t\"6375.45\"\n",
      "\"32\"\t\"5496.05\"\n",
      "\"61\"\t\"5497.48\"\n",
      "\"85\"\t\"5503.43\"\n",
      "\"8\"\t\"5517.24\"\n",
      "\"0\"\t\"5524.95\"\n",
      "\"41\"\t\"5637.62\"\n",
      "\"59\"\t\"5642.89\"\n",
      "\"25\"\t\"5057.61\"\n",
      "\"19\"\t\"5059.43\"\n",
      "\"81\"\t\"5112.71\"\n",
      "\"69\"\t\"5123.01\"\n",
      "\"65\"\t\"5140.35\"\n",
      "\"11\"\t\"5152.29\"\n",
      "\"35\"\t\"5155.42\"\n",
      "\"98\"\t\"4297.26\"\n",
      "\"47\"\t\"4316.30\"\n",
      "\"77\"\t\"4327.73\"\n",
      "\"13\"\t\"4367.62\"\n",
      "\"48\"\t\"4384.33\"\n",
      "\"49\"\t\"4394.60\"\n",
      "\"94\"\t\"4475.57\"\n",
      "\"76\"\t\"4904.21\"\n",
      "\"86\"\t\"4908.81\"\n",
      "\"27\"\t\"4915.89\"\n",
      "\"18\"\t\"4921.27\"\n",
      "\"53\"\t\"4945.30\"\n",
      "\"1\"\t\"4958.60\"\n",
      "\"51\"\t\"4975.22\"\n",
      "\"16\"\t\"4979.06\"\n",
      "\"30\"\t\"4990.72\"\n",
      "\"28\"\t\"5000.71\"\n",
      "\"22\"\t\"5019.45\"\n",
      "\"29\"\t\"5032.53\"\n",
      "\"17\"\t\"5032.68\"\n",
      "\"60\"\t\"5040.71\"\n",
      "\"45\"\t\"3309.38\"\n",
      "\"79\"\t\"3790.57\"\n",
      "\"96\"\t\"3924.23\"\n",
      "\"23\"\t\"4042.65\"\n",
      "\"99\"\t\"4172.29\"\n",
      "\"75\"\t\"4178.50\"\n",
      "\"36\"\t\"4278.05\"\n",
      "\"40\"\t\"5186.43\"\n",
      "\"87\"\t\"5206.40\"\n",
      "\"52\"\t\"5245.06\"\n",
      "\"26\"\t\"5250.40\"\n",
      "\"62\"\t\"5253.32\"\n",
      "\"33\"\t\"5254.66\"\n",
      "\"24\"\t\"5259.92\"\n",
      "Removing temp directory /var/folders/pj/nwngh0bx0n54cmd9t1tpl5gw0000gn/T/SpendByCustomerSorted.dongzhang.20200526.213457.075165...\n"
     ]
    }
   ],
   "source": [
    "!python3 SpendByCustomerSorted.py data/customer-orders.csv"
   ]
  },
  {
   "cell_type": "code",
   "execution_count": null,
   "metadata": {},
   "outputs": [],
   "source": []
  }
 ],
 "metadata": {
  "kernelspec": {
   "display_name": "Python 3",
   "language": "python",
   "name": "python3"
  },
  "language_info": {
   "codemirror_mode": {
    "name": "ipython",
    "version": 3
   },
   "file_extension": ".py",
   "mimetype": "text/x-python",
   "name": "python",
   "nbconvert_exporter": "python",
   "pygments_lexer": "ipython3",
   "version": "3.8.2"
  }
 },
 "nbformat": 4,
 "nbformat_minor": 4
}
