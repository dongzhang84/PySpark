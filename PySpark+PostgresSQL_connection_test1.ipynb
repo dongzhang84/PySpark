{
 "cells": [
  {
   "cell_type": "code",
   "execution_count": 1,
   "id": "pharmaceutical-moscow",
   "metadata": {},
   "outputs": [],
   "source": [
    "import psycopg2\n",
    "import getpass"
   ]
  },
  {
   "cell_type": "code",
   "execution_count": 2,
   "id": "constant-color",
   "metadata": {},
   "outputs": [
    {
     "name": "stdout",
     "output_type": "stream",
     "text": [
      "Enter password:\n",
      "········\n"
     ]
    }
   ],
   "source": [
    "# input password\n",
    "\n",
    "print(\"Enter password:\")\n",
    "password = getpass.getpass()"
   ]
  },
  {
   "cell_type": "code",
   "execution_count": 3,
   "id": "specific-macintosh",
   "metadata": {},
   "outputs": [],
   "source": [
    "# try the connection\n",
    "\n",
    "conn = psycopg2.connect(host=\"localhost\", port = 5432, database=\"suppliers\", \n",
    "                        user=\"postgres\", password=password)"
   ]
  },
  {
   "cell_type": "code",
   "execution_count": 4,
   "id": "renewable-flesh",
   "metadata": {},
   "outputs": [
    {
     "data": {
      "text/plain": [
       "<connection object at 0x7fa67400a040; dsn: 'user=postgres password=xxx dbname=suppliers host=localhost port=5432', closed: 0>"
      ]
     },
     "execution_count": 4,
     "metadata": {},
     "output_type": "execute_result"
    }
   ],
   "source": [
    "conn"
   ]
  },
  {
   "cell_type": "code",
   "execution_count": 5,
   "id": "associate-estimate",
   "metadata": {},
   "outputs": [],
   "source": [
    "# Create a cursor object\n",
    "cur = conn.cursor()"
   ]
  },
  {
   "cell_type": "code",
   "execution_count": 6,
   "id": "focal-happening",
   "metadata": {},
   "outputs": [
    {
     "ename": "UndefinedTable",
     "evalue": "relation \"vendors\" does not exist\nLINE 1: SELECT * FROM vendors\n                      ^\n",
     "output_type": "error",
     "traceback": [
      "\u001b[0;31m---------------------------------------------------------------------------\u001b[0m",
      "\u001b[0;31mUndefinedTable\u001b[0m                            Traceback (most recent call last)",
      "\u001b[0;32m<ipython-input-6-13f9da36346e>\u001b[0m in \u001b[0;36m<module>\u001b[0;34m\u001b[0m\n\u001b[1;32m      1\u001b[0m \u001b[0;31m# A sample query of all data from the \"vendors\" table in the \"suppliers\" database\u001b[0m\u001b[0;34m\u001b[0m\u001b[0;34m\u001b[0m\u001b[0;34m\u001b[0m\u001b[0m\n\u001b[0;32m----> 2\u001b[0;31m \u001b[0mcur\u001b[0m\u001b[0;34m.\u001b[0m\u001b[0mexecute\u001b[0m\u001b[0;34m(\u001b[0m\u001b[0;34m\"\"\"SELECT * FROM vendors\"\"\"\u001b[0m\u001b[0;34m)\u001b[0m\u001b[0;34m\u001b[0m\u001b[0;34m\u001b[0m\u001b[0m\n\u001b[0m\u001b[1;32m      3\u001b[0m \u001b[0mquery_results\u001b[0m \u001b[0;34m=\u001b[0m \u001b[0mcur\u001b[0m\u001b[0;34m.\u001b[0m\u001b[0mfetchall\u001b[0m\u001b[0;34m(\u001b[0m\u001b[0;34m)\u001b[0m\u001b[0;34m\u001b[0m\u001b[0;34m\u001b[0m\u001b[0m\n\u001b[1;32m      4\u001b[0m \u001b[0mprint\u001b[0m\u001b[0;34m(\u001b[0m\u001b[0mquery_results\u001b[0m\u001b[0;34m)\u001b[0m\u001b[0;34m\u001b[0m\u001b[0;34m\u001b[0m\u001b[0m\n",
      "\u001b[0;31mUndefinedTable\u001b[0m: relation \"vendors\" does not exist\nLINE 1: SELECT * FROM vendors\n                      ^\n"
     ]
    }
   ],
   "source": [
    "# A sample query of all data from the \"vendors\" table in the \"suppliers\" database\n",
    "cur.execute(\"\"\"SELECT * FROM vendors\"\"\")\n",
    "query_results = cur.fetchall()\n",
    "print(query_results)"
   ]
  },
  {
   "cell_type": "code",
   "execution_count": 14,
   "id": "sunrise-burden",
   "metadata": {},
   "outputs": [
    {
     "ename": "DuplicateDatabase",
     "evalue": "database \"mydb\" already exists\n",
     "output_type": "error",
     "traceback": [
      "\u001b[0;31m---------------------------------------------------------------------------\u001b[0m",
      "\u001b[0;31mDuplicateDatabase\u001b[0m                         Traceback (most recent call last)",
      "\u001b[0;32m<ipython-input-14-ebebd1f3ccdb>\u001b[0m in \u001b[0;36m<module>\u001b[0;34m\u001b[0m\n\u001b[1;32m     12\u001b[0m \u001b[0;34m\u001b[0m\u001b[0m\n\u001b[1;32m     13\u001b[0m \u001b[0;31m#Creating a database\u001b[0m\u001b[0;34m\u001b[0m\u001b[0;34m\u001b[0m\u001b[0;34m\u001b[0m\u001b[0m\n\u001b[0;32m---> 14\u001b[0;31m \u001b[0mcursor\u001b[0m\u001b[0;34m.\u001b[0m\u001b[0mexecute\u001b[0m\u001b[0;34m(\u001b[0m\u001b[0msql\u001b[0m\u001b[0;34m)\u001b[0m\u001b[0;34m\u001b[0m\u001b[0;34m\u001b[0m\u001b[0m\n\u001b[0m\u001b[1;32m     15\u001b[0m \u001b[0mprint\u001b[0m\u001b[0;34m(\u001b[0m\u001b[0;34m\"Database created successfully........\"\u001b[0m\u001b[0;34m)\u001b[0m\u001b[0;34m\u001b[0m\u001b[0;34m\u001b[0m\u001b[0m\n\u001b[1;32m     16\u001b[0m \u001b[0;34m\u001b[0m\u001b[0m\n",
      "\u001b[0;31mDuplicateDatabase\u001b[0m: database \"mydb\" already exists\n"
     ]
    }
   ],
   "source": [
    "#establishing the connection\n",
    "conn = psycopg2.connect(\n",
    "   database=\"postgres\", user='postgres', password=password, port= '5432'\n",
    ")\n",
    "conn.autocommit = True\n",
    "\n",
    "#Creating a cursor object using the cursor() method\n",
    "cursor = conn.cursor()\n",
    "\n",
    "#Preparing query to create a database\n",
    "sql = '''CREATE database mydb''';\n",
    "\n",
    "#Creating a database\n",
    "cursor.execute(sql)\n",
    "print(\"Database created successfully........\")\n",
    "\n",
    "#Closing the connection\n",
    "conn.close()"
   ]
  },
  {
   "cell_type": "code",
   "execution_count": null,
   "id": "stupid-benjamin",
   "metadata": {},
   "outputs": [],
   "source": [
    "conn = psycopg2.connect(host=\"localhost\", port = 5432, database=\"mydb\", \n",
    "                        user=\"postgres\", password=password)\n",
    "\n",
    "#conn.close()"
   ]
  },
  {
   "cell_type": "code",
   "execution_count": 15,
   "id": "attractive-finding",
   "metadata": {},
   "outputs": [],
   "source": [
    "# Note: please change your database, username & password as per your own values\n",
    "conn_params_dic = {\n",
    "    \"host\"      : \"localhost\",\n",
    "    \"port\"      : \"5432\",\n",
    "    \"database\"  : \"mydb\",\n",
    "    \"user\"      : \"postgres\",\n",
    "    \"password\"  : password\n",
    "}"
   ]
  },
  {
   "cell_type": "code",
   "execution_count": 16,
   "id": "prostate-mambo",
   "metadata": {},
   "outputs": [
    {
     "name": "stdout",
     "output_type": "stream",
     "text": [
      "Connecting to the PostgreSQL...........\n",
      "Connection successful..................\n"
     ]
    }
   ],
   "source": [
    "print('Connecting to the PostgreSQL...........')\n",
    "conn = psycopg2.connect(**conn_params_dic)\n",
    "print(\"Connection successful..................\")"
   ]
  },
  {
   "cell_type": "markdown",
   "id": "perceived-antenna",
   "metadata": {},
   "source": [
    "### Load csv via Pandas"
   ]
  },
  {
   "cell_type": "code",
   "execution_count": 17,
   "id": "tender-juvenile",
   "metadata": {},
   "outputs": [
    {
     "name": "stdout",
     "output_type": "stream",
     "text": [
      "iris.csv               winequality-red.csv    winequality-white.csv\r\n"
     ]
    }
   ],
   "source": [
    "ls data"
   ]
  },
  {
   "cell_type": "code",
   "execution_count": 18,
   "id": "considerable-singapore",
   "metadata": {},
   "outputs": [],
   "source": [
    "import pandas as pd\n",
    "irisData = pd.read_csv('data/iris.csv')"
   ]
  },
  {
   "cell_type": "code",
   "execution_count": 33,
   "id": "concrete-psychology",
   "metadata": {},
   "outputs": [
    {
     "data": {
      "text/html": [
       "<div>\n",
       "<style scoped>\n",
       "    .dataframe tbody tr th:only-of-type {\n",
       "        vertical-align: middle;\n",
       "    }\n",
       "\n",
       "    .dataframe tbody tr th {\n",
       "        vertical-align: top;\n",
       "    }\n",
       "\n",
       "    .dataframe thead th {\n",
       "        text-align: right;\n",
       "    }\n",
       "</style>\n",
       "<table border=\"1\" class=\"dataframe\">\n",
       "  <thead>\n",
       "    <tr style=\"text-align: right;\">\n",
       "      <th></th>\n",
       "      <th>sepal.length</th>\n",
       "      <th>sepal.width</th>\n",
       "      <th>petal.length</th>\n",
       "      <th>petal.width</th>\n",
       "      <th>variety</th>\n",
       "    </tr>\n",
       "  </thead>\n",
       "  <tbody>\n",
       "    <tr>\n",
       "      <th>0</th>\n",
       "      <td>5.1</td>\n",
       "      <td>3.5</td>\n",
       "      <td>1.4</td>\n",
       "      <td>0.2</td>\n",
       "      <td>'Setosa'</td>\n",
       "    </tr>\n",
       "    <tr>\n",
       "      <th>1</th>\n",
       "      <td>4.9</td>\n",
       "      <td>3.0</td>\n",
       "      <td>1.4</td>\n",
       "      <td>0.2</td>\n",
       "      <td>'Setosa'</td>\n",
       "    </tr>\n",
       "    <tr>\n",
       "      <th>2</th>\n",
       "      <td>4.7</td>\n",
       "      <td>3.2</td>\n",
       "      <td>1.3</td>\n",
       "      <td>0.2</td>\n",
       "      <td>'Setosa'</td>\n",
       "    </tr>\n",
       "    <tr>\n",
       "      <th>3</th>\n",
       "      <td>4.6</td>\n",
       "      <td>3.1</td>\n",
       "      <td>1.5</td>\n",
       "      <td>0.2</td>\n",
       "      <td>'Setosa'</td>\n",
       "    </tr>\n",
       "    <tr>\n",
       "      <th>4</th>\n",
       "      <td>5.0</td>\n",
       "      <td>3.6</td>\n",
       "      <td>1.4</td>\n",
       "      <td>0.2</td>\n",
       "      <td>'Setosa'</td>\n",
       "    </tr>\n",
       "    <tr>\n",
       "      <th>...</th>\n",
       "      <td>...</td>\n",
       "      <td>...</td>\n",
       "      <td>...</td>\n",
       "      <td>...</td>\n",
       "      <td>...</td>\n",
       "    </tr>\n",
       "    <tr>\n",
       "      <th>145</th>\n",
       "      <td>6.7</td>\n",
       "      <td>3.0</td>\n",
       "      <td>5.2</td>\n",
       "      <td>2.3</td>\n",
       "      <td>'Virginica'</td>\n",
       "    </tr>\n",
       "    <tr>\n",
       "      <th>146</th>\n",
       "      <td>6.3</td>\n",
       "      <td>2.5</td>\n",
       "      <td>5.0</td>\n",
       "      <td>1.9</td>\n",
       "      <td>'Virginica'</td>\n",
       "    </tr>\n",
       "    <tr>\n",
       "      <th>147</th>\n",
       "      <td>6.5</td>\n",
       "      <td>3.0</td>\n",
       "      <td>5.2</td>\n",
       "      <td>2.0</td>\n",
       "      <td>'Virginica'</td>\n",
       "    </tr>\n",
       "    <tr>\n",
       "      <th>148</th>\n",
       "      <td>6.2</td>\n",
       "      <td>3.4</td>\n",
       "      <td>5.4</td>\n",
       "      <td>2.3</td>\n",
       "      <td>'Virginica'</td>\n",
       "    </tr>\n",
       "    <tr>\n",
       "      <th>149</th>\n",
       "      <td>5.9</td>\n",
       "      <td>3.0</td>\n",
       "      <td>5.1</td>\n",
       "      <td>1.8</td>\n",
       "      <td>'Virginica'</td>\n",
       "    </tr>\n",
       "  </tbody>\n",
       "</table>\n",
       "<p>150 rows × 5 columns</p>\n",
       "</div>"
      ],
      "text/plain": [
       "     sepal.length  sepal.width  petal.length  petal.width      variety\n",
       "0             5.1          3.5           1.4          0.2     'Setosa'\n",
       "1             4.9          3.0           1.4          0.2     'Setosa'\n",
       "2             4.7          3.2           1.3          0.2     'Setosa'\n",
       "3             4.6          3.1           1.5          0.2     'Setosa'\n",
       "4             5.0          3.6           1.4          0.2     'Setosa'\n",
       "..            ...          ...           ...          ...          ...\n",
       "145           6.7          3.0           5.2          2.3  'Virginica'\n",
       "146           6.3          2.5           5.0          1.9  'Virginica'\n",
       "147           6.5          3.0           5.2          2.0  'Virginica'\n",
       "148           6.2          3.4           5.4          2.3  'Virginica'\n",
       "149           5.9          3.0           5.1          1.8  'Virginica'\n",
       "\n",
       "[150 rows x 5 columns]"
      ]
     },
     "execution_count": 33,
     "metadata": {},
     "output_type": "execute_result"
    }
   ],
   "source": [
    "irisData"
   ]
  },
  {
   "cell_type": "code",
   "execution_count": 32,
   "id": "eastern-dictionary",
   "metadata": {},
   "outputs": [],
   "source": [
    "# fit SQL format\n",
    "\n",
    "irisData['variety'] = irisData.variety.apply(lambda x: \"'\"+x+\"'\")"
   ]
  },
  {
   "cell_type": "code",
   "execution_count": 20,
   "id": "imposed-landscape",
   "metadata": {},
   "outputs": [
    {
     "name": "stdout",
     "output_type": "stream",
     "text": [
      "iris table is created successfully................\n"
     ]
    }
   ],
   "source": [
    "cursor = conn.cursor();\n",
    "# Dropping table iris if exists\n",
    "cursor.execute(\"DROP TABLE IF EXISTS iris;\")\n",
    "        \n",
    "sql = '''CREATE TABLE iris(\n",
    "sepal_length DECIMAL(2,1) NOT NULL, \n",
    "sepal_width DECIMAL(2,1) NOT NULL, \n",
    "petal_length DECIMAL(2,1) NOT NULL, \n",
    "petal_width DECIMAL(2,1),\n",
    "species CHAR(11)NOT NULL\n",
    ")'''\n",
    "        \n",
    "# Creating a table\n",
    "cursor.execute(sql);\n",
    "print(\"iris table is created successfully................\")\n",
    "    \n",
    "# Closing the cursor & connection\n",
    "cursor.close()\n",
    "conn.close()"
   ]
  },
  {
   "cell_type": "code",
   "execution_count": 34,
   "id": "warming-smell",
   "metadata": {},
   "outputs": [],
   "source": [
    "iris_tuples = list(irisData.itertuples(index=False, name=None))\n",
    "iris_tuples_string = \",\".join([\"(\" + \",\".join([str(w) for w in wt]) + \")\" for wt in iris_tuples])"
   ]
  },
  {
   "cell_type": "code",
   "execution_count": 35,
   "id": "widespread-mayor",
   "metadata": {},
   "outputs": [
    {
     "data": {
      "text/plain": [
       "\"(5.1,3.5,1.4,0.2,'Setosa'),(4.9,3.0,1.4,0.2,'Setosa'),(4.7,3.2,1.3,0.2,'Setosa'),(4.6,3.1,1.5,0.2,'Setosa'),(5.0,3.6,1.4,0.2,'Setosa'),(5.4,3.9,1.7,0.4,'Setosa'),(4.6,3.4,1.4,0.3,'Setosa'),(5.0,3.4,1.5,0.2,'Setosa'),(4.4,2.9,1.4,0.2,'Setosa'),(4.9,3.1,1.5,0.1,'Setosa'),(5.4,3.7,1.5,0.2,'Setosa'),(4.8,3.4,1.6,0.2,'Setosa'),(4.8,3.0,1.4,0.1,'Setosa'),(4.3,3.0,1.1,0.1,'Setosa'),(5.8,4.0,1.2,0.2,'Setosa'),(5.7,4.4,1.5,0.4,'Setosa'),(5.4,3.9,1.3,0.4,'Setosa'),(5.1,3.5,1.4,0.3,'Setosa'),(5.7,3.8,1.7,0.3,'Setosa'),(5.1,3.8,1.5,0.3,'Setosa'),(5.4,3.4,1.7,0.2,'Setosa'),(5.1,3.7,1.5,0.4,'Setosa'),(4.6,3.6,1.0,0.2,'Setosa'),(5.1,3.3,1.7,0.5,'Setosa'),(4.8,3.4,1.9,0.2,'Setosa'),(5.0,3.0,1.6,0.2,'Setosa'),(5.0,3.4,1.6,0.4,'Setosa'),(5.2,3.5,1.5,0.2,'Setosa'),(5.2,3.4,1.4,0.2,'Setosa'),(4.7,3.2,1.6,0.2,'Setosa'),(4.8,3.1,1.6,0.2,'Setosa'),(5.4,3.4,1.5,0.4,'Setosa'),(5.2,4.1,1.5,0.1,'Setosa'),(5.5,4.2,1.4,0.2,'Setosa'),(4.9,3.1,1.5,0.2,'Setosa'),(5.0,3.2,1.2,0.2,'Setosa'),(5.5,3.5,1.3,0.2,'Setosa'),(4.9,3.6,1.4,0.1,'Setosa'),(4.4,3.0,1.3,0.2,'Setosa'),(5.1,3.4,1.5,0.2,'Setosa'),(5.0,3.5,1.3,0.3,'Setosa'),(4.5,2.3,1.3,0.3,'Setosa'),(4.4,3.2,1.3,0.2,'Setosa'),(5.0,3.5,1.6,0.6,'Setosa'),(5.1,3.8,1.9,0.4,'Setosa'),(4.8,3.0,1.4,0.3,'Setosa'),(5.1,3.8,1.6,0.2,'Setosa'),(4.6,3.2,1.4,0.2,'Setosa'),(5.3,3.7,1.5,0.2,'Setosa'),(5.0,3.3,1.4,0.2,'Setosa'),(7.0,3.2,4.7,1.4,'Versicolor'),(6.4,3.2,4.5,1.5,'Versicolor'),(6.9,3.1,4.9,1.5,'Versicolor'),(5.5,2.3,4.0,1.3,'Versicolor'),(6.5,2.8,4.6,1.5,'Versicolor'),(5.7,2.8,4.5,1.3,'Versicolor'),(6.3,3.3,4.7,1.6,'Versicolor'),(4.9,2.4,3.3,1.0,'Versicolor'),(6.6,2.9,4.6,1.3,'Versicolor'),(5.2,2.7,3.9,1.4,'Versicolor'),(5.0,2.0,3.5,1.0,'Versicolor'),(5.9,3.0,4.2,1.5,'Versicolor'),(6.0,2.2,4.0,1.0,'Versicolor'),(6.1,2.9,4.7,1.4,'Versicolor'),(5.6,2.9,3.6,1.3,'Versicolor'),(6.7,3.1,4.4,1.4,'Versicolor'),(5.6,3.0,4.5,1.5,'Versicolor'),(5.8,2.7,4.1,1.0,'Versicolor'),(6.2,2.2,4.5,1.5,'Versicolor'),(5.6,2.5,3.9,1.1,'Versicolor'),(5.9,3.2,4.8,1.8,'Versicolor'),(6.1,2.8,4.0,1.3,'Versicolor'),(6.3,2.5,4.9,1.5,'Versicolor'),(6.1,2.8,4.7,1.2,'Versicolor'),(6.4,2.9,4.3,1.3,'Versicolor'),(6.6,3.0,4.4,1.4,'Versicolor'),(6.8,2.8,4.8,1.4,'Versicolor'),(6.7,3.0,5.0,1.7,'Versicolor'),(6.0,2.9,4.5,1.5,'Versicolor'),(5.7,2.6,3.5,1.0,'Versicolor'),(5.5,2.4,3.8,1.1,'Versicolor'),(5.5,2.4,3.7,1.0,'Versicolor'),(5.8,2.7,3.9,1.2,'Versicolor'),(6.0,2.7,5.1,1.6,'Versicolor'),(5.4,3.0,4.5,1.5,'Versicolor'),(6.0,3.4,4.5,1.6,'Versicolor'),(6.7,3.1,4.7,1.5,'Versicolor'),(6.3,2.3,4.4,1.3,'Versicolor'),(5.6,3.0,4.1,1.3,'Versicolor'),(5.5,2.5,4.0,1.3,'Versicolor'),(5.5,2.6,4.4,1.2,'Versicolor'),(6.1,3.0,4.6,1.4,'Versicolor'),(5.8,2.6,4.0,1.2,'Versicolor'),(5.0,2.3,3.3,1.0,'Versicolor'),(5.6,2.7,4.2,1.3,'Versicolor'),(5.7,3.0,4.2,1.2,'Versicolor'),(5.7,2.9,4.2,1.3,'Versicolor'),(6.2,2.9,4.3,1.3,'Versicolor'),(5.1,2.5,3.0,1.1,'Versicolor'),(5.7,2.8,4.1,1.3,'Versicolor'),(6.3,3.3,6.0,2.5,'Virginica'),(5.8,2.7,5.1,1.9,'Virginica'),(7.1,3.0,5.9,2.1,'Virginica'),(6.3,2.9,5.6,1.8,'Virginica'),(6.5,3.0,5.8,2.2,'Virginica'),(7.6,3.0,6.6,2.1,'Virginica'),(4.9,2.5,4.5,1.7,'Virginica'),(7.3,2.9,6.3,1.8,'Virginica'),(6.7,2.5,5.8,1.8,'Virginica'),(7.2,3.6,6.1,2.5,'Virginica'),(6.5,3.2,5.1,2.0,'Virginica'),(6.4,2.7,5.3,1.9,'Virginica'),(6.8,3.0,5.5,2.1,'Virginica'),(5.7,2.5,5.0,2.0,'Virginica'),(5.8,2.8,5.1,2.4,'Virginica'),(6.4,3.2,5.3,2.3,'Virginica'),(6.5,3.0,5.5,1.8,'Virginica'),(7.7,3.8,6.7,2.2,'Virginica'),(7.7,2.6,6.9,2.3,'Virginica'),(6.0,2.2,5.0,1.5,'Virginica'),(6.9,3.2,5.7,2.3,'Virginica'),(5.6,2.8,4.9,2.0,'Virginica'),(7.7,2.8,6.7,2.0,'Virginica'),(6.3,2.7,4.9,1.8,'Virginica'),(6.7,3.3,5.7,2.1,'Virginica'),(7.2,3.2,6.0,1.8,'Virginica'),(6.2,2.8,4.8,1.8,'Virginica'),(6.1,3.0,4.9,1.8,'Virginica'),(6.4,2.8,5.6,2.1,'Virginica'),(7.2,3.0,5.8,1.6,'Virginica'),(7.4,2.8,6.1,1.9,'Virginica'),(7.9,3.8,6.4,2.0,'Virginica'),(6.4,2.8,5.6,2.2,'Virginica'),(6.3,2.8,5.1,1.5,'Virginica'),(6.1,2.6,5.6,1.4,'Virginica'),(7.7,3.0,6.1,2.3,'Virginica'),(6.3,3.4,5.6,2.4,'Virginica'),(6.4,3.1,5.5,1.8,'Virginica'),(6.0,3.0,4.8,1.8,'Virginica'),(6.9,3.1,5.4,2.1,'Virginica'),(6.7,3.1,5.6,2.4,'Virginica'),(6.9,3.1,5.1,2.3,'Virginica'),(5.8,2.7,5.1,1.9,'Virginica'),(6.8,3.2,5.9,2.3,'Virginica'),(6.7,3.3,5.7,2.5,'Virginica'),(6.7,3.0,5.2,2.3,'Virginica'),(6.3,2.5,5.0,1.9,'Virginica'),(6.5,3.0,5.2,2.0,'Virginica'),(6.2,3.4,5.4,2.3,'Virginica'),(5.9,3.0,5.1,1.8,'Virginica')\""
      ]
     },
     "execution_count": 35,
     "metadata": {},
     "output_type": "execute_result"
    }
   ],
   "source": [
    "iris_tuples_string"
   ]
  },
  {
   "cell_type": "code",
   "execution_count": 43,
   "id": "twelve-impact",
   "metadata": {},
   "outputs": [
    {
     "name": "stdout",
     "output_type": "stream",
     "text": [
      "Connecting to the PostgreSQL...........\n",
      "Connection successful..................\n"
     ]
    }
   ],
   "source": [
    "print('Connecting to the PostgreSQL...........')\n",
    "conn = psycopg2.connect(**conn_params_dic)\n",
    "print(\"Connection successful..................\")\n",
    "cursor = conn.cursor()\n",
    "#db_cursor.execute(\"USE TestDB;\")"
   ]
  },
  {
   "cell_type": "markdown",
   "id": "solid-overhead",
   "metadata": {},
   "source": []
  },
  {
   "cell_type": "code",
   "execution_count": 44,
   "id": "heated-inquiry",
   "metadata": {},
   "outputs": [],
   "source": [
    "cursor = conn.cursor();\n",
    "# Dropping table iris if exists\n",
    "cursor.execute(\"DROP TABLE IF EXISTS iris;\")\n",
    "        \n",
    "sql = '''CREATE TABLE iris(\n",
    "sepal_length DECIMAL(2,1) NOT NULL, \n",
    "sepal_width DECIMAL(2,1) NOT NULL, \n",
    "petal_length DECIMAL(2,1) NOT NULL, \n",
    "petal_width DECIMAL(2,1),\n",
    "species CHAR(11)NOT NULL\n",
    ")'''\n",
    "        \n",
    "# Creating a table\n",
    "cursor.execute(sql);\n",
    "cursor.execute(\"INSERT INTO iris(sepal_length, sepal_width, petal_length, \\\n",
    "                   petal_width, species) VALUES \" + iris_tuples_string + \";\")\n",
    "#cursor.execute(\"FLUSH TABLES;\")\n",
    "\n",
    "cursor.close()"
   ]
  },
  {
   "cell_type": "markdown",
   "id": "plastic-louisiana",
   "metadata": {},
   "source": [
    "### Load the table"
   ]
  },
  {
   "cell_type": "code",
   "execution_count": 45,
   "id": "impressed-batman",
   "metadata": {},
   "outputs": [
    {
     "name": "stdout",
     "output_type": "stream",
     "text": [
      "  sepal.length sepal.width petal.length petal.width      variety\n",
      "0          5.1         3.5          1.4         0.2  Setosa     \n",
      "1          4.9         3.0          1.4         0.2  Setosa     \n",
      "2          4.7         3.2          1.3         0.2  Setosa     \n",
      "3          4.6         3.1          1.5         0.2  Setosa     \n",
      "4          5.0         3.6          1.4         0.2  Setosa     \n"
     ]
    }
   ],
   "source": [
    "# declare a cursor object from the connection\n",
    "cursor = conn.cursor()\n",
    "\n",
    "# Execute query\n",
    "sql = \"SELECT * FROM iris\"\n",
    "cursor.execute(sql)\n",
    "\n",
    "# Fetch all the records\n",
    "tuples = cursor.fetchall()\n",
    "\n",
    "# Preparing list of columns for dataframe\n",
    "\n",
    "cols = list(irisData.columns)\n",
    "irisdf = pd.DataFrame(tuples,columns=cols)\n",
    "\n",
    "print(irisdf.head())\n",
    "\n",
    "# close the cursor object to avoid memory leaks\n",
    "cursor.close()\n",
    "\n",
    "# close the connection object\n",
    "conn.close()"
   ]
  },
  {
   "cell_type": "code",
   "execution_count": 46,
   "id": "statewide-threshold",
   "metadata": {},
   "outputs": [
    {
     "data": {
      "text/html": [
       "<div>\n",
       "<style scoped>\n",
       "    .dataframe tbody tr th:only-of-type {\n",
       "        vertical-align: middle;\n",
       "    }\n",
       "\n",
       "    .dataframe tbody tr th {\n",
       "        vertical-align: top;\n",
       "    }\n",
       "\n",
       "    .dataframe thead th {\n",
       "        text-align: right;\n",
       "    }\n",
       "</style>\n",
       "<table border=\"1\" class=\"dataframe\">\n",
       "  <thead>\n",
       "    <tr style=\"text-align: right;\">\n",
       "      <th></th>\n",
       "      <th>sepal.length</th>\n",
       "      <th>sepal.width</th>\n",
       "      <th>petal.length</th>\n",
       "      <th>petal.width</th>\n",
       "      <th>variety</th>\n",
       "    </tr>\n",
       "  </thead>\n",
       "  <tbody>\n",
       "    <tr>\n",
       "      <th>0</th>\n",
       "      <td>5.1</td>\n",
       "      <td>3.5</td>\n",
       "      <td>1.4</td>\n",
       "      <td>0.2</td>\n",
       "      <td>Setosa</td>\n",
       "    </tr>\n",
       "    <tr>\n",
       "      <th>1</th>\n",
       "      <td>4.9</td>\n",
       "      <td>3.0</td>\n",
       "      <td>1.4</td>\n",
       "      <td>0.2</td>\n",
       "      <td>Setosa</td>\n",
       "    </tr>\n",
       "    <tr>\n",
       "      <th>2</th>\n",
       "      <td>4.7</td>\n",
       "      <td>3.2</td>\n",
       "      <td>1.3</td>\n",
       "      <td>0.2</td>\n",
       "      <td>Setosa</td>\n",
       "    </tr>\n",
       "    <tr>\n",
       "      <th>3</th>\n",
       "      <td>4.6</td>\n",
       "      <td>3.1</td>\n",
       "      <td>1.5</td>\n",
       "      <td>0.2</td>\n",
       "      <td>Setosa</td>\n",
       "    </tr>\n",
       "    <tr>\n",
       "      <th>4</th>\n",
       "      <td>5.0</td>\n",
       "      <td>3.6</td>\n",
       "      <td>1.4</td>\n",
       "      <td>0.2</td>\n",
       "      <td>Setosa</td>\n",
       "    </tr>\n",
       "    <tr>\n",
       "      <th>...</th>\n",
       "      <td>...</td>\n",
       "      <td>...</td>\n",
       "      <td>...</td>\n",
       "      <td>...</td>\n",
       "      <td>...</td>\n",
       "    </tr>\n",
       "    <tr>\n",
       "      <th>145</th>\n",
       "      <td>6.7</td>\n",
       "      <td>3.0</td>\n",
       "      <td>5.2</td>\n",
       "      <td>2.3</td>\n",
       "      <td>Virginica</td>\n",
       "    </tr>\n",
       "    <tr>\n",
       "      <th>146</th>\n",
       "      <td>6.3</td>\n",
       "      <td>2.5</td>\n",
       "      <td>5.0</td>\n",
       "      <td>1.9</td>\n",
       "      <td>Virginica</td>\n",
       "    </tr>\n",
       "    <tr>\n",
       "      <th>147</th>\n",
       "      <td>6.5</td>\n",
       "      <td>3.0</td>\n",
       "      <td>5.2</td>\n",
       "      <td>2.0</td>\n",
       "      <td>Virginica</td>\n",
       "    </tr>\n",
       "    <tr>\n",
       "      <th>148</th>\n",
       "      <td>6.2</td>\n",
       "      <td>3.4</td>\n",
       "      <td>5.4</td>\n",
       "      <td>2.3</td>\n",
       "      <td>Virginica</td>\n",
       "    </tr>\n",
       "    <tr>\n",
       "      <th>149</th>\n",
       "      <td>5.9</td>\n",
       "      <td>3.0</td>\n",
       "      <td>5.1</td>\n",
       "      <td>1.8</td>\n",
       "      <td>Virginica</td>\n",
       "    </tr>\n",
       "  </tbody>\n",
       "</table>\n",
       "<p>150 rows × 5 columns</p>\n",
       "</div>"
      ],
      "text/plain": [
       "    sepal.length sepal.width petal.length petal.width      variety\n",
       "0            5.1         3.5          1.4         0.2  Setosa     \n",
       "1            4.9         3.0          1.4         0.2  Setosa     \n",
       "2            4.7         3.2          1.3         0.2  Setosa     \n",
       "3            4.6         3.1          1.5         0.2  Setosa     \n",
       "4            5.0         3.6          1.4         0.2  Setosa     \n",
       "..           ...         ...          ...         ...          ...\n",
       "145          6.7         3.0          5.2         2.3  Virginica  \n",
       "146          6.3         2.5          5.0         1.9  Virginica  \n",
       "147          6.5         3.0          5.2         2.0  Virginica  \n",
       "148          6.2         3.4          5.4         2.3  Virginica  \n",
       "149          5.9         3.0          5.1         1.8  Virginica  \n",
       "\n",
       "[150 rows x 5 columns]"
      ]
     },
     "execution_count": 46,
     "metadata": {},
     "output_type": "execute_result"
    }
   ],
   "source": [
    "irisdf"
   ]
  },
  {
   "cell_type": "code",
   "execution_count": null,
   "id": "coordinated-convention",
   "metadata": {},
   "outputs": [],
   "source": []
  }
 ],
 "metadata": {
  "kernelspec": {
   "display_name": "Python 3",
   "language": "python",
   "name": "python3"
  },
  "language_info": {
   "codemirror_mode": {
    "name": "ipython",
    "version": 3
   },
   "file_extension": ".py",
   "mimetype": "text/x-python",
   "name": "python",
   "nbconvert_exporter": "python",
   "pygments_lexer": "ipython3",
   "version": "3.9.1"
  }
 },
 "nbformat": 4,
 "nbformat_minor": 5
}
